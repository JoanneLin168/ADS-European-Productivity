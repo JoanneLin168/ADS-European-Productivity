{
 "cells": [
  {
   "cell_type": "code",
   "execution_count": 223,
   "metadata": {},
   "outputs": [],
   "source": [
    "import numpy as np\n",
    "import pandas as pd\n",
    "from sklearn.decomposition import PCA \n",
    "import os\n",
    "import sys\n",
    "sys.path.insert(0, os.path.abspath('../Libraries'))\n",
    "import countries \n",
    "import plotly.express as px\n",
    "import matplotlib.pyplot as plt\n"
   ]
  },
  {
   "cell_type": "code",
   "execution_count": 224,
   "metadata": {},
   "outputs": [],
   "source": [
    "#gather data sets\n",
    "\n",
    "education = pd.read_csv(\"../Datasets/cleaned_education.csv\")\n",
    "technology = pd.read_csv(\"../Datasets/cleaned_technology.csv\")\n",
    "esi = pd.read_csv(\"../Datasets/ESI_Clean.csv\", index_col=0)\n",
    "tax_rate = pd.read_csv(\"../Datasets/cleaned_unemploymentTaxRateDataset.csv\")\n",
    "productivity = pd.read_csv(\"../Datasets/cleaned_Productivity.csv\")"
   ]
  },
  {
   "attachments": {},
   "cell_type": "markdown",
   "metadata": {},
   "source": [
    "For this, I will end up converting all codes to ISO-3, so the following table will have to be changed\n"
   ]
  },
  {
   "cell_type": "code",
   "execution_count": 225,
   "metadata": {},
   "outputs": [
    {
     "data": {
      "text/html": [
       "<div>\n",
       "<style scoped>\n",
       "    .dataframe tbody tr th:only-of-type {\n",
       "        vertical-align: middle;\n",
       "    }\n",
       "\n",
       "    .dataframe tbody tr th {\n",
       "        vertical-align: top;\n",
       "    }\n",
       "\n",
       "    .dataframe thead th {\n",
       "        text-align: right;\n",
       "    }\n",
       "</style>\n",
       "<table border=\"1\" class=\"dataframe\">\n",
       "  <thead>\n",
       "    <tr style=\"text-align: right;\">\n",
       "      <th></th>\n",
       "      <th>COUNTRY</th>\n",
       "      <th>2005</th>\n",
       "      <th>2006</th>\n",
       "      <th>2007</th>\n",
       "      <th>2008</th>\n",
       "      <th>2009</th>\n",
       "      <th>2010</th>\n",
       "      <th>2011</th>\n",
       "      <th>2012</th>\n",
       "      <th>2013</th>\n",
       "      <th>2014</th>\n",
       "      <th>2015</th>\n",
       "      <th>2016</th>\n",
       "      <th>2017</th>\n",
       "      <th>2018</th>\n",
       "      <th>2019</th>\n",
       "      <th>2020</th>\n",
       "      <th>2021</th>\n",
       "    </tr>\n",
       "  </thead>\n",
       "  <tbody>\n",
       "    <tr>\n",
       "      <th>0</th>\n",
       "      <td>AT</td>\n",
       "      <td>83.0</td>\n",
       "      <td>82.9</td>\n",
       "      <td>82.4</td>\n",
       "      <td>81.7</td>\n",
       "      <td>79.9</td>\n",
       "      <td>80.4</td>\n",
       "      <td>74.8</td>\n",
       "      <td>74.8</td>\n",
       "      <td>74.6</td>\n",
       "      <td>74.3</td>\n",
       "      <td>73.9</td>\n",
       "      <td>72.0</td>\n",
       "      <td>72.1</td>\n",
       "      <td>71.7</td>\n",
       "      <td>71.2</td>\n",
       "      <td>70.5</td>\n",
       "      <td>70.1</td>\n",
       "    </tr>\n",
       "    <tr>\n",
       "      <th>1</th>\n",
       "      <td>BE</td>\n",
       "      <td>85.2</td>\n",
       "      <td>84.9</td>\n",
       "      <td>85.3</td>\n",
       "      <td>85.5</td>\n",
       "      <td>92.1</td>\n",
       "      <td>91.0</td>\n",
       "      <td>90.7</td>\n",
       "      <td>91.9</td>\n",
       "      <td>98.1</td>\n",
       "      <td>97.6</td>\n",
       "      <td>96.9</td>\n",
       "      <td>95.8</td>\n",
       "      <td>95.8</td>\n",
       "      <td>93.8</td>\n",
       "      <td>93.0</td>\n",
       "      <td>92.4</td>\n",
       "      <td>91.6</td>\n",
       "    </tr>\n",
       "    <tr>\n",
       "      <th>2</th>\n",
       "      <td>CZ</td>\n",
       "      <td>65.7</td>\n",
       "      <td>63.5</td>\n",
       "      <td>59.9</td>\n",
       "      <td>59.6</td>\n",
       "      <td>71.3</td>\n",
       "      <td>71.4</td>\n",
       "      <td>71.7</td>\n",
       "      <td>71.6</td>\n",
       "      <td>71.6</td>\n",
       "      <td>71.7</td>\n",
       "      <td>71.8</td>\n",
       "      <td>72.0</td>\n",
       "      <td>72.3</td>\n",
       "      <td>72.5</td>\n",
       "      <td>72.7</td>\n",
       "      <td>72.8</td>\n",
       "      <td>70.8</td>\n",
       "    </tr>\n",
       "    <tr>\n",
       "      <th>3</th>\n",
       "      <td>DE</td>\n",
       "      <td>75.0</td>\n",
       "      <td>75.6</td>\n",
       "      <td>74.8</td>\n",
       "      <td>74.5</td>\n",
       "      <td>75.2</td>\n",
       "      <td>73.5</td>\n",
       "      <td>73.3</td>\n",
       "      <td>73.3</td>\n",
       "      <td>73.0</td>\n",
       "      <td>73.1</td>\n",
       "      <td>73.1</td>\n",
       "      <td>73.2</td>\n",
       "      <td>73.3</td>\n",
       "      <td>73.2</td>\n",
       "      <td>73.2</td>\n",
       "      <td>73.0</td>\n",
       "      <td>72.8</td>\n",
       "    </tr>\n",
       "    <tr>\n",
       "      <th>4</th>\n",
       "      <td>DK</td>\n",
       "      <td>91.2</td>\n",
       "      <td>90.6</td>\n",
       "      <td>89.5</td>\n",
       "      <td>88.6</td>\n",
       "      <td>88.8</td>\n",
       "      <td>89.2</td>\n",
       "      <td>88.7</td>\n",
       "      <td>89.4</td>\n",
       "      <td>89.4</td>\n",
       "      <td>89.6</td>\n",
       "      <td>89.6</td>\n",
       "      <td>89.8</td>\n",
       "      <td>89.9</td>\n",
       "      <td>89.3</td>\n",
       "      <td>88.4</td>\n",
       "      <td>87.9</td>\n",
       "      <td>87.2</td>\n",
       "    </tr>\n",
       "  </tbody>\n",
       "</table>\n",
       "</div>"
      ],
      "text/plain": [
       "  COUNTRY  2005  2006  2007  2008  2009  2010  2011  2012  2013  2014  2015  \\\n",
       "0      AT  83.0  82.9  82.4  81.7  79.9  80.4  74.8  74.8  74.6  74.3  73.9   \n",
       "1      BE  85.2  84.9  85.3  85.5  92.1  91.0  90.7  91.9  98.1  97.6  96.9   \n",
       "2      CZ  65.7  63.5  59.9  59.6  71.3  71.4  71.7  71.6  71.6  71.7  71.8   \n",
       "3      DE  75.0  75.6  74.8  74.5  75.2  73.5  73.3  73.3  73.0  73.1  73.1   \n",
       "4      DK  91.2  90.6  89.5  88.6  88.8  89.2  88.7  89.4  89.4  89.6  89.6   \n",
       "\n",
       "   2016  2017  2018  2019  2020  2021  \n",
       "0  72.0  72.1  71.7  71.2  70.5  70.1  \n",
       "1  95.8  95.8  93.8  93.0  92.4  91.6  \n",
       "2  72.0  72.3  72.5  72.7  72.8  70.8  \n",
       "3  73.2  73.3  73.2  73.2  73.0  72.8  \n",
       "4  89.8  89.9  89.3  88.4  87.9  87.2  "
      ]
     },
     "execution_count": 225,
     "metadata": {},
     "output_type": "execute_result"
    }
   ],
   "source": [
    "tax_rate.head()"
   ]
  },
  {
   "attachments": {},
   "cell_type": "markdown",
   "metadata": {},
   "source": [
    "Furthermore, since the smallest dataset only runs from 2005-2018, in cleaning it is also required to drop any rows not in this range. This will be done for all datasets\n"
   ]
  },
  {
   "cell_type": "code",
   "execution_count": 226,
   "metadata": {},
   "outputs": [],
   "source": [
    "# use webscraper library to convert to ISO-3\n",
    "tax_rate = tax_rate.replace(to_replace=countries.get_alpha_2_list(), value = countries.get_alpha_3_list())\n",
    "# drop columns not in the range 2005-2018 and set the location column as the index\n",
    "productivity = productivity.drop(columns = [\"2000\",\"2001\",\"2002\",\"2003\",\"2004\",\"2019\",\"2020\",\"2021\",\"mean\"])\n",
    "productivity.set_index(\"LOCATION\", inplace=True)\n",
    "tax_rate = tax_rate.drop(columns=[\"2019\",\"2020\",\"2021\"])\n",
    "tax_rate = tax_rate.set_index(\"COUNTRY\")\n",
    "education = education.drop(columns=[\"2019\",\"2020\",\"2021\"])\n",
    "education = education.set_index(\"geo\")\n",
    "technology = technology.drop(columns=[\"2000\",\"2001\",\"2002\",\"2003\",\"2004\"])\n"
   ]
  },
  {
   "cell_type": "code",
   "execution_count": 227,
   "metadata": {},
   "outputs": [
    {
     "data": {
      "text/html": [
       "<div>\n",
       "<style scoped>\n",
       "    .dataframe tbody tr th:only-of-type {\n",
       "        vertical-align: middle;\n",
       "    }\n",
       "\n",
       "    .dataframe tbody tr th {\n",
       "        vertical-align: top;\n",
       "    }\n",
       "\n",
       "    .dataframe thead th {\n",
       "        text-align: right;\n",
       "    }\n",
       "</style>\n",
       "<table border=\"1\" class=\"dataframe\">\n",
       "  <thead>\n",
       "    <tr style=\"text-align: right;\">\n",
       "      <th></th>\n",
       "      <th>2005</th>\n",
       "      <th>2006</th>\n",
       "      <th>2007</th>\n",
       "      <th>2008</th>\n",
       "      <th>2009</th>\n",
       "      <th>2010</th>\n",
       "      <th>2011</th>\n",
       "      <th>2012</th>\n",
       "      <th>2013</th>\n",
       "      <th>2014</th>\n",
       "      <th>2015</th>\n",
       "      <th>2016</th>\n",
       "      <th>2017</th>\n",
       "      <th>2018</th>\n",
       "    </tr>\n",
       "    <tr>\n",
       "      <th>Country_Code</th>\n",
       "      <th></th>\n",
       "      <th></th>\n",
       "      <th></th>\n",
       "      <th></th>\n",
       "      <th></th>\n",
       "      <th></th>\n",
       "      <th></th>\n",
       "      <th></th>\n",
       "      <th></th>\n",
       "      <th></th>\n",
       "      <th></th>\n",
       "      <th></th>\n",
       "      <th></th>\n",
       "      <th></th>\n",
       "    </tr>\n",
       "  </thead>\n",
       "  <tbody>\n",
       "    <tr>\n",
       "      <th>AUS</th>\n",
       "      <td>0.577590</td>\n",
       "      <td>0.558321</td>\n",
       "      <td>0.557928</td>\n",
       "      <td>0.544748</td>\n",
       "      <td>0.546733</td>\n",
       "      <td>0.561768</td>\n",
       "      <td>0.575363</td>\n",
       "      <td>0.570554</td>\n",
       "      <td>0.572189</td>\n",
       "      <td>0.555543</td>\n",
       "      <td>0.558735</td>\n",
       "      <td>0.546425</td>\n",
       "      <td>0.536043</td>\n",
       "      <td>0.535987</td>\n",
       "    </tr>\n",
       "    <tr>\n",
       "      <th>AUT</th>\n",
       "      <td>0.506048</td>\n",
       "      <td>0.492319</td>\n",
       "      <td>0.501761</td>\n",
       "      <td>0.498783</td>\n",
       "      <td>0.497396</td>\n",
       "      <td>0.525531</td>\n",
       "      <td>0.539327</td>\n",
       "      <td>0.547373</td>\n",
       "      <td>0.540696</td>\n",
       "      <td>0.522309</td>\n",
       "      <td>0.530957</td>\n",
       "      <td>0.497000</td>\n",
       "      <td>0.498190</td>\n",
       "      <td>0.495123</td>\n",
       "    </tr>\n",
       "    <tr>\n",
       "      <th>BEL</th>\n",
       "      <td>0.474615</td>\n",
       "      <td>0.453861</td>\n",
       "      <td>0.459687</td>\n",
       "      <td>0.450338</td>\n",
       "      <td>0.456328</td>\n",
       "      <td>0.477225</td>\n",
       "      <td>0.486988</td>\n",
       "      <td>0.486720</td>\n",
       "      <td>0.483297</td>\n",
       "      <td>0.478380</td>\n",
       "      <td>0.480012</td>\n",
       "      <td>0.462487</td>\n",
       "      <td>0.454118</td>\n",
       "      <td>0.453876</td>\n",
       "    </tr>\n",
       "    <tr>\n",
       "      <th>BGR</th>\n",
       "      <td>0.375573</td>\n",
       "      <td>0.386792</td>\n",
       "      <td>0.411913</td>\n",
       "      <td>0.413827</td>\n",
       "      <td>0.416350</td>\n",
       "      <td>0.427244</td>\n",
       "      <td>0.432422</td>\n",
       "      <td>0.442906</td>\n",
       "      <td>0.441728</td>\n",
       "      <td>0.424637</td>\n",
       "      <td>0.426063</td>\n",
       "      <td>0.414307</td>\n",
       "      <td>0.418258</td>\n",
       "      <td>0.419256</td>\n",
       "    </tr>\n",
       "    <tr>\n",
       "      <th>CAN</th>\n",
       "      <td>0.547830</td>\n",
       "      <td>0.527691</td>\n",
       "      <td>0.522781</td>\n",
       "      <td>0.518057</td>\n",
       "      <td>0.521169</td>\n",
       "      <td>0.520733</td>\n",
       "      <td>0.525753</td>\n",
       "      <td>0.524708</td>\n",
       "      <td>0.519229</td>\n",
       "      <td>0.504916</td>\n",
       "      <td>0.508174</td>\n",
       "      <td>0.493125</td>\n",
       "      <td>0.494192</td>\n",
       "      <td>0.494861</td>\n",
       "    </tr>\n",
       "  </tbody>\n",
       "</table>\n",
       "</div>"
      ],
      "text/plain": [
       "                  2005      2006      2007      2008      2009      2010  \\\n",
       "Country_Code                                                               \n",
       "AUS           0.577590  0.558321  0.557928  0.544748  0.546733  0.561768   \n",
       "AUT           0.506048  0.492319  0.501761  0.498783  0.497396  0.525531   \n",
       "BEL           0.474615  0.453861  0.459687  0.450338  0.456328  0.477225   \n",
       "BGR           0.375573  0.386792  0.411913  0.413827  0.416350  0.427244   \n",
       "CAN           0.547830  0.527691  0.522781  0.518057  0.521169  0.520733   \n",
       "\n",
       "                  2011      2012      2013      2014      2015      2016  \\\n",
       "Country_Code                                                               \n",
       "AUS           0.575363  0.570554  0.572189  0.555543  0.558735  0.546425   \n",
       "AUT           0.539327  0.547373  0.540696  0.522309  0.530957  0.497000   \n",
       "BEL           0.486988  0.486720  0.483297  0.478380  0.480012  0.462487   \n",
       "BGR           0.432422  0.442906  0.441728  0.424637  0.426063  0.414307   \n",
       "CAN           0.525753  0.524708  0.519229  0.504916  0.508174  0.493125   \n",
       "\n",
       "                  2017      2018  \n",
       "Country_Code                      \n",
       "AUS           0.536043  0.535987  \n",
       "AUT           0.498190  0.495123  \n",
       "BEL           0.454118  0.453876  \n",
       "BGR           0.418258  0.419256  \n",
       "CAN           0.494192  0.494861  "
      ]
     },
     "execution_count": 227,
     "metadata": {},
     "output_type": "execute_result"
    }
   ],
   "source": [
    "technology = technology.set_index(\"Country_Code\")\n",
    "# explicitly make column names into strings\n",
    "technology.columns = [\"2005\",\"2006\",\"2007\",\"2008\",\"2009\",\"2010\",\"2011\",\"2012\",\"2013\",\"2014\",\"2015\",\"2016\",\"2017\",\"2018\"]\n",
    "technology.head()"
   ]
  },
  {
   "cell_type": "code",
   "execution_count": 228,
   "metadata": {},
   "outputs": [
    {
     "data": {
      "text/html": [
       "<div>\n",
       "<style scoped>\n",
       "    .dataframe tbody tr th:only-of-type {\n",
       "        vertical-align: middle;\n",
       "    }\n",
       "\n",
       "    .dataframe tbody tr th {\n",
       "        vertical-align: top;\n",
       "    }\n",
       "\n",
       "    .dataframe thead th {\n",
       "        text-align: right;\n",
       "    }\n",
       "</style>\n",
       "<table border=\"1\" class=\"dataframe\">\n",
       "  <thead>\n",
       "    <tr style=\"text-align: right;\">\n",
       "      <th></th>\n",
       "      <th>0</th>\n",
       "      <th>1</th>\n",
       "      <th>2</th>\n",
       "      <th>3</th>\n",
       "      <th>4</th>\n",
       "      <th>5</th>\n",
       "      <th>6</th>\n",
       "      <th>7</th>\n",
       "      <th>8</th>\n",
       "      <th>9</th>\n",
       "      <th>...</th>\n",
       "      <th>208</th>\n",
       "      <th>209</th>\n",
       "      <th>210</th>\n",
       "      <th>211</th>\n",
       "      <th>212</th>\n",
       "      <th>213</th>\n",
       "      <th>214</th>\n",
       "      <th>215</th>\n",
       "      <th>216</th>\n",
       "      <th>217</th>\n",
       "    </tr>\n",
       "  </thead>\n",
       "  <tbody>\n",
       "    <tr>\n",
       "      <th>Month-Year</th>\n",
       "      <td>Jan-05</td>\n",
       "      <td>Feb-05</td>\n",
       "      <td>Mar-05</td>\n",
       "      <td>Apr-05</td>\n",
       "      <td>May-05</td>\n",
       "      <td>Jun-05</td>\n",
       "      <td>Jul-05</td>\n",
       "      <td>Aug-05</td>\n",
       "      <td>Sep-05</td>\n",
       "      <td>Oct-05</td>\n",
       "      <td>...</td>\n",
       "      <td>May-22</td>\n",
       "      <td>Jun-22</td>\n",
       "      <td>Jul-22</td>\n",
       "      <td>Aug-22</td>\n",
       "      <td>Sep-22</td>\n",
       "      <td>Oct-22</td>\n",
       "      <td>Nov-22</td>\n",
       "      <td>Dec-22</td>\n",
       "      <td>Jan-23</td>\n",
       "      <td>Feb-23</td>\n",
       "    </tr>\n",
       "    <tr>\n",
       "      <th>EU.ESI</th>\n",
       "      <td>100.4</td>\n",
       "      <td>99.4</td>\n",
       "      <td>98.4</td>\n",
       "      <td>98.1</td>\n",
       "      <td>97.3</td>\n",
       "      <td>97.4</td>\n",
       "      <td>98.5</td>\n",
       "      <td>99.8</td>\n",
       "      <td>100.3</td>\n",
       "      <td>102.0</td>\n",
       "      <td>...</td>\n",
       "      <td>103.6</td>\n",
       "      <td>101.9</td>\n",
       "      <td>97.8</td>\n",
       "      <td>97.1</td>\n",
       "      <td>93.9</td>\n",
       "      <td>92.8</td>\n",
       "      <td>94.1</td>\n",
       "      <td>95.6</td>\n",
       "      <td>97.8</td>\n",
       "      <td>97.8</td>\n",
       "    </tr>\n",
       "    <tr>\n",
       "      <th>EA.ESI</th>\n",
       "      <td>100.1</td>\n",
       "      <td>98.9</td>\n",
       "      <td>97.9</td>\n",
       "      <td>97.8</td>\n",
       "      <td>96.7</td>\n",
       "      <td>96.9</td>\n",
       "      <td>98.2</td>\n",
       "      <td>99.2</td>\n",
       "      <td>99.9</td>\n",
       "      <td>101.9</td>\n",
       "      <td>...</td>\n",
       "      <td>104.2</td>\n",
       "      <td>103.0</td>\n",
       "      <td>98.6</td>\n",
       "      <td>97.8</td>\n",
       "      <td>94.4</td>\n",
       "      <td>93.8</td>\n",
       "      <td>95.1</td>\n",
       "      <td>97.1</td>\n",
       "      <td>99.8</td>\n",
       "      <td>99.7</td>\n",
       "    </tr>\n",
       "    <tr>\n",
       "      <th>BE.ESI</th>\n",
       "      <td>105.3</td>\n",
       "      <td>104.4</td>\n",
       "      <td>102.6</td>\n",
       "      <td>98.1</td>\n",
       "      <td>94.6</td>\n",
       "      <td>97.0</td>\n",
       "      <td>94.8</td>\n",
       "      <td>96.9</td>\n",
       "      <td>99.9</td>\n",
       "      <td>104.2</td>\n",
       "      <td>...</td>\n",
       "      <td>97.8</td>\n",
       "      <td>97.7</td>\n",
       "      <td>98.0</td>\n",
       "      <td>92.9</td>\n",
       "      <td>86.0</td>\n",
       "      <td>83.4</td>\n",
       "      <td>82.4</td>\n",
       "      <td>88.0</td>\n",
       "      <td>87.4</td>\n",
       "      <td>88.9</td>\n",
       "    </tr>\n",
       "    <tr>\n",
       "      <th>BG.ESI</th>\n",
       "      <td>112.4</td>\n",
       "      <td>106.2</td>\n",
       "      <td>106.3</td>\n",
       "      <td>108.1</td>\n",
       "      <td>108.7</td>\n",
       "      <td>112.4</td>\n",
       "      <td>109.9</td>\n",
       "      <td>101.7</td>\n",
       "      <td>107.3</td>\n",
       "      <td>103.4</td>\n",
       "      <td>...</td>\n",
       "      <td>95.0</td>\n",
       "      <td>98.7</td>\n",
       "      <td>100.0</td>\n",
       "      <td>99.4</td>\n",
       "      <td>99.4</td>\n",
       "      <td>100.1</td>\n",
       "      <td>103.4</td>\n",
       "      <td>103.5</td>\n",
       "      <td>101.6</td>\n",
       "      <td>102.1</td>\n",
       "    </tr>\n",
       "  </tbody>\n",
       "</table>\n",
       "<p>5 rows × 218 columns</p>\n",
       "</div>"
      ],
      "text/plain": [
       "                 0       1       2       3       4       5       6       7  \\\n",
       "Month-Year  Jan-05  Feb-05  Mar-05  Apr-05  May-05  Jun-05  Jul-05  Aug-05   \n",
       "EU.ESI       100.4    99.4    98.4    98.1    97.3    97.4    98.5    99.8   \n",
       "EA.ESI       100.1    98.9    97.9    97.8    96.7    96.9    98.2    99.2   \n",
       "BE.ESI       105.3   104.4   102.6    98.1    94.6    97.0    94.8    96.9   \n",
       "BG.ESI       112.4   106.2   106.3   108.1   108.7   112.4   109.9   101.7   \n",
       "\n",
       "                 8       9  ...     208     209     210     211     212  \\\n",
       "Month-Year  Sep-05  Oct-05  ...  May-22  Jun-22  Jul-22  Aug-22  Sep-22   \n",
       "EU.ESI       100.3   102.0  ...   103.6   101.9    97.8    97.1    93.9   \n",
       "EA.ESI        99.9   101.9  ...   104.2   103.0    98.6    97.8    94.4   \n",
       "BE.ESI        99.9   104.2  ...    97.8    97.7    98.0    92.9    86.0   \n",
       "BG.ESI       107.3   103.4  ...    95.0    98.7   100.0    99.4    99.4   \n",
       "\n",
       "               213     214     215     216     217  \n",
       "Month-Year  Oct-22  Nov-22  Dec-22  Jan-23  Feb-23  \n",
       "EU.ESI        92.8    94.1    95.6    97.8    97.8  \n",
       "EA.ESI        93.8    95.1    97.1    99.8    99.7  \n",
       "BE.ESI        83.4    82.4    88.0    87.4    88.9  \n",
       "BG.ESI       100.1   103.4   103.5   101.6   102.1  \n",
       "\n",
       "[5 rows x 218 columns]"
      ]
     },
     "execution_count": 228,
     "metadata": {},
     "output_type": "execute_result"
    }
   ],
   "source": [
    "esi.head()"
   ]
  },
  {
   "cell_type": "code",
   "execution_count": 229,
   "metadata": {},
   "outputs": [
    {
     "data": {
      "text/html": [
       "<div>\n",
       "<style scoped>\n",
       "    .dataframe tbody tr th:only-of-type {\n",
       "        vertical-align: middle;\n",
       "    }\n",
       "\n",
       "    .dataframe tbody tr th {\n",
       "        vertical-align: top;\n",
       "    }\n",
       "\n",
       "    .dataframe thead th {\n",
       "        text-align: right;\n",
       "    }\n",
       "</style>\n",
       "<table border=\"1\" class=\"dataframe\">\n",
       "  <thead>\n",
       "    <tr style=\"text-align: right;\">\n",
       "      <th>Month-Year</th>\n",
       "      <th>Jan-05</th>\n",
       "      <th>Feb-05</th>\n",
       "      <th>Mar-05</th>\n",
       "      <th>Apr-05</th>\n",
       "      <th>May-05</th>\n",
       "      <th>Jun-05</th>\n",
       "      <th>Jul-05</th>\n",
       "      <th>Aug-05</th>\n",
       "      <th>Sep-05</th>\n",
       "      <th>Oct-05</th>\n",
       "      <th>...</th>\n",
       "      <th>May-22</th>\n",
       "      <th>Jun-22</th>\n",
       "      <th>Jul-22</th>\n",
       "      <th>Aug-22</th>\n",
       "      <th>Sep-22</th>\n",
       "      <th>Oct-22</th>\n",
       "      <th>Nov-22</th>\n",
       "      <th>Dec-22</th>\n",
       "      <th>Jan-23</th>\n",
       "      <th>Feb-23</th>\n",
       "    </tr>\n",
       "  </thead>\n",
       "  <tbody>\n",
       "    <tr>\n",
       "      <th>EU.ESI</th>\n",
       "      <td>100.4</td>\n",
       "      <td>99.4</td>\n",
       "      <td>98.4</td>\n",
       "      <td>98.1</td>\n",
       "      <td>97.3</td>\n",
       "      <td>97.4</td>\n",
       "      <td>98.5</td>\n",
       "      <td>99.8</td>\n",
       "      <td>100.3</td>\n",
       "      <td>102.0</td>\n",
       "      <td>...</td>\n",
       "      <td>103.6</td>\n",
       "      <td>101.9</td>\n",
       "      <td>97.8</td>\n",
       "      <td>97.1</td>\n",
       "      <td>93.9</td>\n",
       "      <td>92.8</td>\n",
       "      <td>94.1</td>\n",
       "      <td>95.6</td>\n",
       "      <td>97.8</td>\n",
       "      <td>97.8</td>\n",
       "    </tr>\n",
       "    <tr>\n",
       "      <th>EA.ESI</th>\n",
       "      <td>100.1</td>\n",
       "      <td>98.9</td>\n",
       "      <td>97.9</td>\n",
       "      <td>97.8</td>\n",
       "      <td>96.7</td>\n",
       "      <td>96.9</td>\n",
       "      <td>98.2</td>\n",
       "      <td>99.2</td>\n",
       "      <td>99.9</td>\n",
       "      <td>101.9</td>\n",
       "      <td>...</td>\n",
       "      <td>104.2</td>\n",
       "      <td>103.0</td>\n",
       "      <td>98.6</td>\n",
       "      <td>97.8</td>\n",
       "      <td>94.4</td>\n",
       "      <td>93.8</td>\n",
       "      <td>95.1</td>\n",
       "      <td>97.1</td>\n",
       "      <td>99.8</td>\n",
       "      <td>99.7</td>\n",
       "    </tr>\n",
       "    <tr>\n",
       "      <th>BE.ESI</th>\n",
       "      <td>105.3</td>\n",
       "      <td>104.4</td>\n",
       "      <td>102.6</td>\n",
       "      <td>98.1</td>\n",
       "      <td>94.6</td>\n",
       "      <td>97.0</td>\n",
       "      <td>94.8</td>\n",
       "      <td>96.9</td>\n",
       "      <td>99.9</td>\n",
       "      <td>104.2</td>\n",
       "      <td>...</td>\n",
       "      <td>97.8</td>\n",
       "      <td>97.7</td>\n",
       "      <td>98.0</td>\n",
       "      <td>92.9</td>\n",
       "      <td>86.0</td>\n",
       "      <td>83.4</td>\n",
       "      <td>82.4</td>\n",
       "      <td>88.0</td>\n",
       "      <td>87.4</td>\n",
       "      <td>88.9</td>\n",
       "    </tr>\n",
       "    <tr>\n",
       "      <th>BG.ESI</th>\n",
       "      <td>112.4</td>\n",
       "      <td>106.2</td>\n",
       "      <td>106.3</td>\n",
       "      <td>108.1</td>\n",
       "      <td>108.7</td>\n",
       "      <td>112.4</td>\n",
       "      <td>109.9</td>\n",
       "      <td>101.7</td>\n",
       "      <td>107.3</td>\n",
       "      <td>103.4</td>\n",
       "      <td>...</td>\n",
       "      <td>95.0</td>\n",
       "      <td>98.7</td>\n",
       "      <td>100.0</td>\n",
       "      <td>99.4</td>\n",
       "      <td>99.4</td>\n",
       "      <td>100.1</td>\n",
       "      <td>103.4</td>\n",
       "      <td>103.5</td>\n",
       "      <td>101.6</td>\n",
       "      <td>102.1</td>\n",
       "    </tr>\n",
       "    <tr>\n",
       "      <th>CZ.ESI</th>\n",
       "      <td>108.9</td>\n",
       "      <td>108.6</td>\n",
       "      <td>105.4</td>\n",
       "      <td>105.2</td>\n",
       "      <td>108.0</td>\n",
       "      <td>105.9</td>\n",
       "      <td>110.2</td>\n",
       "      <td>106.9</td>\n",
       "      <td>109.1</td>\n",
       "      <td>110.0</td>\n",
       "      <td>...</td>\n",
       "      <td>97.0</td>\n",
       "      <td>95.0</td>\n",
       "      <td>89.5</td>\n",
       "      <td>87.7</td>\n",
       "      <td>89.5</td>\n",
       "      <td>83.9</td>\n",
       "      <td>82.2</td>\n",
       "      <td>83.3</td>\n",
       "      <td>88.5</td>\n",
       "      <td>92.0</td>\n",
       "    </tr>\n",
       "  </tbody>\n",
       "</table>\n",
       "<p>5 rows × 218 columns</p>\n",
       "</div>"
      ],
      "text/plain": [
       "Month-Year Jan-05 Feb-05 Mar-05 Apr-05 May-05 Jun-05 Jul-05 Aug-05 Sep-05  \\\n",
       "EU.ESI      100.4   99.4   98.4   98.1   97.3   97.4   98.5   99.8  100.3   \n",
       "EA.ESI      100.1   98.9   97.9   97.8   96.7   96.9   98.2   99.2   99.9   \n",
       "BE.ESI      105.3  104.4  102.6   98.1   94.6   97.0   94.8   96.9   99.9   \n",
       "BG.ESI      112.4  106.2  106.3  108.1  108.7  112.4  109.9  101.7  107.3   \n",
       "CZ.ESI      108.9  108.6  105.4  105.2  108.0  105.9  110.2  106.9  109.1   \n",
       "\n",
       "Month-Year Oct-05  ... May-22 Jun-22 Jul-22 Aug-22 Sep-22 Oct-22 Nov-22  \\\n",
       "EU.ESI      102.0  ...  103.6  101.9   97.8   97.1   93.9   92.8   94.1   \n",
       "EA.ESI      101.9  ...  104.2  103.0   98.6   97.8   94.4   93.8   95.1   \n",
       "BE.ESI      104.2  ...   97.8   97.7   98.0   92.9   86.0   83.4   82.4   \n",
       "BG.ESI      103.4  ...   95.0   98.7  100.0   99.4   99.4  100.1  103.4   \n",
       "CZ.ESI      110.0  ...   97.0   95.0   89.5   87.7   89.5   83.9   82.2   \n",
       "\n",
       "Month-Year Dec-22 Jan-23 Feb-23  \n",
       "EU.ESI       95.6   97.8   97.8  \n",
       "EA.ESI       97.1   99.8   99.7  \n",
       "BE.ESI       88.0   87.4   88.9  \n",
       "BG.ESI      103.5  101.6  102.1  \n",
       "CZ.ESI       83.3   88.5   92.0  \n",
       "\n",
       "[5 rows x 218 columns]"
      ]
     },
     "execution_count": 229,
     "metadata": {},
     "output_type": "execute_result"
    }
   ],
   "source": [
    "\n",
    "# set the column names correctly\n",
    "esi.columns=esi.iloc[0]\n",
    "\n",
    "# drop first column with the column names\n",
    "esi = esi.drop(index=\"Month-Year\", axis=0)\n",
    "esi.head()\n"
   ]
  },
  {
   "cell_type": "code",
   "execution_count": 230,
   "metadata": {},
   "outputs": [
    {
     "data": {
      "text/html": [
       "<div>\n",
       "<style scoped>\n",
       "    .dataframe tbody tr th:only-of-type {\n",
       "        vertical-align: middle;\n",
       "    }\n",
       "\n",
       "    .dataframe tbody tr th {\n",
       "        vertical-align: top;\n",
       "    }\n",
       "\n",
       "    .dataframe thead th {\n",
       "        text-align: right;\n",
       "    }\n",
       "</style>\n",
       "<table border=\"1\" class=\"dataframe\">\n",
       "  <thead>\n",
       "    <tr style=\"text-align: right;\">\n",
       "      <th></th>\n",
       "      <th>2005</th>\n",
       "      <th>2006</th>\n",
       "      <th>2007</th>\n",
       "      <th>2008</th>\n",
       "      <th>2009</th>\n",
       "      <th>2010</th>\n",
       "      <th>2011</th>\n",
       "      <th>2012</th>\n",
       "      <th>2013</th>\n",
       "      <th>2014</th>\n",
       "      <th>2015</th>\n",
       "      <th>2016</th>\n",
       "      <th>2017</th>\n",
       "      <th>2018</th>\n",
       "      <th>2019</th>\n",
       "      <th>2020</th>\n",
       "      <th>2021</th>\n",
       "      <th>2022</th>\n",
       "    </tr>\n",
       "  </thead>\n",
       "  <tbody>\n",
       "    <tr>\n",
       "      <th>EU.ESI</th>\n",
       "      <td>97.4</td>\n",
       "      <td>108.3</td>\n",
       "      <td>111.0</td>\n",
       "      <td>94.9</td>\n",
       "      <td>77.1</td>\n",
       "      <td>97.2</td>\n",
       "      <td>100.9</td>\n",
       "      <td>89.9</td>\n",
       "      <td>90.0</td>\n",
       "      <td>98.8</td>\n",
       "      <td>102.4</td>\n",
       "      <td>103.6</td>\n",
       "      <td>110.1</td>\n",
       "      <td>111.0</td>\n",
       "      <td>102.8</td>\n",
       "      <td>74.1</td>\n",
       "      <td>114.1</td>\n",
       "      <td>101.9</td>\n",
       "    </tr>\n",
       "    <tr>\n",
       "      <th>EA.ESI</th>\n",
       "      <td>96.9</td>\n",
       "      <td>108.0</td>\n",
       "      <td>110.6</td>\n",
       "      <td>94.6</td>\n",
       "      <td>76.8</td>\n",
       "      <td>96.5</td>\n",
       "      <td>101.3</td>\n",
       "      <td>89.8</td>\n",
       "      <td>89.6</td>\n",
       "      <td>98.5</td>\n",
       "      <td>102.4</td>\n",
       "      <td>103.4</td>\n",
       "      <td>109.9</td>\n",
       "      <td>110.8</td>\n",
       "      <td>102.5</td>\n",
       "      <td>75.2</td>\n",
       "      <td>115.2</td>\n",
       "      <td>103.0</td>\n",
       "    </tr>\n",
       "    <tr>\n",
       "      <th>BE.ESI</th>\n",
       "      <td>97.0</td>\n",
       "      <td>110.5</td>\n",
       "      <td>116.5</td>\n",
       "      <td>100.9</td>\n",
       "      <td>81.3</td>\n",
       "      <td>99.3</td>\n",
       "      <td>104.7</td>\n",
       "      <td>89.5</td>\n",
       "      <td>89.7</td>\n",
       "      <td>100.7</td>\n",
       "      <td>101.1</td>\n",
       "      <td>108.3</td>\n",
       "      <td>106.8</td>\n",
       "      <td>106.3</td>\n",
       "      <td>96.5</td>\n",
       "      <td>70.0</td>\n",
       "      <td>117.6</td>\n",
       "      <td>97.7</td>\n",
       "    </tr>\n",
       "    <tr>\n",
       "      <th>BG.ESI</th>\n",
       "      <td>112.4</td>\n",
       "      <td>111.2</td>\n",
       "      <td>120.4</td>\n",
       "      <td>118.4</td>\n",
       "      <td>87.2</td>\n",
       "      <td>86.4</td>\n",
       "      <td>91.9</td>\n",
       "      <td>93.8</td>\n",
       "      <td>90.0</td>\n",
       "      <td>96.7</td>\n",
       "      <td>100.6</td>\n",
       "      <td>102.3</td>\n",
       "      <td>104.8</td>\n",
       "      <td>106.1</td>\n",
       "      <td>99.4</td>\n",
       "      <td>74.2</td>\n",
       "      <td>99.5</td>\n",
       "      <td>98.7</td>\n",
       "    </tr>\n",
       "    <tr>\n",
       "      <th>CZ.ESI</th>\n",
       "      <td>105.9</td>\n",
       "      <td>112.9</td>\n",
       "      <td>114.6</td>\n",
       "      <td>104.0</td>\n",
       "      <td>81.0</td>\n",
       "      <td>96.6</td>\n",
       "      <td>94.5</td>\n",
       "      <td>87.9</td>\n",
       "      <td>87.0</td>\n",
       "      <td>99.3</td>\n",
       "      <td>104.6</td>\n",
       "      <td>103.7</td>\n",
       "      <td>105.9</td>\n",
       "      <td>108.1</td>\n",
       "      <td>102.1</td>\n",
       "      <td>66.6</td>\n",
       "      <td>104.8</td>\n",
       "      <td>95.0</td>\n",
       "    </tr>\n",
       "  </tbody>\n",
       "</table>\n",
       "</div>"
      ],
      "text/plain": [
       "         2005   2006   2007   2008  2009  2010   2011  2012  2013   2014  \\\n",
       "EU.ESI   97.4  108.3  111.0   94.9  77.1  97.2  100.9  89.9  90.0   98.8   \n",
       "EA.ESI   96.9  108.0  110.6   94.6  76.8  96.5  101.3  89.8  89.6   98.5   \n",
       "BE.ESI   97.0  110.5  116.5  100.9  81.3  99.3  104.7  89.5  89.7  100.7   \n",
       "BG.ESI  112.4  111.2  120.4  118.4  87.2  86.4   91.9  93.8  90.0   96.7   \n",
       "CZ.ESI  105.9  112.9  114.6  104.0  81.0  96.6   94.5  87.9  87.0   99.3   \n",
       "\n",
       "         2015   2016   2017   2018   2019  2020   2021   2022  \n",
       "EU.ESI  102.4  103.6  110.1  111.0  102.8  74.1  114.1  101.9  \n",
       "EA.ESI  102.4  103.4  109.9  110.8  102.5  75.2  115.2  103.0  \n",
       "BE.ESI  101.1  108.3  106.8  106.3   96.5  70.0  117.6   97.7  \n",
       "BG.ESI  100.6  102.3  104.8  106.1   99.4  74.2   99.5   98.7  \n",
       "CZ.ESI  104.6  103.7  105.9  108.1  102.1  66.6  104.8   95.0  "
      ]
     },
     "execution_count": 230,
     "metadata": {},
     "output_type": "execute_result"
    }
   ],
   "source": [
    "# finally, ESI has data for every month, so we pick one value per year to align\n",
    "# hmm... I think I will choose ... June!\n",
    "\n",
    "esi = esi.filter(regex=\"Jun\")\n",
    "\n",
    "esi.columns=[\"2005\",\"2006\",\"2007\",\"2008\",\"2009\",\"2010\",\"2011\",\"2012\",\"2013\",\"2014\",\"2015\",\"2016\",\"2017\",\"2018\",\"2019\",\"2020\",\"2021\",\"2022\"]\n",
    "esi.head()"
   ]
  },
  {
   "cell_type": "code",
   "execution_count": 231,
   "metadata": {},
   "outputs": [
    {
     "name": "stderr",
     "output_type": "stream",
     "text": [
      "C:\\Users\\harve\\AppData\\Local\\Temp\\ipykernel_308\\4158635517.py:2: FutureWarning:\n",
      "\n",
      "The default value of regex will change from True to False in a future version.\n",
      "\n"
     ]
    },
    {
     "data": {
      "text/html": [
       "<div>\n",
       "<style scoped>\n",
       "    .dataframe tbody tr th:only-of-type {\n",
       "        vertical-align: middle;\n",
       "    }\n",
       "\n",
       "    .dataframe tbody tr th {\n",
       "        vertical-align: top;\n",
       "    }\n",
       "\n",
       "    .dataframe thead th {\n",
       "        text-align: right;\n",
       "    }\n",
       "</style>\n",
       "<table border=\"1\" class=\"dataframe\">\n",
       "  <thead>\n",
       "    <tr style=\"text-align: right;\">\n",
       "      <th></th>\n",
       "      <th>2005</th>\n",
       "      <th>2006</th>\n",
       "      <th>2007</th>\n",
       "      <th>2008</th>\n",
       "      <th>2009</th>\n",
       "      <th>2010</th>\n",
       "      <th>2011</th>\n",
       "      <th>2012</th>\n",
       "      <th>2013</th>\n",
       "      <th>2014</th>\n",
       "      <th>2015</th>\n",
       "      <th>2016</th>\n",
       "      <th>2017</th>\n",
       "      <th>2018</th>\n",
       "      <th>2019</th>\n",
       "      <th>2020</th>\n",
       "      <th>2021</th>\n",
       "      <th>2022</th>\n",
       "    </tr>\n",
       "  </thead>\n",
       "  <tbody>\n",
       "    <tr>\n",
       "      <th>BE</th>\n",
       "      <td>97.0</td>\n",
       "      <td>110.5</td>\n",
       "      <td>116.5</td>\n",
       "      <td>100.9</td>\n",
       "      <td>81.3</td>\n",
       "      <td>99.3</td>\n",
       "      <td>104.7</td>\n",
       "      <td>89.5</td>\n",
       "      <td>89.7</td>\n",
       "      <td>100.7</td>\n",
       "      <td>101.1</td>\n",
       "      <td>108.3</td>\n",
       "      <td>106.8</td>\n",
       "      <td>106.3</td>\n",
       "      <td>96.5</td>\n",
       "      <td>70.0</td>\n",
       "      <td>117.6</td>\n",
       "      <td>97.7</td>\n",
       "    </tr>\n",
       "    <tr>\n",
       "      <th>BG</th>\n",
       "      <td>112.4</td>\n",
       "      <td>111.2</td>\n",
       "      <td>120.4</td>\n",
       "      <td>118.4</td>\n",
       "      <td>87.2</td>\n",
       "      <td>86.4</td>\n",
       "      <td>91.9</td>\n",
       "      <td>93.8</td>\n",
       "      <td>90.0</td>\n",
       "      <td>96.7</td>\n",
       "      <td>100.6</td>\n",
       "      <td>102.3</td>\n",
       "      <td>104.8</td>\n",
       "      <td>106.1</td>\n",
       "      <td>99.4</td>\n",
       "      <td>74.2</td>\n",
       "      <td>99.5</td>\n",
       "      <td>98.7</td>\n",
       "    </tr>\n",
       "    <tr>\n",
       "      <th>CZ</th>\n",
       "      <td>105.9</td>\n",
       "      <td>112.9</td>\n",
       "      <td>114.6</td>\n",
       "      <td>104.0</td>\n",
       "      <td>81.0</td>\n",
       "      <td>96.6</td>\n",
       "      <td>94.5</td>\n",
       "      <td>87.9</td>\n",
       "      <td>87.0</td>\n",
       "      <td>99.3</td>\n",
       "      <td>104.6</td>\n",
       "      <td>103.7</td>\n",
       "      <td>105.9</td>\n",
       "      <td>108.1</td>\n",
       "      <td>102.1</td>\n",
       "      <td>66.6</td>\n",
       "      <td>104.8</td>\n",
       "      <td>95.0</td>\n",
       "    </tr>\n",
       "    <tr>\n",
       "      <th>DK</th>\n",
       "      <td>100.2</td>\n",
       "      <td>114.9</td>\n",
       "      <td>100.7</td>\n",
       "      <td>87.4</td>\n",
       "      <td>85.8</td>\n",
       "      <td>109.6</td>\n",
       "      <td>104.4</td>\n",
       "      <td>90.6</td>\n",
       "      <td>98.4</td>\n",
       "      <td>97.8</td>\n",
       "      <td>102.1</td>\n",
       "      <td>105.7</td>\n",
       "      <td>111.2</td>\n",
       "      <td>111.4</td>\n",
       "      <td>102.8</td>\n",
       "      <td>76.5</td>\n",
       "      <td>114.1</td>\n",
       "      <td>88.5</td>\n",
       "    </tr>\n",
       "    <tr>\n",
       "      <th>DE</th>\n",
       "      <td>91.4</td>\n",
       "      <td>104.2</td>\n",
       "      <td>108.0</td>\n",
       "      <td>97.7</td>\n",
       "      <td>79.3</td>\n",
       "      <td>103.1</td>\n",
       "      <td>110.2</td>\n",
       "      <td>101.0</td>\n",
       "      <td>100.3</td>\n",
       "      <td>104.5</td>\n",
       "      <td>105.9</td>\n",
       "      <td>106.0</td>\n",
       "      <td>111.5</td>\n",
       "      <td>111.2</td>\n",
       "      <td>102.0</td>\n",
       "      <td>80.9</td>\n",
       "      <td>114.9</td>\n",
       "      <td>104.6</td>\n",
       "    </tr>\n",
       "  </tbody>\n",
       "</table>\n",
       "</div>"
      ],
      "text/plain": [
       "     2005   2006   2007   2008  2009   2010   2011   2012   2013   2014  \\\n",
       "BE   97.0  110.5  116.5  100.9  81.3   99.3  104.7   89.5   89.7  100.7   \n",
       "BG  112.4  111.2  120.4  118.4  87.2   86.4   91.9   93.8   90.0   96.7   \n",
       "CZ  105.9  112.9  114.6  104.0  81.0   96.6   94.5   87.9   87.0   99.3   \n",
       "DK  100.2  114.9  100.7   87.4  85.8  109.6  104.4   90.6   98.4   97.8   \n",
       "DE   91.4  104.2  108.0   97.7  79.3  103.1  110.2  101.0  100.3  104.5   \n",
       "\n",
       "     2015   2016   2017   2018   2019  2020   2021   2022  \n",
       "BE  101.1  108.3  106.8  106.3   96.5  70.0  117.6   97.7  \n",
       "BG  100.6  102.3  104.8  106.1   99.4  74.2   99.5   98.7  \n",
       "CZ  104.6  103.7  105.9  108.1  102.1  66.6  104.8   95.0  \n",
       "DK  102.1  105.7  111.2  111.4  102.8  76.5  114.1   88.5  \n",
       "DE  105.9  106.0  111.5  111.2  102.0  80.9  114.9  104.6  "
      ]
     },
     "execution_count": 231,
     "metadata": {},
     "output_type": "execute_result"
    }
   ],
   "source": [
    "# use regex to drop the .ESI suffix\n",
    "esi.index = esi.index.str.replace(r\".ESI\", \"\")\n",
    "esi.drop(labels=[\"EU\",\"EA\"], axis=0, inplace=True)\n",
    "esi.reset_index\n",
    "esi.head()\n"
   ]
  },
  {
   "cell_type": "code",
   "execution_count": 232,
   "metadata": {},
   "outputs": [
    {
     "data": {
      "text/html": [
       "<div>\n",
       "<style scoped>\n",
       "    .dataframe tbody tr th:only-of-type {\n",
       "        vertical-align: middle;\n",
       "    }\n",
       "\n",
       "    .dataframe tbody tr th {\n",
       "        vertical-align: top;\n",
       "    }\n",
       "\n",
       "    .dataframe thead th {\n",
       "        text-align: right;\n",
       "    }\n",
       "</style>\n",
       "<table border=\"1\" class=\"dataframe\">\n",
       "  <thead>\n",
       "    <tr style=\"text-align: right;\">\n",
       "      <th></th>\n",
       "      <th>2005</th>\n",
       "      <th>2006</th>\n",
       "      <th>2007</th>\n",
       "      <th>2008</th>\n",
       "      <th>2009</th>\n",
       "      <th>2010</th>\n",
       "      <th>2011</th>\n",
       "      <th>2012</th>\n",
       "      <th>2013</th>\n",
       "      <th>2014</th>\n",
       "      <th>2015</th>\n",
       "      <th>2016</th>\n",
       "      <th>2017</th>\n",
       "      <th>2018</th>\n",
       "    </tr>\n",
       "  </thead>\n",
       "  <tbody>\n",
       "    <tr>\n",
       "      <th>BEL</th>\n",
       "      <td>97.0</td>\n",
       "      <td>110.5</td>\n",
       "      <td>116.5</td>\n",
       "      <td>100.9</td>\n",
       "      <td>81.3</td>\n",
       "      <td>99.3</td>\n",
       "      <td>104.7</td>\n",
       "      <td>89.5</td>\n",
       "      <td>89.7</td>\n",
       "      <td>100.7</td>\n",
       "      <td>101.1</td>\n",
       "      <td>108.3</td>\n",
       "      <td>106.8</td>\n",
       "      <td>106.3</td>\n",
       "    </tr>\n",
       "    <tr>\n",
       "      <th>BGR</th>\n",
       "      <td>112.4</td>\n",
       "      <td>111.2</td>\n",
       "      <td>120.4</td>\n",
       "      <td>118.4</td>\n",
       "      <td>87.2</td>\n",
       "      <td>86.4</td>\n",
       "      <td>91.9</td>\n",
       "      <td>93.8</td>\n",
       "      <td>90.0</td>\n",
       "      <td>96.7</td>\n",
       "      <td>100.6</td>\n",
       "      <td>102.3</td>\n",
       "      <td>104.8</td>\n",
       "      <td>106.1</td>\n",
       "    </tr>\n",
       "    <tr>\n",
       "      <th>CZE</th>\n",
       "      <td>105.9</td>\n",
       "      <td>112.9</td>\n",
       "      <td>114.6</td>\n",
       "      <td>104.0</td>\n",
       "      <td>81.0</td>\n",
       "      <td>96.6</td>\n",
       "      <td>94.5</td>\n",
       "      <td>87.9</td>\n",
       "      <td>87.0</td>\n",
       "      <td>99.3</td>\n",
       "      <td>104.6</td>\n",
       "      <td>103.7</td>\n",
       "      <td>105.9</td>\n",
       "      <td>108.1</td>\n",
       "    </tr>\n",
       "    <tr>\n",
       "      <th>DNK</th>\n",
       "      <td>100.2</td>\n",
       "      <td>114.9</td>\n",
       "      <td>100.7</td>\n",
       "      <td>87.4</td>\n",
       "      <td>85.8</td>\n",
       "      <td>109.6</td>\n",
       "      <td>104.4</td>\n",
       "      <td>90.6</td>\n",
       "      <td>98.4</td>\n",
       "      <td>97.8</td>\n",
       "      <td>102.1</td>\n",
       "      <td>105.7</td>\n",
       "      <td>111.2</td>\n",
       "      <td>111.4</td>\n",
       "    </tr>\n",
       "    <tr>\n",
       "      <th>DEU</th>\n",
       "      <td>91.4</td>\n",
       "      <td>104.2</td>\n",
       "      <td>108.0</td>\n",
       "      <td>97.7</td>\n",
       "      <td>79.3</td>\n",
       "      <td>103.1</td>\n",
       "      <td>110.2</td>\n",
       "      <td>101.0</td>\n",
       "      <td>100.3</td>\n",
       "      <td>104.5</td>\n",
       "      <td>105.9</td>\n",
       "      <td>106.0</td>\n",
       "      <td>111.5</td>\n",
       "      <td>111.2</td>\n",
       "    </tr>\n",
       "  </tbody>\n",
       "</table>\n",
       "</div>"
      ],
      "text/plain": [
       "      2005   2006   2007   2008  2009   2010   2011   2012   2013   2014  \\\n",
       "BEL   97.0  110.5  116.5  100.9  81.3   99.3  104.7   89.5   89.7  100.7   \n",
       "BGR  112.4  111.2  120.4  118.4  87.2   86.4   91.9   93.8   90.0   96.7   \n",
       "CZE  105.9  112.9  114.6  104.0  81.0   96.6   94.5   87.9   87.0   99.3   \n",
       "DNK  100.2  114.9  100.7   87.4  85.8  109.6  104.4   90.6   98.4   97.8   \n",
       "DEU   91.4  104.2  108.0   97.7  79.3  103.1  110.2  101.0  100.3  104.5   \n",
       "\n",
       "      2015   2016   2017   2018  \n",
       "BEL  101.1  108.3  106.8  106.3  \n",
       "BGR  100.6  102.3  104.8  106.1  \n",
       "CZE  104.6  103.7  105.9  108.1  \n",
       "DNK  102.1  105.7  111.2  111.4  \n",
       "DEU  105.9  106.0  111.5  111.2  "
      ]
     },
     "execution_count": 232,
     "metadata": {},
     "output_type": "execute_result"
    }
   ],
   "source": [
    "# drops all codes not in the ISO-2 list, which are the entries for areas/regions like EU-wide data\n",
    "for code in esi.index:\n",
    "    if code not in countries.get_alpha_2_list():\n",
    "        esi = esi.drop(labels=code, axis = 0)\n",
    "\n",
    "# convert to ISO-3\n",
    "esi = esi.rename(countries.convert_alpha_2_to_3, axis=\"index\")\n",
    "# drop years that we don't use\n",
    "esi = esi.drop(columns=[\"2019\",\"2020\",\"2021\",\"2022\"])\n",
    "esi.head()\n"
   ]
  },
  {
   "cell_type": "code",
   "execution_count": 233,
   "metadata": {},
   "outputs": [],
   "source": [
    "#save variables for later\n",
    "cleaned_tech = technology\n",
    "cleaned_esi = esi\n",
    "cleaned_prod = productivity\n",
    "cleaned_tr = tax_rate\n",
    "cleaned_ed = education"
   ]
  },
  {
   "attachments": {},
   "cell_type": "markdown",
   "metadata": {},
   "source": [
    "Nnow I need to make a large table, doubly indexed by country and year\n"
   ]
  },
  {
   "cell_type": "code",
   "execution_count": 234,
   "metadata": {},
   "outputs": [
    {
     "data": {
      "text/html": [
       "<div>\n",
       "<style scoped>\n",
       "    .dataframe tbody tr th:only-of-type {\n",
       "        vertical-align: middle;\n",
       "    }\n",
       "\n",
       "    .dataframe tbody tr th {\n",
       "        vertical-align: top;\n",
       "    }\n",
       "\n",
       "    .dataframe thead tr th {\n",
       "        text-align: left;\n",
       "    }\n",
       "</style>\n",
       "<table border=\"1\" class=\"dataframe\">\n",
       "  <thead>\n",
       "    <tr>\n",
       "      <th></th>\n",
       "      <th colspan=\"10\" halign=\"left\">education</th>\n",
       "      <th>...</th>\n",
       "      <th colspan=\"10\" halign=\"left\">tax rate</th>\n",
       "    </tr>\n",
       "    <tr>\n",
       "      <th></th>\n",
       "      <th>2005</th>\n",
       "      <th>2006</th>\n",
       "      <th>2007</th>\n",
       "      <th>2008</th>\n",
       "      <th>2009</th>\n",
       "      <th>2010</th>\n",
       "      <th>2011</th>\n",
       "      <th>2012</th>\n",
       "      <th>2013</th>\n",
       "      <th>2014</th>\n",
       "      <th>...</th>\n",
       "      <th>2009</th>\n",
       "      <th>2010</th>\n",
       "      <th>2011</th>\n",
       "      <th>2012</th>\n",
       "      <th>2013</th>\n",
       "      <th>2014</th>\n",
       "      <th>2015</th>\n",
       "      <th>2016</th>\n",
       "      <th>2017</th>\n",
       "      <th>2018</th>\n",
       "    </tr>\n",
       "  </thead>\n",
       "  <tbody>\n",
       "    <tr>\n",
       "      <th>AUT</th>\n",
       "      <td>80.4</td>\n",
       "      <td>80.1</td>\n",
       "      <td>79.9</td>\n",
       "      <td>80.9</td>\n",
       "      <td>81.6</td>\n",
       "      <td>82.4</td>\n",
       "      <td>82.4</td>\n",
       "      <td>82.9</td>\n",
       "      <td>83.0</td>\n",
       "      <td>83.9</td>\n",
       "      <td>...</td>\n",
       "      <td>79.9</td>\n",
       "      <td>80.4</td>\n",
       "      <td>74.8</td>\n",
       "      <td>74.8</td>\n",
       "      <td>74.6</td>\n",
       "      <td>74.3</td>\n",
       "      <td>73.9</td>\n",
       "      <td>72.0</td>\n",
       "      <td>72.1</td>\n",
       "      <td>71.7</td>\n",
       "    </tr>\n",
       "    <tr>\n",
       "      <th>BEL</th>\n",
       "      <td>66.1</td>\n",
       "      <td>66.9</td>\n",
       "      <td>68.0</td>\n",
       "      <td>69.6</td>\n",
       "      <td>70.6</td>\n",
       "      <td>70.5</td>\n",
       "      <td>71.3</td>\n",
       "      <td>71.6</td>\n",
       "      <td>72.8</td>\n",
       "      <td>73.6</td>\n",
       "      <td>...</td>\n",
       "      <td>92.1</td>\n",
       "      <td>91.0</td>\n",
       "      <td>90.7</td>\n",
       "      <td>91.9</td>\n",
       "      <td>98.1</td>\n",
       "      <td>97.6</td>\n",
       "      <td>96.9</td>\n",
       "      <td>95.8</td>\n",
       "      <td>95.8</td>\n",
       "      <td>93.8</td>\n",
       "    </tr>\n",
       "    <tr>\n",
       "      <th>BGR</th>\n",
       "      <td>72.5</td>\n",
       "      <td>75.5</td>\n",
       "      <td>77.4</td>\n",
       "      <td>77.5</td>\n",
       "      <td>77.9</td>\n",
       "      <td>79.1</td>\n",
       "      <td>80.0</td>\n",
       "      <td>81.0</td>\n",
       "      <td>81.8</td>\n",
       "      <td>81.1</td>\n",
       "      <td>...</td>\n",
       "      <td>NaN</td>\n",
       "      <td>NaN</td>\n",
       "      <td>NaN</td>\n",
       "      <td>NaN</td>\n",
       "      <td>NaN</td>\n",
       "      <td>NaN</td>\n",
       "      <td>NaN</td>\n",
       "      <td>NaN</td>\n",
       "      <td>NaN</td>\n",
       "      <td>NaN</td>\n",
       "    </tr>\n",
       "    <tr>\n",
       "      <th>CHE</th>\n",
       "      <td>83.0</td>\n",
       "      <td>85.2</td>\n",
       "      <td>86.0</td>\n",
       "      <td>86.8</td>\n",
       "      <td>86.9</td>\n",
       "      <td>85.0</td>\n",
       "      <td>84.8</td>\n",
       "      <td>85.7</td>\n",
       "      <td>86.4</td>\n",
       "      <td>87.2</td>\n",
       "      <td>...</td>\n",
       "      <td>NaN</td>\n",
       "      <td>NaN</td>\n",
       "      <td>NaN</td>\n",
       "      <td>NaN</td>\n",
       "      <td>NaN</td>\n",
       "      <td>NaN</td>\n",
       "      <td>NaN</td>\n",
       "      <td>NaN</td>\n",
       "      <td>NaN</td>\n",
       "      <td>NaN</td>\n",
       "    </tr>\n",
       "    <tr>\n",
       "      <th>CYP</th>\n",
       "      <td>66.6</td>\n",
       "      <td>69.5</td>\n",
       "      <td>72.1</td>\n",
       "      <td>73.1</td>\n",
       "      <td>72.3</td>\n",
       "      <td>74.0</td>\n",
       "      <td>75.2</td>\n",
       "      <td>77.4</td>\n",
       "      <td>78.5</td>\n",
       "      <td>77.6</td>\n",
       "      <td>...</td>\n",
       "      <td>NaN</td>\n",
       "      <td>NaN</td>\n",
       "      <td>NaN</td>\n",
       "      <td>NaN</td>\n",
       "      <td>NaN</td>\n",
       "      <td>NaN</td>\n",
       "      <td>NaN</td>\n",
       "      <td>NaN</td>\n",
       "      <td>NaN</td>\n",
       "      <td>NaN</td>\n",
       "    </tr>\n",
       "  </tbody>\n",
       "</table>\n",
       "<p>5 rows × 70 columns</p>\n",
       "</div>"
      ],
      "text/plain": [
       "    education                                                        ...  \\\n",
       "         2005  2006  2007  2008  2009  2010  2011  2012  2013  2014  ...   \n",
       "AUT      80.4  80.1  79.9  80.9  81.6  82.4  82.4  82.9  83.0  83.9  ...   \n",
       "BEL      66.1  66.9  68.0  69.6  70.6  70.5  71.3  71.6  72.8  73.6  ...   \n",
       "BGR      72.5  75.5  77.4  77.5  77.9  79.1  80.0  81.0  81.8  81.1  ...   \n",
       "CHE      83.0  85.2  86.0  86.8  86.9  85.0  84.8  85.7  86.4  87.2  ...   \n",
       "CYP      66.6  69.5  72.1  73.1  72.3  74.0  75.2  77.4  78.5  77.6  ...   \n",
       "\n",
       "    tax rate                                                        \n",
       "        2009  2010  2011  2012  2013  2014  2015  2016  2017  2018  \n",
       "AUT     79.9  80.4  74.8  74.8  74.6  74.3  73.9  72.0  72.1  71.7  \n",
       "BEL     92.1  91.0  90.7  91.9  98.1  97.6  96.9  95.8  95.8  93.8  \n",
       "BGR      NaN   NaN   NaN   NaN   NaN   NaN   NaN   NaN   NaN   NaN  \n",
       "CHE      NaN   NaN   NaN   NaN   NaN   NaN   NaN   NaN   NaN   NaN  \n",
       "CYP      NaN   NaN   NaN   NaN   NaN   NaN   NaN   NaN   NaN   NaN  \n",
       "\n",
       "[5 rows x 70 columns]"
      ]
     },
     "execution_count": 234,
     "metadata": {},
     "output_type": "execute_result"
    }
   ],
   "source": [
    "# concatenate the datasets together sideways\n",
    "combined = pd.concat({\"education\":cleaned_ed, \"technology\":cleaned_tech, \"ESI\":cleaned_esi, \"productivity\": cleaned_prod, \"tax rate\":cleaned_tr}, axis=1)\n",
    "combined.head()"
   ]
  },
  {
   "cell_type": "code",
   "execution_count": 235,
   "metadata": {},
   "outputs": [
    {
     "data": {
      "text/html": [
       "<div>\n",
       "<style scoped>\n",
       "    .dataframe tbody tr th:only-of-type {\n",
       "        vertical-align: middle;\n",
       "    }\n",
       "\n",
       "    .dataframe tbody tr th {\n",
       "        vertical-align: top;\n",
       "    }\n",
       "\n",
       "    .dataframe thead tr th {\n",
       "        text-align: left;\n",
       "    }\n",
       "</style>\n",
       "<table border=\"1\" class=\"dataframe\">\n",
       "  <thead>\n",
       "    <tr>\n",
       "      <th></th>\n",
       "      <th colspan=\"10\" halign=\"left\">education</th>\n",
       "      <th>...</th>\n",
       "      <th colspan=\"10\" halign=\"left\">tax rate</th>\n",
       "    </tr>\n",
       "    <tr>\n",
       "      <th></th>\n",
       "      <th>2005</th>\n",
       "      <th>2006</th>\n",
       "      <th>2007</th>\n",
       "      <th>2008</th>\n",
       "      <th>2009</th>\n",
       "      <th>2010</th>\n",
       "      <th>2011</th>\n",
       "      <th>2012</th>\n",
       "      <th>2013</th>\n",
       "      <th>2014</th>\n",
       "      <th>...</th>\n",
       "      <th>2009</th>\n",
       "      <th>2010</th>\n",
       "      <th>2011</th>\n",
       "      <th>2012</th>\n",
       "      <th>2013</th>\n",
       "      <th>2014</th>\n",
       "      <th>2015</th>\n",
       "      <th>2016</th>\n",
       "      <th>2017</th>\n",
       "      <th>2018</th>\n",
       "    </tr>\n",
       "  </thead>\n",
       "  <tbody>\n",
       "    <tr>\n",
       "      <th>AUT</th>\n",
       "      <td>80.4</td>\n",
       "      <td>80.1</td>\n",
       "      <td>79.9</td>\n",
       "      <td>80.9</td>\n",
       "      <td>81.6</td>\n",
       "      <td>82.4</td>\n",
       "      <td>82.4</td>\n",
       "      <td>82.9</td>\n",
       "      <td>83.0</td>\n",
       "      <td>83.9</td>\n",
       "      <td>...</td>\n",
       "      <td>79.9</td>\n",
       "      <td>80.4</td>\n",
       "      <td>74.8</td>\n",
       "      <td>74.8</td>\n",
       "      <td>74.6</td>\n",
       "      <td>74.3</td>\n",
       "      <td>73.9</td>\n",
       "      <td>72.0</td>\n",
       "      <td>72.1</td>\n",
       "      <td>71.7</td>\n",
       "    </tr>\n",
       "    <tr>\n",
       "      <th>BEL</th>\n",
       "      <td>66.1</td>\n",
       "      <td>66.9</td>\n",
       "      <td>68.0</td>\n",
       "      <td>69.6</td>\n",
       "      <td>70.6</td>\n",
       "      <td>70.5</td>\n",
       "      <td>71.3</td>\n",
       "      <td>71.6</td>\n",
       "      <td>72.8</td>\n",
       "      <td>73.6</td>\n",
       "      <td>...</td>\n",
       "      <td>92.1</td>\n",
       "      <td>91.0</td>\n",
       "      <td>90.7</td>\n",
       "      <td>91.9</td>\n",
       "      <td>98.1</td>\n",
       "      <td>97.6</td>\n",
       "      <td>96.9</td>\n",
       "      <td>95.8</td>\n",
       "      <td>95.8</td>\n",
       "      <td>93.8</td>\n",
       "    </tr>\n",
       "    <tr>\n",
       "      <th>CZE</th>\n",
       "      <td>89.9</td>\n",
       "      <td>90.3</td>\n",
       "      <td>90.5</td>\n",
       "      <td>90.9</td>\n",
       "      <td>91.4</td>\n",
       "      <td>91.9</td>\n",
       "      <td>92.3</td>\n",
       "      <td>92.5</td>\n",
       "      <td>92.8</td>\n",
       "      <td>93.2</td>\n",
       "      <td>...</td>\n",
       "      <td>71.3</td>\n",
       "      <td>71.4</td>\n",
       "      <td>71.7</td>\n",
       "      <td>71.6</td>\n",
       "      <td>71.6</td>\n",
       "      <td>71.7</td>\n",
       "      <td>71.8</td>\n",
       "      <td>72.0</td>\n",
       "      <td>72.3</td>\n",
       "      <td>72.5</td>\n",
       "    </tr>\n",
       "    <tr>\n",
       "      <th>DEU</th>\n",
       "      <td>83.1</td>\n",
       "      <td>83.2</td>\n",
       "      <td>84.4</td>\n",
       "      <td>85.3</td>\n",
       "      <td>85.5</td>\n",
       "      <td>86.1</td>\n",
       "      <td>86.6</td>\n",
       "      <td>86.6</td>\n",
       "      <td>86.7</td>\n",
       "      <td>86.9</td>\n",
       "      <td>...</td>\n",
       "      <td>75.2</td>\n",
       "      <td>73.5</td>\n",
       "      <td>73.3</td>\n",
       "      <td>73.3</td>\n",
       "      <td>73.0</td>\n",
       "      <td>73.1</td>\n",
       "      <td>73.1</td>\n",
       "      <td>73.2</td>\n",
       "      <td>73.3</td>\n",
       "      <td>73.2</td>\n",
       "    </tr>\n",
       "    <tr>\n",
       "      <th>DNK</th>\n",
       "      <td>81.0</td>\n",
       "      <td>81.6</td>\n",
       "      <td>74.3</td>\n",
       "      <td>73.5</td>\n",
       "      <td>74.5</td>\n",
       "      <td>75.3</td>\n",
       "      <td>76.7</td>\n",
       "      <td>77.6</td>\n",
       "      <td>77.9</td>\n",
       "      <td>78.9</td>\n",
       "      <td>...</td>\n",
       "      <td>88.8</td>\n",
       "      <td>89.2</td>\n",
       "      <td>88.7</td>\n",
       "      <td>89.4</td>\n",
       "      <td>89.4</td>\n",
       "      <td>89.6</td>\n",
       "      <td>89.6</td>\n",
       "      <td>89.8</td>\n",
       "      <td>89.9</td>\n",
       "      <td>89.3</td>\n",
       "    </tr>\n",
       "  </tbody>\n",
       "</table>\n",
       "<p>5 rows × 70 columns</p>\n",
       "</div>"
      ],
      "text/plain": [
       "    education                                                        ...  \\\n",
       "         2005  2006  2007  2008  2009  2010  2011  2012  2013  2014  ...   \n",
       "AUT      80.4  80.1  79.9  80.9  81.6  82.4  82.4  82.9  83.0  83.9  ...   \n",
       "BEL      66.1  66.9  68.0  69.6  70.6  70.5  71.3  71.6  72.8  73.6  ...   \n",
       "CZE      89.9  90.3  90.5  90.9  91.4  91.9  92.3  92.5  92.8  93.2  ...   \n",
       "DEU      83.1  83.2  84.4  85.3  85.5  86.1  86.6  86.6  86.7  86.9  ...   \n",
       "DNK      81.0  81.6  74.3  73.5  74.5  75.3  76.7  77.6  77.9  78.9  ...   \n",
       "\n",
       "    tax rate                                                        \n",
       "        2009  2010  2011  2012  2013  2014  2015  2016  2017  2018  \n",
       "AUT     79.9  80.4  74.8  74.8  74.6  74.3  73.9  72.0  72.1  71.7  \n",
       "BEL     92.1  91.0  90.7  91.9  98.1  97.6  96.9  95.8  95.8  93.8  \n",
       "CZE     71.3  71.4  71.7  71.6  71.6  71.7  71.8  72.0  72.3  72.5  \n",
       "DEU     75.2  73.5  73.3  73.3  73.0  73.1  73.1  73.2  73.3  73.2  \n",
       "DNK     88.8  89.2  88.7  89.4  89.4  89.6  89.6  89.8  89.9  89.3  \n",
       "\n",
       "[5 rows x 70 columns]"
      ]
     },
     "execution_count": 235,
     "metadata": {},
     "output_type": "execute_result"
    }
   ],
   "source": [
    "# drop all rows with a nan in\n",
    "pca_no_nan = combined.dropna(axis=0)\n",
    "pca_no_nan.head()"
   ]
  },
  {
   "cell_type": "code",
   "execution_count": 236,
   "metadata": {},
   "outputs": [
    {
     "data": {
      "text/html": [
       "<div>\n",
       "<style scoped>\n",
       "    .dataframe tbody tr th:only-of-type {\n",
       "        vertical-align: middle;\n",
       "    }\n",
       "\n",
       "    .dataframe tbody tr th {\n",
       "        vertical-align: top;\n",
       "    }\n",
       "\n",
       "    .dataframe thead th {\n",
       "        text-align: right;\n",
       "    }\n",
       "</style>\n",
       "<table border=\"1\" class=\"dataframe\">\n",
       "  <thead>\n",
       "    <tr style=\"text-align: right;\">\n",
       "      <th></th>\n",
       "      <th>level_0</th>\n",
       "      <th>level_1</th>\n",
       "      <th>level_2</th>\n",
       "      <th>0</th>\n",
       "    </tr>\n",
       "  </thead>\n",
       "  <tbody>\n",
       "    <tr>\n",
       "      <th>0</th>\n",
       "      <td>education</td>\n",
       "      <td>2005</td>\n",
       "      <td>AUT</td>\n",
       "      <td>80.4</td>\n",
       "    </tr>\n",
       "    <tr>\n",
       "      <th>1</th>\n",
       "      <td>education</td>\n",
       "      <td>2005</td>\n",
       "      <td>BEL</td>\n",
       "      <td>66.1</td>\n",
       "    </tr>\n",
       "    <tr>\n",
       "      <th>2</th>\n",
       "      <td>education</td>\n",
       "      <td>2005</td>\n",
       "      <td>CZE</td>\n",
       "      <td>89.9</td>\n",
       "    </tr>\n",
       "    <tr>\n",
       "      <th>3</th>\n",
       "      <td>education</td>\n",
       "      <td>2005</td>\n",
       "      <td>DEU</td>\n",
       "      <td>83.1</td>\n",
       "    </tr>\n",
       "    <tr>\n",
       "      <th>4</th>\n",
       "      <td>education</td>\n",
       "      <td>2005</td>\n",
       "      <td>DNK</td>\n",
       "      <td>81.0</td>\n",
       "    </tr>\n",
       "    <tr>\n",
       "      <th>...</th>\n",
       "      <td>...</td>\n",
       "      <td>...</td>\n",
       "      <td>...</td>\n",
       "      <td>...</td>\n",
       "    </tr>\n",
       "    <tr>\n",
       "      <th>1325</th>\n",
       "      <td>tax rate</td>\n",
       "      <td>2018</td>\n",
       "      <td>POL</td>\n",
       "      <td>61.4</td>\n",
       "    </tr>\n",
       "    <tr>\n",
       "      <th>1326</th>\n",
       "      <td>tax rate</td>\n",
       "      <td>2018</td>\n",
       "      <td>PRT</td>\n",
       "      <td>80.4</td>\n",
       "    </tr>\n",
       "    <tr>\n",
       "      <th>1327</th>\n",
       "      <td>tax rate</td>\n",
       "      <td>2018</td>\n",
       "      <td>SVK</td>\n",
       "      <td>71.1</td>\n",
       "    </tr>\n",
       "    <tr>\n",
       "      <th>1328</th>\n",
       "      <td>tax rate</td>\n",
       "      <td>2018</td>\n",
       "      <td>SVN</td>\n",
       "      <td>82.2</td>\n",
       "    </tr>\n",
       "    <tr>\n",
       "      <th>1329</th>\n",
       "      <td>tax rate</td>\n",
       "      <td>2018</td>\n",
       "      <td>SWE</td>\n",
       "      <td>79.5</td>\n",
       "    </tr>\n",
       "  </tbody>\n",
       "</table>\n",
       "<p>1330 rows × 4 columns</p>\n",
       "</div>"
      ],
      "text/plain": [
       "        level_0 level_1 level_2     0\n",
       "0     education    2005     AUT  80.4\n",
       "1     education    2005     BEL  66.1\n",
       "2     education    2005     CZE  89.9\n",
       "3     education    2005     DEU  83.1\n",
       "4     education    2005     DNK  81.0\n",
       "...         ...     ...     ...   ...\n",
       "1325   tax rate    2018     POL  61.4\n",
       "1326   tax rate    2018     PRT  80.4\n",
       "1327   tax rate    2018     SVK  71.1\n",
       "1328   tax rate    2018     SVN  82.2\n",
       "1329   tax rate    2018     SWE  79.5\n",
       "\n",
       "[1330 rows x 4 columns]"
      ]
     },
     "execution_count": 236,
     "metadata": {},
     "output_type": "execute_result"
    }
   ],
   "source": [
    "# unstack the dataframe to swap the double index to a row\n",
    "unstacked = pd.DataFrame(pca_no_nan.unstack())\n",
    "unstacked.reset_index(inplace=True)\n",
    "# check that no value combinations have been missed\n",
    "unstacked.isnull().values.any() # returns false\n",
    "unstacked\n"
   ]
  },
  {
   "cell_type": "code",
   "execution_count": 237,
   "metadata": {},
   "outputs": [
    {
     "name": "stdout",
     "output_type": "stream",
     "text": [
      "False\n"
     ]
    },
    {
     "data": {
      "text/html": [
       "<div>\n",
       "<style scoped>\n",
       "    .dataframe tbody tr th:only-of-type {\n",
       "        vertical-align: middle;\n",
       "    }\n",
       "\n",
       "    .dataframe tbody tr th {\n",
       "        vertical-align: top;\n",
       "    }\n",
       "\n",
       "    .dataframe thead th {\n",
       "        text-align: right;\n",
       "    }\n",
       "</style>\n",
       "<table border=\"1\" class=\"dataframe\">\n",
       "  <thead>\n",
       "    <tr style=\"text-align: right;\">\n",
       "      <th></th>\n",
       "      <th>feature</th>\n",
       "      <th>ESI</th>\n",
       "      <th>education</th>\n",
       "      <th>productivity</th>\n",
       "      <th>tax rate</th>\n",
       "      <th>technology</th>\n",
       "    </tr>\n",
       "    <tr>\n",
       "      <th>country</th>\n",
       "      <th>year</th>\n",
       "      <th></th>\n",
       "      <th></th>\n",
       "      <th></th>\n",
       "      <th></th>\n",
       "      <th></th>\n",
       "    </tr>\n",
       "  </thead>\n",
       "  <tbody>\n",
       "    <tr>\n",
       "      <th rowspan=\"5\" valign=\"top\">AUT</th>\n",
       "      <th>2005</th>\n",
       "      <td>97.1</td>\n",
       "      <td>80.4</td>\n",
       "      <td>60.63234</td>\n",
       "      <td>83.0</td>\n",
       "      <td>0.506048</td>\n",
       "    </tr>\n",
       "    <tr>\n",
       "      <th>2006</th>\n",
       "      <td>109.4</td>\n",
       "      <td>80.1</td>\n",
       "      <td>62.218785</td>\n",
       "      <td>82.9</td>\n",
       "      <td>0.492319</td>\n",
       "    </tr>\n",
       "    <tr>\n",
       "      <th>2007</th>\n",
       "      <td>114.2</td>\n",
       "      <td>79.9</td>\n",
       "      <td>63.814049</td>\n",
       "      <td>82.4</td>\n",
       "      <td>0.501761</td>\n",
       "    </tr>\n",
       "    <tr>\n",
       "      <th>2008</th>\n",
       "      <td>96.1</td>\n",
       "      <td>80.9</td>\n",
       "      <td>63.814456</td>\n",
       "      <td>81.7</td>\n",
       "      <td>0.498783</td>\n",
       "    </tr>\n",
       "    <tr>\n",
       "      <th>2009</th>\n",
       "      <td>76.0</td>\n",
       "      <td>81.6</td>\n",
       "      <td>63.363388</td>\n",
       "      <td>79.9</td>\n",
       "      <td>0.497396</td>\n",
       "    </tr>\n",
       "    <tr>\n",
       "      <th>...</th>\n",
       "      <th>...</th>\n",
       "      <td>...</td>\n",
       "      <td>...</td>\n",
       "      <td>...</td>\n",
       "      <td>...</td>\n",
       "      <td>...</td>\n",
       "    </tr>\n",
       "    <tr>\n",
       "      <th rowspan=\"5\" valign=\"top\">SWE</th>\n",
       "      <th>2014</th>\n",
       "      <td>102.2</td>\n",
       "      <td>83.7</td>\n",
       "      <td>67.152902</td>\n",
       "      <td>70.1</td>\n",
       "      <td>0.515106</td>\n",
       "    </tr>\n",
       "    <tr>\n",
       "      <th>2015</th>\n",
       "      <td>102.4</td>\n",
       "      <td>84.3</td>\n",
       "      <td>69.074511</td>\n",
       "      <td>69.6</td>\n",
       "      <td>0.51466</td>\n",
       "    </tr>\n",
       "    <tr>\n",
       "      <th>2016</th>\n",
       "      <td>103.0</td>\n",
       "      <td>85.0</td>\n",
       "      <td>68.649665</td>\n",
       "      <td>79.5</td>\n",
       "      <td>0.491663</td>\n",
       "    </tr>\n",
       "    <tr>\n",
       "      <th>2017</th>\n",
       "      <td>110.4</td>\n",
       "      <td>85.3</td>\n",
       "      <td>69.261329</td>\n",
       "      <td>79.5</td>\n",
       "      <td>0.493618</td>\n",
       "    </tr>\n",
       "    <tr>\n",
       "      <th>2018</th>\n",
       "      <td>107.6</td>\n",
       "      <td>85.6</td>\n",
       "      <td>69.514519</td>\n",
       "      <td>79.5</td>\n",
       "      <td>0.485805</td>\n",
       "    </tr>\n",
       "  </tbody>\n",
       "</table>\n",
       "<p>266 rows × 5 columns</p>\n",
       "</div>"
      ],
      "text/plain": [
       "feature         ESI education productivity tax rate technology\n",
       "country year                                                  \n",
       "AUT     2005   97.1      80.4     60.63234     83.0   0.506048\n",
       "        2006  109.4      80.1    62.218785     82.9   0.492319\n",
       "        2007  114.2      79.9    63.814049     82.4   0.501761\n",
       "        2008   96.1      80.9    63.814456     81.7   0.498783\n",
       "        2009   76.0      81.6    63.363388     79.9   0.497396\n",
       "...             ...       ...          ...      ...        ...\n",
       "SWE     2014  102.2      83.7    67.152902     70.1   0.515106\n",
       "        2015  102.4      84.3    69.074511     69.6    0.51466\n",
       "        2016  103.0      85.0    68.649665     79.5   0.491663\n",
       "        2017  110.4      85.3    69.261329     79.5   0.493618\n",
       "        2018  107.6      85.6    69.514519     79.5   0.485805\n",
       "\n",
       "[266 rows x 5 columns]"
      ]
     },
     "execution_count": 237,
     "metadata": {},
     "output_type": "execute_result"
    }
   ],
   "source": [
    "# index by country first, then within the country by the year, with the columns as the different attributes\n",
    "pca_df = unstacked.pivot(values = 0, index=[\"level_2\",\"level_1\"], columns=\"level_0\")\n",
    "\n",
    "# check again that no values have been missed\n",
    "print(unstacked.isnull().values.any()) # returns false\n",
    "pca_df.index.names = [\"country\", \"year\"]\n",
    "pca_df.columns.names = [\"feature\"]\n",
    "pca_df\n",
    "\n"
   ]
  },
  {
   "cell_type": "code",
   "execution_count": 238,
   "metadata": {},
   "outputs": [
    {
     "name": "stdout",
     "output_type": "stream",
     "text": [
      "[[ 97.1         80.4         60.63234     83.           0.50604847]\n",
      " [109.4         80.1         62.218785    82.9          0.49231947]\n",
      " [114.2         79.9         63.814049    82.4          0.50176077]\n",
      " ...\n",
      " [103.          85.          68.649665    79.5          0.49166302]\n",
      " [110.4         85.3         69.261329    79.5          0.49361831]\n",
      " [107.6         85.6         69.514519    79.5          0.48580522]]\n",
      "(266, 5)\n"
     ]
    }
   ],
   "source": [
    "# export this dataframe to a numpy array of floats to do PCA on\n",
    "temp = np.array(pca_df)\n",
    "pca_arr = temp.astype(float)\n",
    "print(pca_arr)\n",
    "print(np.shape(pca_arr))"
   ]
  },
  {
   "cell_type": "code",
   "execution_count": 239,
   "metadata": {},
   "outputs": [
    {
     "data": {
      "text/plain": [
       "array([[-2.06317001e-02, -2.71939378e-01,  9.28560737e-01,\n",
       "         2.51789508e-01,  5.55477151e-04],\n",
       "       [-1.37681304e-01, -9.27021771e-01, -3.15111749e-01,\n",
       "         1.49594952e-01, -6.55541474e-04],\n",
       "       [-9.90143915e-01,  1.37936838e-01,  2.14612307e-02,\n",
       "        -1.13035933e-02,  3.15976153e-04],\n",
       "       [ 1.52695522e-02,  2.18295440e-01, -1.94982690e-01,\n",
       "         9.56083343e-01, -5.78115703e-04],\n",
       "       [ 2.42894209e-04, -3.74030057e-04, -8.41867379e-04,\n",
       "         5.14501138e-04,  9.99999414e-01]])"
      ]
     },
     "execution_count": 239,
     "metadata": {},
     "output_type": "execute_result"
    }
   ],
   "source": [
    "features = [\"ESI\", \"education\",\"productivity\",\"tax rate\",\"technology\"]\n",
    "pca = PCA()\n",
    "my_pca = pca.fit(pca_df[features])\n",
    "my_pca.components_\n",
    "\n"
   ]
  },
  {
   "cell_type": "code",
   "execution_count": 240,
   "metadata": {},
   "outputs": [],
   "source": [
    "pca_2 = PCA(n_components=2)\n",
    "my_pca_2 = pca_2.fit_transform(pca_df[features])"
   ]
  },
  {
   "cell_type": "code",
   "execution_count": 241,
   "metadata": {},
   "outputs": [
    {
     "data": {
      "text/plain": [
       "array([5.29137617e-01, 2.62940479e-01, 1.33634238e-01, 7.42855807e-02,\n",
       "       2.08487859e-06])"
      ]
     },
     "execution_count": 241,
     "metadata": {},
     "output_type": "execute_result"
    }
   ],
   "source": [
    "my_pca.explained_variance_ratio_\n",
    "# the first principal component accounts for 53% of total variance"
   ]
  },
  {
   "attachments": {},
   "cell_type": "markdown",
   "metadata": {},
   "source": [
    "Plot the PCA\n"
   ]
  },
  {
   "cell_type": "code",
   "execution_count": 242,
   "metadata": {},
   "outputs": [
    {
     "data": {
      "application/vnd.plotly.v1+json": {
       "config": {
        "plotlyServerURL": "https://plot.ly"
       },
       "data": [
        {
         "hovertemplate": "color=AUT<br>PC1=%{x}<br>PC2=%{y}<extra></extra>",
         "legendgroup": "AUT",
         "marker": {
          "color": "#636efa",
          "symbol": "circle"
         },
         "mode": "markers",
         "name": "AUT",
         "orientation": "v",
         "showlegend": true,
         "type": "scatter",
         "x": [
          8.904857047887427,
          10.180592911601147,
          11.491358632904177,
          11.41697664193997,
          10.769250330181505,
          11.009171737592412,
          10.231427149527317,
          10.819542762196216,
          11.251263732548729,
          11.034207718228087,
          11.645109267388824,
          11.046965880928829,
          11.438709327159982,
          11.548381818733267
         ],
         "xaxis": "x",
         "y": [
          -2.668215126560724,
          -4.598446589365061,
          -5.651402589117838,
          -4.191235521820925,
          -2.199889727353253,
          -6.697592841250282,
          -7.590746219639363,
          -7.764656578351599,
          -7.3222167600832435,
          -9.119001536532608,
          -9.931292628380184,
          -10.56486253887411,
          -12.963550117969577,
          -13.371638165281295
         ],
         "yaxis": "y"
        },
        {
         "hovertemplate": "color=BEL<br>PC1=%{x}<br>PC2=%{y}<extra></extra>",
         "legendgroup": "BEL",
         "marker": {
          "color": "#EF553B",
          "symbol": "circle"
         },
         "mode": "markers",
         "name": "BEL",
         "orientation": "v",
         "showlegend": true,
         "type": "scatter",
         "x": [
          19.529683977790604,
          19.28232440926084,
          20.121105922408425,
          19.665328671559017,
          21.047689083061574,
          21.38564366766165,
          20.54319481230169,
          21.394213953511176,
          23.176872553403044,
          23.5312851445864,
          24.06070345014164,
          23.591508228856423,
          23.029462050136853,
          22.292547542601483
         ],
         "xaxis": "x",
         "y": [
          8.83384206324655,
          6.0786200966282,
          3.8986560590176915,
          4.726500989491583,
          7.625134376367369,
          4.749533571557702,
          3.368174368384756,
          5.2548125092387235,
          4.85501059795593,
          2.210265571167918,
          0.6869659067733467,
          -0.8617855245445036,
          -2.1868440604876045,
          -3.7615369633908826
         ],
         "yaxis": "y"
        },
        {
         "hovertemplate": "color=CZE<br>PC1=%{x}<br>PC2=%{y}<extra></extra>",
         "legendgroup": "CZE",
         "marker": {
          "color": "#00cc96",
          "symbol": "circle"
         },
         "mode": "markers",
         "name": "CZE",
         "orientation": "v",
         "showlegend": true,
         "type": "scatter",
         "x": [
          -24.092366106211735,
          -23.027253001747763,
          -22.654044536690037,
          -22.7281556173262,
          -20.22006058761019,
          -19.88636235005661,
          -19.313128344262637,
          -19.11521775440778,
          -19.068897677533123,
          -19.00917090732951,
          -17.27549223697381,
          -17.389592994159887,
          -16.21985110776411,
          -15.71716249102634
         ],
         "xaxis": "x",
         "y": [
          -6.493246284771276,
          -8.79228649691212,
          -10.214908252783273,
          -9.134359706900353,
          -4.417461953780979,
          -7.2739116185461485,
          -7.501821750709084,
          -6.84144405124053,
          -7.032735529382731,
          -9.216815030382017,
          -10.548459635424873,
          -10.536368653247802,
          -11.588841289713024,
          -12.132657969948852
         ],
         "yaxis": "y"
        },
        {
         "hovertemplate": "color=DEU<br>PC1=%{x}<br>PC2=%{y}<extra></extra>",
         "legendgroup": "DEU",
         "marker": {
          "color": "#ab63fa",
          "symbol": "circle"
         },
         "mode": "markers",
         "name": "DEU",
         "orientation": "v",
         "showlegend": true,
         "type": "scatter",
         "x": [
          5.594570862281448,
          6.343875271288002,
          6.405384409883012,
          6.312477107479328,
          5.092387667029809,
          5.288871443817673,
          6.43213840811218,
          6.98119075298683,
          7.1710276458591,
          7.665241960812003,
          7.966551304499176,
          8.881420343101194,
          9.873162779650519,
          9.954647040038859
         ],
         "xaxis": "x",
         "y": [
          -5.352650108142883,
          -7.419765921422849,
          -9.401636613981857,
          -8.86775935752792,
          -5.830883805730076,
          -10.352165737749875,
          -12.324047527504508,
          -11.179290493380497,
          -11.314876909399747,
          -12.270610964295376,
          -12.473488063543579,
          -12.469117616949541,
          -13.577920825290336,
          -13.687602612105588
         ],
         "yaxis": "y"
        },
        {
         "hovertemplate": "color=DNK<br>PC1=%{x}<br>PC2=%{y}<extra></extra>",
         "legendgroup": "DNK",
         "marker": {
          "color": "#FFA15A",
          "symbol": "circle"
         },
         "mode": "markers",
         "name": "DNK",
         "orientation": "v",
         "showlegend": true,
         "type": "scatter",
         "x": [
          13.914430772731999,
          14.08069372227215,
          16.1929690127192,
          15.559593235287492,
          14.82287841663393,
          16.520904163834132,
          16.33358087486905,
          17.724074031909282,
          17.973909182933703,
          18.764371027475388,
          19.373505828874997,
          19.960555061557788,
          20.9116475496821,
          22.204466208665337
         ],
         "xaxis": "x",
         "y": [
          -3.501049678645266,
          -6.436903607509251,
          2.08317309570248,
          4.826310081186732,
          4.335515783799319,
          -0.4055937891471306,
          -1.1342284518885342,
          -0.3623245705517207,
          -1.8814200456408177,
          -3.0351480792244665,
          -4.679442788347897,
          -5.964084829840024,
          -7.772602970837031,
          -8.483219064564956
         ],
         "yaxis": "y"
        },
        {
         "hovertemplate": "color=ESP<br>PC1=%{x}<br>PC2=%{y}<extra></extra>",
         "legendgroup": "ESP",
         "marker": {
          "color": "#19d3f3",
          "symbol": "circle"
         },
         "mode": "markers",
         "name": "ESP",
         "orientation": "v",
         "showlegend": true,
         "type": "scatter",
         "x": [
          2.6633274225849264,
          2.701464706788739,
          3.198262732103167,
          3.5596705971687763,
          4.411261679802544,
          5.449100665724231,
          5.763405582719806,
          6.627339170419326,
          6.733434420117868,
          6.366927632376743,
          6.257864508523453,
          6.246905936209171,
          6.381139322241956,
          6.207555441849147
         ],
         "xaxis": "x",
         "y": [
          30.04692743888876,
          29.21246359678067,
          28.191521184742005,
          30.729608475435764,
          30.4844169120035,
          27.62781271610324,
          25.859153241319802,
          25.874273258692625,
          24.12767580900487,
          21.626117789246788,
          19.71738314478368,
          19.05512516221211,
          17.70220379648618,
          16.98771043125954
         ],
         "yaxis": "y"
        },
        {
         "hovertemplate": "color=EST<br>PC1=%{x}<br>PC2=%{y}<extra></extra>",
         "legendgroup": "EST",
         "marker": {
          "color": "#FF6692",
          "symbol": "circle"
         },
         "mode": "markers",
         "name": "EST",
         "orientation": "v",
         "showlegend": true,
         "type": "scatter",
         "x": [
          -28.369803298895253,
          -27.231401339258557,
          -25.324458051343235,
          -25.8669792406205,
          -25.169980003625916,
          -24.063684773629532,
          -24.423454928914662,
          -23.395057540395815,
          -23.267959112741906,
          -21.75080332292962,
          -21.921174620440663,
          -21.423289293091877,
          -20.475858265412143,
          -18.483199187788998
         ],
         "xaxis": "x",
         "y": [
          -5.089984138659134,
          -6.0227782588256735,
          -6.646661977427955,
          -3.0362037936182276,
          -1.182816163520448,
          -5.598223591129173,
          -5.836605519975599,
          -6.495362584463775,
          -7.016200181113259,
          -4.766414991061896,
          -3.8805918211438866,
          -5.733734026577663,
          -6.775397154491268,
          -7.056606788375095
         ],
         "yaxis": "y"
        },
        {
         "hovertemplate": "color=FIN<br>PC1=%{x}<br>PC2=%{y}<extra></extra>",
         "legendgroup": "FIN",
         "marker": {
          "color": "#B6E880",
          "symbol": "circle"
         },
         "mode": "markers",
         "name": "FIN",
         "orientation": "v",
         "showlegend": true,
         "type": "scatter",
         "x": [
          4.2525707768126395,
          4.793102311735352,
          5.7128636380951905,
          4.987056359311293,
          2.430357547120753,
          3.5266348421185034,
          4.105295700165385,
          3.816956987218493,
          3.8772651706209547,
          5.39898798021102,
          4.877455943358451,
          5.73529164526577,
          5.866685612376492,
          4.809497972250183
         ],
         "xaxis": "x",
         "y": [
          -2.0842241815924734,
          -4.433965130225637,
          -6.146184344109544,
          -4.509349691500554,
          -2.131965374645934,
          -7.093365075237751,
          -7.9019741307853835,
          -6.757111440960539,
          -7.6998996219301,
          -7.104762058684578,
          -8.810885332589868,
          -10.430192593797795,
          -13.389367556625047,
          -14.108906449561045
         ],
         "yaxis": "y"
        },
        {
         "hovertemplate": "color=FRA<br>PC1=%{x}<br>PC2=%{y}<extra></extra>",
         "legendgroup": "FRA",
         "marker": {
          "color": "#FF97FF",
          "symbol": "circle"
         },
         "mode": "markers",
         "name": "FRA",
         "orientation": "v",
         "showlegend": true,
         "type": "scatter",
         "x": [
          12.97333080614178,
          13.93529288363084,
          12.342474787599368,
          11.999325426215773,
          11.559923667723885,
          11.755291652115737,
          12.052721184170545,
          12.267238144579201,
          12.443051384731817,
          12.525651155786703,
          12.404163010568004,
          12.4273385995383,
          13.242223563154615,
          13.06086101610766
         ],
         "xaxis": "x",
         "y": [
          8.892088779672994,
          7.100492853991421,
          4.663800058228828,
          6.173542352145106,
          7.92471658921247,
          5.0205382501678155,
          2.8761288605385698,
          3.916942780034282,
          1.8147564792834443,
          -0.2987603393303345,
          -2.355819760968278,
          -2.9456684002967375,
          -5.168288831115362,
          -6.203767122289472
         ],
         "yaxis": "y"
        },
        {
         "hovertemplate": "color=HUN<br>PC1=%{x}<br>PC2=%{y}<extra></extra>",
         "legendgroup": "HUN",
         "marker": {
          "color": "#FECB52",
          "symbol": "circle"
         },
         "mode": "markers",
         "name": "HUN",
         "orientation": "v",
         "showlegend": true,
         "type": "scatter",
         "x": [
          -21.97087894524157,
          -19.688818958805587,
          -18.402849029681295,
          -17.613124572145615,
          -18.44100118312744,
          -16.71009881294361,
          -15.96488353753874,
          -16.396508585646668,
          -16.639386109872294,
          -17.480029082014898,
          -17.0368872691205,
          -17.833927077383738,
          -17.096328303690672,
          -16.10815888938777
         ],
         "xaxis": "x",
         "y": [
          7.594808001906022,
          6.281436632391492,
          5.5055164285397415,
          5.479563737994222,
          6.648012177475703,
          4.219857702285676,
          4.039175780158286,
          4.679745009338443,
          2.8147836068535805,
          0.6908140565158025,
          0.4493715656666541,
          0.922933569723172,
          -1.0458078645629614,
          -2.964063440098093
         ],
         "yaxis": "y"
        },
        {
         "hovertemplate": "color=LTU<br>PC1=%{x}<br>PC2=%{y}<extra></extra>",
         "legendgroup": "LTU",
         "marker": {
          "color": "#636efa",
          "symbol": "circle"
         },
         "mode": "markers",
         "name": "LTU",
         "orientation": "v",
         "showlegend": true,
         "type": "scatter",
         "x": [
          -24.259489863536206,
          -22.920274239284645,
          -20.86166913035984,
          -19.885784422287852,
          -19.653371336197548,
          -23.176451150404375,
          -22.02486567719167,
          -21.74770897244604,
          -21.456218895216093,
          -21.41790163579161,
          -16.66797001111433,
          -17.873275206943138,
          -13.255779640324965,
          -12.989614746518972
         ],
         "xaxis": "x",
         "y": [
          -0.4501275880392194,
          -2.6932458444780383,
          -4.063840096900462,
          -3.56475630420789,
          0.8613231666218195,
          -5.347077665687514,
          -9.478936343440795,
          -9.023868873169505,
          -10.769046894093691,
          -10.797467714204643,
          -7.758704346369779,
          -9.16705250968298,
          -9.47719531536835,
          -10.947332768419152
         ],
         "yaxis": "y"
        },
        {
         "hovertemplate": "color=LUX<br>PC1=%{x}<br>PC2=%{y}<extra></extra>",
         "legendgroup": "LUX",
         "marker": {
          "color": "#EF553B",
          "symbol": "circle"
         },
         "mode": "markers",
         "name": "LUX",
         "orientation": "v",
         "showlegend": true,
         "type": "scatter",
         "x": [
          50.12172668667593,
          52.13148112546089,
          54.49001590917231,
          49.495899954033575,
          46.83612079849335,
          48.0174020462292,
          46.65211072536211,
          46.02641496991082,
          47.24136482228804,
          46.655458847964795,
          47.7302763020577,
          48.624593244415166,
          47.46336333004881,
          46.35870155334202
         ],
         "xaxis": "x",
         "y": [
          -1.3059321806233175,
          -2.083016027796223,
          -4.261018296639455,
          -2.39610817296662,
          -9.266386495421703,
          -12.09151108406919,
          -11.64193666167995,
          -11.32576201265264,
          -13.669492083488612,
          -14.92367022489174,
          -9.424030632206557,
          -14.407393926456736,
          -13.050742962161088,
          -13.509761343752938
         ],
         "yaxis": "y"
        },
        {
         "hovertemplate": "color=LVA<br>PC1=%{x}<br>PC2=%{y}<extra></extra>",
         "legendgroup": "LVA",
         "marker": {
          "color": "#00cc96",
          "symbol": "circle"
         },
         "mode": "markers",
         "name": "LVA",
         "orientation": "v",
         "showlegend": true,
         "type": "scatter",
         "x": [
          -25.43911584914679,
          -23.931502078972528,
          -22.373548229737224,
          -22.72087594494872,
          -21.2538859237745,
          -20.826720161529206,
          -20.68574182345448,
          -19.32054673284578,
          -19.524225984102994,
          -18.889748589097483,
          -17.80040756028363,
          -17.382442991222003,
          -15.964127374247223,
          -15.98793680338715
         ],
         "xaxis": "x",
         "y": [
          4.0771500851804765,
          3.5385565899938616,
          2.3411077041119457,
          3.8739278644480355,
          6.1678709221702785,
          1.0827467209780899,
          1.0539401624949503,
          -1.245620452342229,
          -1.5220410206479276,
          -1.8066846027328627,
          -2.4424859179136695,
          -3.944594568328368,
          -4.328105554801997,
          -5.027160009885277
         ],
         "yaxis": "y"
        },
        {
         "hovertemplate": "color=NLD<br>PC1=%{x}<br>PC2=%{y}<extra></extra>",
         "legendgroup": "NLD",
         "marker": {
          "color": "#ab63fa",
          "symbol": "circle"
         },
         "mode": "markers",
         "name": "NLD",
         "orientation": "v",
         "showlegend": true,
         "type": "scatter",
         "x": [
          14.333330894768293,
          14.82006610130648,
          15.550448042693858,
          16.116956247682314,
          15.132183292892442,
          15.803220127500923,
          16.216991826989734,
          16.068395688802408,
          15.60655998419027,
          15.634195001924027,
          15.504155892010555,
          14.507267110360178,
          14.469401983620308,
          14.14697073387997
         ],
         "xaxis": "x",
         "y": [
          6.0594633146870445,
          2.698609269560424,
          1.5899601405775643,
          2.9168864181223197,
          6.830696249453703,
          2.5773454585880966,
          2.832346861034735,
          3.2820112994858643,
          0.43363278082054374,
          -1.2835907953617605,
          -2.792497445532257,
          -4.154981619485671,
          -5.805434287916654,
          -6.153881136655547
         ],
         "yaxis": "y"
        },
        {
         "hovertemplate": "color=POL<br>PC1=%{x}<br>PC2=%{y}<extra></extra>",
         "legendgroup": "POL",
         "marker": {
          "color": "#FFA15A",
          "symbol": "circle"
         },
         "mode": "markers",
         "name": "POL",
         "orientation": "v",
         "showlegend": true,
         "type": "scatter",
         "x": [
          -26.35224834538789,
          -26.146342110377596,
          -26.79945237104391,
          -28.537495834304803,
          -27.543483721452,
          -25.75540397911939,
          -24.570071749090552,
          -24.117629347216106,
          -23.809352013207395,
          -23.681299824502197,
          -23.101829736707607,
          -22.706476525788457,
          -21.539762837355134,
          -19.41269247404743
         ],
         "xaxis": "x",
         "y": [
          2.056028556969995,
          -0.22315330110619463,
          -3.2816012018011893,
          -4.262692301582591,
          -1.896666313711598,
          -4.36244081494626,
          -5.185051147564728,
          -5.276252480697467,
          -5.167109549037616,
          -6.994544773363733,
          -7.648870740453611,
          -8.652560957647665,
          -10.704869203798522,
          -12.624093729776321
         ],
         "yaxis": "y"
        },
        {
         "hovertemplate": "color=PRT<br>PC1=%{x}<br>PC2=%{y}<extra></extra>",
         "legendgroup": "PRT",
         "marker": {
          "color": "#19d3f3",
          "symbol": "circle"
         },
         "mode": "markers",
         "name": "PRT",
         "orientation": "v",
         "showlegend": true,
         "type": "scatter",
         "x": [
          -0.3980118407114283,
          -0.060139340648112785,
          0.3199434405757932,
          0.36731699024174125,
          -0.016287474679505025,
          -0.1291886119091756,
          -0.2557852316205689,
          -0.462520835788773,
          -0.5405011268118972,
          -2.1778101939134724,
          -2.6706063799314146,
          -3.1311247865270184,
          -3.2170242977357875,
          -3.7776817666602183
         ],
         "xaxis": "x",
         "y": [
          55.42356590630038,
          53.096419394738625,
          52.397268076709594,
          52.49898250727265,
          53.00216664105317,
          49.358017485850084,
          47.44330013592814,
          45.71983925032013,
          42.71149562601446,
          37.63602796369407,
          35.23240254398313,
          33.5973395270926,
          31.7908725221847,
          29.885953990021214
         ],
         "yaxis": "y"
        },
        {
         "hovertemplate": "color=SVK<br>PC1=%{x}<br>PC2=%{y}<extra></extra>",
         "legendgroup": "SVK",
         "marker": {
          "color": "#FF6692",
          "symbol": "circle"
         },
         "mode": "markers",
         "name": "SVK",
         "orientation": "v",
         "showlegend": true,
         "type": "scatter",
         "x": [
          -25.06969374515362,
          -23.659989502521274,
          -21.509776037992275,
          -20.586157166699028,
          -21.764649236285557,
          -19.97720250427464,
          -18.96178984752545,
          -18.641702366960438,
          -17.61271335863836,
          -16.905227237447118,
          -15.721977828684917,
          -15.61719467804451,
          -14.524202654790097,
          -13.460910395596514
         ],
         "xaxis": "x",
         "y": [
          -3.864520658897936,
          -6.135638405893785,
          -7.688380989918933,
          -6.757381868403833,
          -3.7559231405849682,
          -7.90611868815163,
          -7.216487234749646,
          -8.204856709297918,
          -7.137462658686541,
          -8.482127619832387,
          -9.446938566691301,
          -9.776950341762813,
          -9.587599466941187,
          -9.885309508182626
         ],
         "yaxis": "y"
        },
        {
         "hovertemplate": "color=SVN<br>PC1=%{x}<br>PC2=%{y}<extra></extra>",
         "legendgroup": "SVN",
         "marker": {
          "color": "#B6E880",
          "symbol": "circle"
         },
         "mode": "markers",
         "name": "SVN",
         "orientation": "v",
         "showlegend": true,
         "type": "scatter",
         "x": [
          -12.243539343402986,
          -10.831127480275036,
          -9.823265160725745,
          -9.944612009033452,
          -12.240425505618271,
          -11.438784685757025,
          -8.782946850672335,
          -8.845583434473502,
          -9.485061691175867,
          -9.392391372928959,
          -9.565174263394034,
          -8.37730114259153,
          -6.8569103578578074,
          -8.141673634975163
         ],
         "xaxis": "x",
         "y": [
          4.892417907751225,
          1.057025676673109,
          0.2345797748840936,
          1.800946284043992,
          4.38009265010717,
          1.5001498121106605,
          1.004759847257762,
          2.5563901453229305,
          1.173194907650221,
          -0.8796763152230472,
          -2.5354766648221574,
          -3.283650251160821,
          -5.138315778322152,
          -6.974547793094853
         ],
         "yaxis": "y"
        },
        {
         "hovertemplate": "color=SWE<br>PC1=%{x}<br>PC2=%{y}<extra></extra>",
         "legendgroup": "SWE",
         "marker": {
          "color": "#FF97FF",
          "symbol": "circle"
         },
         "mode": "markers",
         "name": "SWE",
         "orientation": "v",
         "showlegend": true,
         "type": "scatter",
         "x": [
          11.643141459098224,
          14.442881775659366,
          13.377309154258597,
          11.673135825489572,
          10.313557437889054,
          11.147179413608416,
          11.365387251148306,
          10.72192315204266,
          10.762648895536165,
          10.708893664904863,
          12.2000393662067,
          14.09551082308061,
          14.429222689773153,
          14.640507589863718
         ],
         "xaxis": "x",
         "y": [
          -6.329671313175131,
          -3.568714521369716,
          -5.336923744763119,
          -3.4637534824827387,
          -2.3412341438586046,
          -8.056494970836356,
          -8.180110637317899,
          -7.558140012726273,
          -8.477757053744874,
          -10.414048134372065,
          -11.678116214890023,
          -10.794761174648656,
          -12.284453150896493,
          -12.25683005295321
         ],
         "yaxis": "y"
        }
       ],
       "layout": {
        "legend": {
         "title": {
          "text": "color"
         },
         "tracegroupgap": 0
        },
        "template": {
         "data": {
          "bar": [
           {
            "error_x": {
             "color": "#2a3f5f"
            },
            "error_y": {
             "color": "#2a3f5f"
            },
            "marker": {
             "line": {
              "color": "#E5ECF6",
              "width": 0.5
             },
             "pattern": {
              "fillmode": "overlay",
              "size": 10,
              "solidity": 0.2
             }
            },
            "type": "bar"
           }
          ],
          "barpolar": [
           {
            "marker": {
             "line": {
              "color": "#E5ECF6",
              "width": 0.5
             },
             "pattern": {
              "fillmode": "overlay",
              "size": 10,
              "solidity": 0.2
             }
            },
            "type": "barpolar"
           }
          ],
          "carpet": [
           {
            "aaxis": {
             "endlinecolor": "#2a3f5f",
             "gridcolor": "white",
             "linecolor": "white",
             "minorgridcolor": "white",
             "startlinecolor": "#2a3f5f"
            },
            "baxis": {
             "endlinecolor": "#2a3f5f",
             "gridcolor": "white",
             "linecolor": "white",
             "minorgridcolor": "white",
             "startlinecolor": "#2a3f5f"
            },
            "type": "carpet"
           }
          ],
          "choropleth": [
           {
            "colorbar": {
             "outlinewidth": 0,
             "ticks": ""
            },
            "type": "choropleth"
           }
          ],
          "contour": [
           {
            "colorbar": {
             "outlinewidth": 0,
             "ticks": ""
            },
            "colorscale": [
             [
              0,
              "#0d0887"
             ],
             [
              0.1111111111111111,
              "#46039f"
             ],
             [
              0.2222222222222222,
              "#7201a8"
             ],
             [
              0.3333333333333333,
              "#9c179e"
             ],
             [
              0.4444444444444444,
              "#bd3786"
             ],
             [
              0.5555555555555556,
              "#d8576b"
             ],
             [
              0.6666666666666666,
              "#ed7953"
             ],
             [
              0.7777777777777778,
              "#fb9f3a"
             ],
             [
              0.8888888888888888,
              "#fdca26"
             ],
             [
              1,
              "#f0f921"
             ]
            ],
            "type": "contour"
           }
          ],
          "contourcarpet": [
           {
            "colorbar": {
             "outlinewidth": 0,
             "ticks": ""
            },
            "type": "contourcarpet"
           }
          ],
          "heatmap": [
           {
            "colorbar": {
             "outlinewidth": 0,
             "ticks": ""
            },
            "colorscale": [
             [
              0,
              "#0d0887"
             ],
             [
              0.1111111111111111,
              "#46039f"
             ],
             [
              0.2222222222222222,
              "#7201a8"
             ],
             [
              0.3333333333333333,
              "#9c179e"
             ],
             [
              0.4444444444444444,
              "#bd3786"
             ],
             [
              0.5555555555555556,
              "#d8576b"
             ],
             [
              0.6666666666666666,
              "#ed7953"
             ],
             [
              0.7777777777777778,
              "#fb9f3a"
             ],
             [
              0.8888888888888888,
              "#fdca26"
             ],
             [
              1,
              "#f0f921"
             ]
            ],
            "type": "heatmap"
           }
          ],
          "heatmapgl": [
           {
            "colorbar": {
             "outlinewidth": 0,
             "ticks": ""
            },
            "colorscale": [
             [
              0,
              "#0d0887"
             ],
             [
              0.1111111111111111,
              "#46039f"
             ],
             [
              0.2222222222222222,
              "#7201a8"
             ],
             [
              0.3333333333333333,
              "#9c179e"
             ],
             [
              0.4444444444444444,
              "#bd3786"
             ],
             [
              0.5555555555555556,
              "#d8576b"
             ],
             [
              0.6666666666666666,
              "#ed7953"
             ],
             [
              0.7777777777777778,
              "#fb9f3a"
             ],
             [
              0.8888888888888888,
              "#fdca26"
             ],
             [
              1,
              "#f0f921"
             ]
            ],
            "type": "heatmapgl"
           }
          ],
          "histogram": [
           {
            "marker": {
             "pattern": {
              "fillmode": "overlay",
              "size": 10,
              "solidity": 0.2
             }
            },
            "type": "histogram"
           }
          ],
          "histogram2d": [
           {
            "colorbar": {
             "outlinewidth": 0,
             "ticks": ""
            },
            "colorscale": [
             [
              0,
              "#0d0887"
             ],
             [
              0.1111111111111111,
              "#46039f"
             ],
             [
              0.2222222222222222,
              "#7201a8"
             ],
             [
              0.3333333333333333,
              "#9c179e"
             ],
             [
              0.4444444444444444,
              "#bd3786"
             ],
             [
              0.5555555555555556,
              "#d8576b"
             ],
             [
              0.6666666666666666,
              "#ed7953"
             ],
             [
              0.7777777777777778,
              "#fb9f3a"
             ],
             [
              0.8888888888888888,
              "#fdca26"
             ],
             [
              1,
              "#f0f921"
             ]
            ],
            "type": "histogram2d"
           }
          ],
          "histogram2dcontour": [
           {
            "colorbar": {
             "outlinewidth": 0,
             "ticks": ""
            },
            "colorscale": [
             [
              0,
              "#0d0887"
             ],
             [
              0.1111111111111111,
              "#46039f"
             ],
             [
              0.2222222222222222,
              "#7201a8"
             ],
             [
              0.3333333333333333,
              "#9c179e"
             ],
             [
              0.4444444444444444,
              "#bd3786"
             ],
             [
              0.5555555555555556,
              "#d8576b"
             ],
             [
              0.6666666666666666,
              "#ed7953"
             ],
             [
              0.7777777777777778,
              "#fb9f3a"
             ],
             [
              0.8888888888888888,
              "#fdca26"
             ],
             [
              1,
              "#f0f921"
             ]
            ],
            "type": "histogram2dcontour"
           }
          ],
          "mesh3d": [
           {
            "colorbar": {
             "outlinewidth": 0,
             "ticks": ""
            },
            "type": "mesh3d"
           }
          ],
          "parcoords": [
           {
            "line": {
             "colorbar": {
              "outlinewidth": 0,
              "ticks": ""
             }
            },
            "type": "parcoords"
           }
          ],
          "pie": [
           {
            "automargin": true,
            "type": "pie"
           }
          ],
          "scatter": [
           {
            "fillpattern": {
             "fillmode": "overlay",
             "size": 10,
             "solidity": 0.2
            },
            "type": "scatter"
           }
          ],
          "scatter3d": [
           {
            "line": {
             "colorbar": {
              "outlinewidth": 0,
              "ticks": ""
             }
            },
            "marker": {
             "colorbar": {
              "outlinewidth": 0,
              "ticks": ""
             }
            },
            "type": "scatter3d"
           }
          ],
          "scattercarpet": [
           {
            "marker": {
             "colorbar": {
              "outlinewidth": 0,
              "ticks": ""
             }
            },
            "type": "scattercarpet"
           }
          ],
          "scattergeo": [
           {
            "marker": {
             "colorbar": {
              "outlinewidth": 0,
              "ticks": ""
             }
            },
            "type": "scattergeo"
           }
          ],
          "scattergl": [
           {
            "marker": {
             "colorbar": {
              "outlinewidth": 0,
              "ticks": ""
             }
            },
            "type": "scattergl"
           }
          ],
          "scattermapbox": [
           {
            "marker": {
             "colorbar": {
              "outlinewidth": 0,
              "ticks": ""
             }
            },
            "type": "scattermapbox"
           }
          ],
          "scatterpolar": [
           {
            "marker": {
             "colorbar": {
              "outlinewidth": 0,
              "ticks": ""
             }
            },
            "type": "scatterpolar"
           }
          ],
          "scatterpolargl": [
           {
            "marker": {
             "colorbar": {
              "outlinewidth": 0,
              "ticks": ""
             }
            },
            "type": "scatterpolargl"
           }
          ],
          "scatterternary": [
           {
            "marker": {
             "colorbar": {
              "outlinewidth": 0,
              "ticks": ""
             }
            },
            "type": "scatterternary"
           }
          ],
          "surface": [
           {
            "colorbar": {
             "outlinewidth": 0,
             "ticks": ""
            },
            "colorscale": [
             [
              0,
              "#0d0887"
             ],
             [
              0.1111111111111111,
              "#46039f"
             ],
             [
              0.2222222222222222,
              "#7201a8"
             ],
             [
              0.3333333333333333,
              "#9c179e"
             ],
             [
              0.4444444444444444,
              "#bd3786"
             ],
             [
              0.5555555555555556,
              "#d8576b"
             ],
             [
              0.6666666666666666,
              "#ed7953"
             ],
             [
              0.7777777777777778,
              "#fb9f3a"
             ],
             [
              0.8888888888888888,
              "#fdca26"
             ],
             [
              1,
              "#f0f921"
             ]
            ],
            "type": "surface"
           }
          ],
          "table": [
           {
            "cells": {
             "fill": {
              "color": "#EBF0F8"
             },
             "line": {
              "color": "white"
             }
            },
            "header": {
             "fill": {
              "color": "#C8D4E3"
             },
             "line": {
              "color": "white"
             }
            },
            "type": "table"
           }
          ]
         },
         "layout": {
          "annotationdefaults": {
           "arrowcolor": "#2a3f5f",
           "arrowhead": 0,
           "arrowwidth": 1
          },
          "autotypenumbers": "strict",
          "coloraxis": {
           "colorbar": {
            "outlinewidth": 0,
            "ticks": ""
           }
          },
          "colorscale": {
           "diverging": [
            [
             0,
             "#8e0152"
            ],
            [
             0.1,
             "#c51b7d"
            ],
            [
             0.2,
             "#de77ae"
            ],
            [
             0.3,
             "#f1b6da"
            ],
            [
             0.4,
             "#fde0ef"
            ],
            [
             0.5,
             "#f7f7f7"
            ],
            [
             0.6,
             "#e6f5d0"
            ],
            [
             0.7,
             "#b8e186"
            ],
            [
             0.8,
             "#7fbc41"
            ],
            [
             0.9,
             "#4d9221"
            ],
            [
             1,
             "#276419"
            ]
           ],
           "sequential": [
            [
             0,
             "#0d0887"
            ],
            [
             0.1111111111111111,
             "#46039f"
            ],
            [
             0.2222222222222222,
             "#7201a8"
            ],
            [
             0.3333333333333333,
             "#9c179e"
            ],
            [
             0.4444444444444444,
             "#bd3786"
            ],
            [
             0.5555555555555556,
             "#d8576b"
            ],
            [
             0.6666666666666666,
             "#ed7953"
            ],
            [
             0.7777777777777778,
             "#fb9f3a"
            ],
            [
             0.8888888888888888,
             "#fdca26"
            ],
            [
             1,
             "#f0f921"
            ]
           ],
           "sequentialminus": [
            [
             0,
             "#0d0887"
            ],
            [
             0.1111111111111111,
             "#46039f"
            ],
            [
             0.2222222222222222,
             "#7201a8"
            ],
            [
             0.3333333333333333,
             "#9c179e"
            ],
            [
             0.4444444444444444,
             "#bd3786"
            ],
            [
             0.5555555555555556,
             "#d8576b"
            ],
            [
             0.6666666666666666,
             "#ed7953"
            ],
            [
             0.7777777777777778,
             "#fb9f3a"
            ],
            [
             0.8888888888888888,
             "#fdca26"
            ],
            [
             1,
             "#f0f921"
            ]
           ]
          },
          "colorway": [
           "#636efa",
           "#EF553B",
           "#00cc96",
           "#ab63fa",
           "#FFA15A",
           "#19d3f3",
           "#FF6692",
           "#B6E880",
           "#FF97FF",
           "#FECB52"
          ],
          "font": {
           "color": "#2a3f5f"
          },
          "geo": {
           "bgcolor": "white",
           "lakecolor": "white",
           "landcolor": "#E5ECF6",
           "showlakes": true,
           "showland": true,
           "subunitcolor": "white"
          },
          "hoverlabel": {
           "align": "left"
          },
          "hovermode": "closest",
          "mapbox": {
           "style": "light"
          },
          "paper_bgcolor": "white",
          "plot_bgcolor": "#E5ECF6",
          "polar": {
           "angularaxis": {
            "gridcolor": "white",
            "linecolor": "white",
            "ticks": ""
           },
           "bgcolor": "#E5ECF6",
           "radialaxis": {
            "gridcolor": "white",
            "linecolor": "white",
            "ticks": ""
           }
          },
          "scene": {
           "xaxis": {
            "backgroundcolor": "#E5ECF6",
            "gridcolor": "white",
            "gridwidth": 2,
            "linecolor": "white",
            "showbackground": true,
            "ticks": "",
            "zerolinecolor": "white"
           },
           "yaxis": {
            "backgroundcolor": "#E5ECF6",
            "gridcolor": "white",
            "gridwidth": 2,
            "linecolor": "white",
            "showbackground": true,
            "ticks": "",
            "zerolinecolor": "white"
           },
           "zaxis": {
            "backgroundcolor": "#E5ECF6",
            "gridcolor": "white",
            "gridwidth": 2,
            "linecolor": "white",
            "showbackground": true,
            "ticks": "",
            "zerolinecolor": "white"
           }
          },
          "shapedefaults": {
           "line": {
            "color": "#2a3f5f"
           }
          },
          "ternary": {
           "aaxis": {
            "gridcolor": "white",
            "linecolor": "white",
            "ticks": ""
           },
           "baxis": {
            "gridcolor": "white",
            "linecolor": "white",
            "ticks": ""
           },
           "bgcolor": "#E5ECF6",
           "caxis": {
            "gridcolor": "white",
            "linecolor": "white",
            "ticks": ""
           }
          },
          "title": {
           "x": 0.05
          },
          "xaxis": {
           "automargin": true,
           "gridcolor": "white",
           "linecolor": "white",
           "ticks": "",
           "title": {
            "standoff": 15
           },
           "zerolinecolor": "white",
           "zerolinewidth": 2
          },
          "yaxis": {
           "automargin": true,
           "gridcolor": "white",
           "linecolor": "white",
           "ticks": "",
           "title": {
            "standoff": 15
           },
           "zerolinecolor": "white",
           "zerolinewidth": 2
          }
         }
        },
        "title": {
         "text": "2D PCA Projection Coloured by country"
        },
        "xaxis": {
         "anchor": "y",
         "domain": [
          0,
          1
         ],
         "title": {
          "text": "PC1"
         }
        },
        "yaxis": {
         "anchor": "x",
         "domain": [
          0,
          1
         ],
         "title": {
          "text": "PC2"
         }
        }
       }
      }
     },
     "metadata": {},
     "output_type": "display_data"
    }
   ],
   "source": [
    "fig = px.scatter(\n",
    "        x = my_pca_2[:,0],\n",
    "        y = my_pca_2[:,1],\n",
    "        color=pca_df.index.get_level_values(0),\n",
    "        labels = {\"x\": \"PC1\",\"y\": \"PC2\"},\n",
    "        title= \"2D PCA Projection Coloured by country\"\n",
    ")\n",
    "fig.show()\n"
   ]
  },
  {
   "attachments": {},
   "cell_type": "markdown",
   "metadata": {},
   "source": [
    "It seems there might be separations based on region of Europe - let's explore this\n",
    "\n"
   ]
  },
  {
   "cell_type": "code",
   "execution_count": 243,
   "metadata": {},
   "outputs": [],
   "source": [
    "\n",
    "# get a list of respective subregion for each datapoint\n",
    "\n",
    "subregions_dict = countries.subregions\n",
    "subregions = []\n",
    "for code in pca_df.index.get_level_values(0):\n",
    "    for country in countries.countries:\n",
    "        if countries.get_country_data(country).alpha3 == code:\n",
    "            subregions.append(countries.get_country_data(country).subregion)\n",
    "\n",
    "\n"
   ]
  },
  {
   "cell_type": "code",
   "execution_count": 244,
   "metadata": {},
   "outputs": [
    {
     "name": "stderr",
     "output_type": "stream",
     "text": [
      "e:\\Work\\ADS\\.venv\\lib\\site-packages\\sklearn\\base.py:439: UserWarning:\n",
      "\n",
      "X does not have valid feature names, but PCA was fitted with feature names\n",
      "\n"
     ]
    },
    {
     "data": {
      "application/vnd.plotly.v1+json": {
       "config": {
        "plotlyServerURL": "https://plot.ly"
       },
       "data": [
        {
         "diagonal": {
          "visible": false
         },
         "dimensions": [
          {
           "axis": {
            "matches": true
           },
           "label": "0",
           "values": [
            8.904857047887415,
            10.180592911601153,
            11.491358632904195,
            11.416976641939963,
            10.769250330181492,
            11.009171737592405,
            10.231427149527308,
            10.819542762196205,
            11.251263732548718,
            11.03420771822808,
            11.645109267388818,
            11.046965880928822,
            11.438709327159975,
            11.548381818733262,
            -24.092366106211717,
            -23.027253001747745,
            -22.654044536690026,
            -22.728155617326188,
            -20.220060587610188,
            -19.886362350056604,
            -19.313128344262626,
            -19.115217754407773,
            -19.068897677533123,
            -19.0091709073295,
            -17.275492236973808,
            -17.389592994159877,
            -16.219851107764104,
            -15.717162491026334,
            5.59457086228144,
            6.343875271287999,
            6.405384409883007,
            6.312477107479321,
            5.0923876670298,
            5.288871443817669,
            6.432138408112176,
            6.981190752986826,
            7.171027645859094,
            7.665241960811994,
            7.966551304499172,
            8.881420343101192,
            9.87316277965051,
            9.954647040038852,
            -21.97087894524156,
            -19.688818958805573,
            -18.402849029681278,
            -17.613124572145605,
            -18.44100118312744,
            -16.7100988129436,
            -15.96488353753873,
            -16.396508585646664,
            -16.63938610987229,
            -17.480029082014887,
            -17.03688726912048,
            -17.833927077383727,
            -17.096328303690658,
            -16.108158889387756,
            -26.35224834538787,
            -26.14634211037758,
            -26.79945237104389,
            -28.537495834304785,
            -27.543483721451988,
            -25.75540397911937,
            -24.570071749090538,
            -24.117629347216088,
            -23.809352013207388,
            -23.68129982450219,
            -23.1018297367076,
            -22.706476525788446,
            -21.53976283735512,
            -19.412692474047418,
            -25.069693745153607,
            -23.659989502521256,
            -21.509776037992253,
            -20.58615716669902,
            -21.764649236285553,
            -19.97720250427463,
            -18.961789847525434,
            -18.641702366960427,
            -17.612713358638356,
            -16.90522723744711,
            -15.721977828684906,
            -15.617194678044502,
            -14.52420265479009,
            -13.460910395596509,
            -12.243539343402977,
            -10.831127480275024,
            -9.823265160725734,
            -9.944612009033447,
            -12.240425505618267,
            -11.438784685757021,
            -8.782946850672328,
            -8.845583434473502,
            -9.485061691175867,
            -9.392391372928953,
            -9.565174263394026,
            -8.377301142591525,
            -6.856910357857799,
            -8.141673634975154
           ]
          },
          {
           "axis": {
            "matches": true
           },
           "label": "1",
           "values": [
            -2.6682151265607263,
            -4.598446589365039,
            -5.651402589117833,
            -4.19123552182092,
            -2.19988972735325,
            -6.697592841250271,
            -7.590746219639353,
            -7.7646565783515875,
            -7.322216760083233,
            -9.119001536532595,
            -9.931292628380172,
            -10.564862538874095,
            -12.963550117969557,
            -13.371638165281277,
            -6.493246284771278,
            -8.792286496912116,
            -10.214908252783266,
            -9.134359706900351,
            -4.417461953780979,
            -7.273911618546146,
            -7.501821750709083,
            -6.84144405124053,
            -7.032735529382729,
            -9.216815030382014,
            -10.548459635424864,
            -10.536368653247797,
            -11.588841289713015,
            -12.132657969948847,
            -5.3526501081428774,
            -7.41976592142284,
            -9.401636613981845,
            -8.867759357527909,
            -5.8308838057300685,
            -10.35216573774986,
            -12.324047527504494,
            -11.179290493380485,
            -11.314876909399736,
            -12.270610964295361,
            -12.473488063543565,
            -12.469117616949525,
            -13.577920825290319,
            -13.68760261210557,
            7.5948080019060065,
            6.281436632391479,
            5.505516428539729,
            5.47956373799421,
            6.6480121774756915,
            4.219857702285666,
            4.039175780158275,
            4.679745009338433,
            2.814783606853574,
            0.6908140565157975,
            0.4493715656666496,
            0.9229335697231653,
            -1.0458078645629634,
            -2.964063440098094,
            2.056028556969985,
            -0.22315330110620266,
            -3.281601201801193,
            -4.262692301582594,
            -1.8966663137116022,
            -4.362440814946262,
            -5.185051147564728,
            -5.276252480697469,
            -5.167109549037617,
            -6.9945447733637325,
            -7.648870740453609,
            -8.652560957647664,
            -10.704869203798514,
            -12.62409372977631,
            -3.86452065889794,
            -6.1356384058937845,
            -7.688380989918931,
            -6.75738186840383,
            -3.7559231405849722,
            -7.906118688151628,
            -7.216487234749646,
            -8.204856709297914,
            -7.137462658686539,
            -8.482127619832383,
            -9.446938566691296,
            -9.77695034176281,
            -9.587599466941182,
            -9.885309508182623,
            4.892417907751216,
            1.0570256766731059,
            0.23457977488409196,
            1.8009462840439872,
            4.3800926501071595,
            1.5001498121106547,
            1.004759847257758,
            2.5563901453229234,
            1.1731949076502177,
            -0.8796763152230485,
            -2.5354766648221565,
            -3.2836502511608208,
            -5.1383157783221485,
            -6.974547793094848
           ]
          },
          {
           "axis": {
            "matches": true
           },
           "label": "2",
           "values": [
            3.3716120519341577,
            -8.813366075609215,
            -13.553753128524447,
            4.513708887778145,
            24.522822929589825,
            -0.7992509646815337,
            0.3673005210993217,
            4.114774851755352,
            9.189899774649286,
            3.2828451205311056,
            4.79030563090207,
            1.4297143822861855,
            -10.663737383941164,
            -10.413154292691177,
            -4.433775720469718,
            -11.241470480954531,
            -12.82479000394702,
            -2.273203501889791,
            20.41887720915619,
            5.058187009480682,
            7.202291198631498,
            13.76922564988265,
            14.704260123729451,
            2.5887085900760964,
            -2.6181714348998693,
            -1.7046941161763367,
            -3.8023725061096445,
            -5.957022658282237,
            9.462612655477452,
            -3.183665679191971,
            -6.7562121323691615,
            3.5701457393563234,
            21.768677958158893,
            -1.6652140413325005,
            -8.58989126413983,
            0.5277361948154876,
            1.2444494339767809,
            -2.8736007896699185,
            -4.26659229698275,
            -4.389398510909685,
            -9.811358656304133,
            -9.496440834516806,
            6.194573522823731,
            4.198065042256261,
            3.822384069847512,
            9.766205785839768,
            21.247766887991308,
            1.1666420401231512,
            4.30023841636568,
            11.39071918756113,
            2.7601281771971635,
            -9.14431950160212,
            -8.72036742915125,
            -5.4389081021798935,
            -13.556413468711456,
            -17.956243664905834,
            0.5914538946505167,
            -7.074511227848184,
            -20.11842237608981,
            -13.18676858332923,
            12.707624975106642,
            0.016693431599416563,
            0.5027820547015325,
            5.758753009560803,
            10.786326054187516,
            2.245430607562341,
            1.9130716421636114,
            0.020119324027215595,
            -4.77731196143594,
            -10.621173824070926,
            -7.364186090011034,
            -13.839427071536791,
            -17.609583327171062,
            -4.520209752986987,
            23.93892329650099,
            -0.3597071853552905,
            6.110754213283857,
            3.109587442987982,
            14.246484910220389,
            -0.02262969170065055,
            -1.3265521477490638,
            -0.26749227394706837,
            -0.6180901820616619,
            1.3232687926008506,
            -1.0529461218830483,
            -14.887801676516442,
            -13.315204399445163,
            0.48775099764471996,
            21.99898654678262,
            4.5038374977075835,
            5.319750817523904,
            19.344719790251617,
            11.779901717520955,
            -0.4592769608271517,
            -4.36226156946593,
            -2.9744207412437005,
            -10.101287669950093,
            -9.951453714862536
           ]
          },
          {
           "axis": {
            "matches": true
           },
           "label": "3",
           "values": [
            3.190881414457493,
            2.9082785633019412,
            2.148817330050607,
            1.4213978982520683,
            -0.3657120561291443,
            0.49841375833234985,
            -5.0004581200675675,
            -5.083828029799981,
            -5.415930973659296,
            -5.461240337115133,
            -5.895583078269385,
            -7.665914280905195,
            -7.432154873960578,
            -7.812594595937723,
            -5.707564857939454,
            -8.009881676583195,
            -11.669657932489418,
            -12.008244113826269,
            -0.9010873426053501,
            -0.6190533040337218,
            -0.39523184107378545,
            -0.5776339558038152,
            -0.5488415043557378,
            -0.26147733605131657,
            -0.4666563696078014,
            -0.21850237035717626,
            -0.07290643915443357,
            0.06350701972838525,
            -3.812810031676952,
            -3.2086531783823435,
            -3.793743540920665,
            -4.044497620613002,
            -3.2510351512539306,
            -4.650496510240227,
            -4.9341040382776296,
            -5.1500194547035,
            -5.484104832260829,
            -5.408806725207601,
            -5.4728848757776385,
            -5.611352877864206,
            -5.658551706419394,
            -5.7637193484425255,
            -11.796507262837155,
            -5.9399999413733875,
            -2.8147191984224786,
            -2.9483632660400074,
            -2.149851394880916,
            5.590496462369325,
            5.145777259714755,
            5.138462297814577,
            4.660044814915942,
            4.86383840472402,
            4.580744674652424,
            4.441572044594962,
            4.877765353398341,
            4.865651013421113,
            1.2446571017392747,
            1.2472271464849292,
            -2.0218098162200002,
            -9.068535230830104,
            -10.021932676773206,
            -7.956022764619753,
            -8.447508069577886,
            -8.385660103537672,
            -8.424485769805166,
            -8.796218409283771,
            -9.268745746970732,
            -9.551973730849696,
            -10.11780111644266,
            -10.55136577282515,
            -3.072094230792459,
            -2.746168680701264,
            -2.9048850086507674,
            -2.4068797675073683,
            -4.530728774952312,
            -4.116420999417512,
            -2.6371509676568596,
            -2.7068803409914683,
            -3.0132090959819235,
            -2.948645374811251,
            -2.915527720555196,
            -2.5651802360797045,
            -2.4684251517530402,
            -2.260538646034964,
            11.290478864085067,
            11.4596553766816,
            9.145047992199503,
            7.840000347044687,
            8.295390203978878,
            8.118848015419681,
            14.3051525052134,
            14.244686533232633,
            14.644675806982619,
            14.69218968097304,
            14.950626388374635,
            14.666681109764012,
            15.936515207972496,
            7.359727644539719
           ]
          },
          {
           "axis": {
            "matches": true
           },
           "label": "4",
           "values": [
            0.007379936049320857,
            -0.0046362765265283235,
            0.004445466860816885,
            -0.003662901065672646,
            -0.01074026250180189,
            0.022813886580246853,
            0.03290842512881043,
            0.03928097464937059,
            0.030859095851791658,
            0.013255288600206038,
            0.020303633447741318,
            -0.013697908425165205,
            -0.01034179783106025,
            -0.014035851658260495,
            -0.01736878963590824,
            -0.02543236286925793,
            -0.023541244010451483,
            -0.01725166762620472,
            -0.020412025475946515,
            -0.0015732532972697558,
            0.0062132652394973915,
            0.007379399870184699,
            -0.0031234647559685146,
            -0.01219824752161428,
            -0.01800494538211005,
            -0.036868514260984524,
            -0.0315996608839558,
            -0.026574306537792036,
            0.07768931619193925,
            0.05905024658485677,
            0.06494311624191577,
            0.05423437082450075,
            0.04845481902845551,
            0.054104790729510716,
            0.053390304244828574,
            0.052599345519202576,
            0.0506653515149015,
            0.04090728041056574,
            0.043047735369543656,
            0.024732487104167276,
            0.02357252039687288,
            0.022976722855410362,
            -0.007772500912637655,
            -0.011370629686084464,
            -0.0024202141228069187,
            -0.003451948339276909,
            -0.011895959592635178,
            0.007682429428808488,
            0.010086046403048249,
            -0.0008757602062009965,
            -0.014251167390667582,
            -0.026864166093091172,
            -0.039497420892246504,
            -0.045928216503519394,
            -0.045907092097717324,
            -0.04768245282693115,
            -0.04492336064385071,
            -0.04698187434104121,
            -0.04038041482557898,
            -0.046660002900503164,
            -0.047151206941190474,
            -0.022827284884143786,
            -0.023614350291475118,
            -0.018643856253589514,
            -0.014787582207719925,
            -0.019720471933311858,
            -0.023532099336742086,
            -0.03598435362901934,
            -0.03868039499204993,
            -0.03944339224457071,
            -0.05035428237648916,
            -0.06292689370327137,
            -0.04157553673022397,
            -0.05687108959778405,
            -0.0646642649159181,
            -0.03868157619260477,
            -0.04181010780367967,
            -0.034933433751307585,
            -0.04002117103049006,
            -0.0459681823002025,
            -0.048274326014986525,
            -0.05879783751749245,
            -0.05646455868142086,
            -0.06114611594688348,
            0.02328389821768522,
            0.012399926679924523,
            0.008828201583664473,
            -0.009343493742127174,
            -0.013080244012780181,
            0.008605449651028213,
            0.0004668165976391475,
            -0.0029740282875322342,
            -0.002524358114401554,
            -0.018393332774797707,
            -0.019345141805352517,
            -0.03500682100875897,
            -0.027782054259626005,
            -0.031012328281021
           ]
          }
         ],
         "hovertemplate": "color=Central Europe<br>%{xaxis.title.text}=%{x}<br>%{yaxis.title.text}=%{y}<extra></extra>",
         "legendgroup": "Central Europe",
         "marker": {
          "color": "#636efa",
          "symbol": "circle"
         },
         "name": "Central Europe",
         "showlegend": true,
         "type": "splom"
        },
        {
         "diagonal": {
          "visible": false
         },
         "dimensions": [
          {
           "axis": {
            "matches": true
           },
           "label": "0",
           "values": [
            19.529683977790597,
            19.282324409260834,
            20.121105922408418,
            19.66532867155901,
            21.047689083061563,
            21.38564366766164,
            20.543194812301685,
            21.394213953511166,
            23.176872553403033,
            23.531285144586388,
            24.06070345014163,
            23.591508228856416,
            23.029462050136843,
            22.29254754260147,
            12.973330806141778,
            13.935292883630837,
            12.342474787599366,
            11.999325426215767,
            11.559923667723876,
            11.75529165211573,
            12.052721184170542,
            12.26723814457919,
            12.443051384731804,
            12.525651155786692,
            12.404163010567993,
            12.427338599538293,
            13.242223563154608,
            13.060861016107651,
            50.12172668667589,
            52.131481125460866,
            54.490015909172286,
            49.49589995403355,
            46.83612079849331,
            48.01740204622918,
            46.652110725362085,
            46.02641496991078,
            47.241364822288,
            46.655458847964766,
            47.73027630205767,
            48.62459324441513,
            47.4633633300488,
            46.35870155334199,
            14.333330894768288,
            14.820066101306477,
            15.550448042693858,
            16.116956247682307,
            15.132183292892428,
            15.803220127500916,
            16.216991826989723,
            16.068395688802397,
            15.60655998419026,
            15.634195001924017,
            15.504155892010548,
            14.507267110360171,
            14.469401983620305,
            14.146970733879963
           ]
          },
          {
           "axis": {
            "matches": true
           },
           "label": "1",
           "values": [
            8.833842063246545,
            6.078620096628199,
            3.898656059017693,
            4.7265009894915835,
            7.6251343763673685,
            4.749533571557702,
            3.3681743683847594,
            5.254812509238723,
            4.855010597955932,
            2.2102655711679238,
            0.6869659067733535,
            -0.8617855245444968,
            -2.1868440604875934,
            -3.761536963390871,
            8.892088779672989,
            7.100492853991418,
            4.663800058228827,
            6.173542352145103,
            7.9247165892124665,
            5.020538250167811,
            2.8761288605385698,
            3.916942780034281,
            1.8147564792834454,
            -0.29876033933033147,
            -2.3558197609682723,
            -2.9456684002967317,
            -5.168288831115351,
            -6.203767122289462,
            -1.3059321806233006,
            -2.083016027796204,
            -4.261018296639435,
            -2.3961081729666045,
            -9.266386495421681,
            -12.091511084069166,
            -11.641936661679923,
            -11.325762012652612,
            -13.669492083488585,
            -14.923670224891714,
            -9.424030632206533,
            -14.407393926456706,
            -13.050742962161065,
            -13.509761343752906,
            6.059463314687043,
            2.6986092695604262,
            1.589960140577567,
            2.916886418122324,
            6.830696249453698,
            2.5773454585880984,
            2.832346861034737,
            3.2820112994858657,
            0.4336327808205472,
            -1.2835907953617534,
            -2.7924974455322493,
            -4.154981619485663,
            -5.805434287916643,
            -6.153881136655535
           ]
          },
          {
           "axis": {
            "matches": true
           },
           "label": "2",
           "values": [
            1.6160887824824859,
            -11.629625480063849,
            -17.39644492011338,
            -1.7408449901741438,
            17.719790886892717,
            -0.08198592859731138,
            -5.325141606615752,
            9.760185756737748,
            9.670356284536307,
            -1.083852523051468,
            -1.296852419433456,
            -8.356780684560244,
            -6.640095435018476,
            -5.926136923051002,
            -3.2366312695795583,
            -7.666639964013084,
            -14.003964494468187,
            2.960091525968301,
            18.178376525528666,
            3.528529312420642,
            -5.561683229246643,
            8.628062345349337,
            13.163702001677294,
            10.835938714035718,
            4.347572254792469,
            3.925378623435294,
            -6.095138566085758,
            -5.349322047236067,
            1.0912807600617813,
            -2.684117633788934,
            -11.117035027207939,
            5.91258875923679,
            20.877907731021313,
            7.006884352565379,
            2.24737143142375,
            11.197155544760664,
            13.020174785303576,
            13.417471271334232,
            9.394636983984043,
            -5.679084643649748,
            -12.21728406782983,
            -8.627439173594066,
            3.264728505781036,
            -12.217534142374577,
            -15.482676094562871,
            -5.078081486115629,
            21.457928247331374,
            -1.182086968413132,
            2.406416381546565,
            11.538752399548187,
            9.514417874211402,
            -0.15556593337391358,
            -3.81123523974658,
            -6.261942822944178,
            -8.551208017047472,
            -7.583138486310474
           ]
          },
          {
           "axis": {
            "matches": true
           },
           "label": "3",
           "values": [
            0.8734081101619737,
            0.8992793371412922,
            1.3696633801303844,
            1.7544518789337,
            8.070102090179365,
            7.0700277867820605,
            7.1322524643020735,
            8.046410320422,
            14.123222397231057,
            13.793589839609364,
            13.157838025339942,
            12.289744025557052,
            12.665390011337633,
            11.022421105187773,
            -1.2318022674540428,
            -2.0939282772994363,
            -4.9243035869458565,
            -5.078779500559598,
            -5.057138261258171,
            -5.141178618110635,
            -4.468487405272934,
            -4.624668068004059,
            -4.28841755905279,
            -3.902397789169222,
            -4.566594395216133,
            -4.485385727416638,
            -5.202849763913535,
            -5.716404660310065,
            -4.661468594718429,
            -4.904608518701323,
            -4.970878261249622,
            -3.955289739180317,
            -2.839669829417973,
            -2.768137709829727,
            -1.3846725370464597,
            -1.8957044657865696,
            -1.409022994290395,
            -0.844594254950396,
            -1.0943875662559959,
            -0.6237925495938544,
            -1.3397018609382336,
            3.144621496442114,
            -2.8480229062797986,
            -1.6920405995893324,
            0.23774414402431696,
            0.003950186919023302,
            -0.45372339370919385,
            0.2903545506978195,
            0.07931259935420788,
            0.1560594427397541,
            -0.24190600810805,
            -0.931559886943285,
            -2.900904179993854,
            -5.173572968124479,
            -4.827835000194972,
            -4.57236276295027
           ]
          },
          {
           "axis": {
            "matches": true
           },
           "label": "4",
           "values": [
            -0.02320003416549829,
            -0.04142303912695476,
            -0.03539752757403861,
            -0.04867568879008887,
            -0.04405056159750856,
            -0.020179388946591936,
            -0.009161272421364428,
            -0.012903414452584413,
            -0.014037348512788485,
            -0.017678112025036843,
            -0.017638669100528095,
            -0.03418987217218493,
            -0.04344026036812476,
            -0.0454803758881822,
            -0.0019630915617323773,
            -0.019362502627619335,
            0.0039096278986746,
            0.0004537260765883297,
            0.001238710502755879,
            0.025494007236926835,
            0.029875030947792022,
            0.03612517631785805,
            0.02454946971756173,
            0.013915812048340751,
            0.01508275644192807,
            -0.007368450349304994,
            -0.005668672956065006,
            -0.007223591466482697,
            -0.07207264441218982,
            -0.07362366582881197,
            -0.0717597435169324,
            -0.08432865799165995,
            -0.08490034168723332,
            -0.07114651525496114,
            -0.06267067094889735,
            -0.06397313535982734,
            -0.06945256512490866,
            -0.08177988185452408,
            -0.07271408696614774,
            -0.09002811411876353,
            -0.08770812741418876,
            -0.08700888984249289,
            0.0817564788822431,
            0.06494656684641653,
            0.07061793806471951,
            0.058022614788326134,
            0.04957787181957551,
            0.06069119891755437,
            0.07309480230843889,
            0.07164216705632613,
            0.060594246868877884,
            0.04269631802977815,
            0.0473147210653323,
            0.019831568651857368,
            0.02409560694725452,
            0.0252793060981294
           ]
          }
         ],
         "hovertemplate": "color=Western Europe<br>%{xaxis.title.text}=%{x}<br>%{yaxis.title.text}=%{y}<extra></extra>",
         "legendgroup": "Western Europe",
         "marker": {
          "color": "#EF553B",
          "symbol": "circle"
         },
         "name": "Western Europe",
         "showlegend": true,
         "type": "splom"
        },
        {
         "diagonal": {
          "visible": false
         },
         "dimensions": [
          {
           "axis": {
            "matches": true
           },
           "label": "0",
           "values": [
            13.914430772731992,
            14.080693722272144,
            16.192969012719196,
            15.55959323528748,
            14.82287841663392,
            16.520904163834125,
            16.333580874869043,
            17.72407403190927,
            17.97390918293369,
            18.764371027475374,
            19.373505828874986,
            19.960555061557777,
            20.91164754968209,
            22.204466208665327,
            4.2525707768126395,
            4.793102311735353,
            5.71286363809519,
            4.987056359311288,
            2.4303575471207446,
            3.526634842118501,
            4.105295700165382,
            3.816956987218487,
            3.877265170620949,
            5.398987980211013,
            4.877455943358446,
            5.7352916452657645,
            5.86668561237649,
            4.809497972250178,
            11.643141459098215,
            14.44288177565936,
            13.377309154258594,
            11.673135825489558,
            10.313557437889042,
            11.147179413608415,
            11.365387251148302,
            10.72192315204265,
            10.762648895536158,
            10.708893664904855,
            12.200039366206697,
            14.095510823080604,
            14.429222689773146,
            14.64050758986371
           ]
          },
          {
           "axis": {
            "matches": true
           },
           "label": "1",
           "values": [
            -3.501049678645257,
            -6.436903607509239,
            2.083173095702483,
            4.826310081186733,
            4.335515783799318,
            -0.40559378914712385,
            -1.1342284518885277,
            -0.3623245705517156,
            -1.88142004564081,
            -3.035148079224458,
            -4.679442788347886,
            -5.9640848298400115,
            -7.772602970837014,
            -8.483219064564938,
            -2.0842241815924694,
            -4.43396513022563,
            -6.146184344109535,
            -4.5093496915005495,
            -2.131965374645932,
            -7.093365075237741,
            -7.901974130785374,
            -6.757111440960531,
            -7.699899621930093,
            -7.104762058684569,
            -8.810885332589857,
            -10.430192593797784,
            -13.389367556625032,
            -14.108906449561028,
            -6.329671313175121,
            -3.568714521369707,
            -5.3369237447631095,
            -3.4637534824827316,
            -2.3412341438585993,
            -8.056494970836344,
            -8.180110637317888,
            -7.558140012726262,
            -8.477757053744861,
            -10.41404813437205,
            -11.678116214890009,
            -10.794761174648642,
            -12.284453150896475,
            -12.256830052953193
           ]
          },
          {
           "axis": {
            "matches": true
           },
           "label": "2",
           "values": [
            0.3655816885432677,
            -14.081882949546833,
            -1.0137797443352061,
            12.034180684882408,
            13.741416246349548,
            -9.664887674219404,
            -4.312472429996086,
            9.494885059978106,
            1.8245197491973382,
            2.577382233645633,
            -1.5487292311779646,
            -5.0148600386499185,
            -10.336807117092917,
            -10.480164500209165,
            -6.4773739235280825,
            -13.152527009329058,
            -12.566221316989946,
            2.660852219527784,
            20.95855202728776,
            -3.6169861269310184,
            -2.8098885913800737,
            7.786328979664316,
            8.331949436061945,
            10.32853049439174,
            10.037515196584216,
            5.281067268298316,
            -6.892144352747099,
            -7.075117050867598,
            0.8572354177590192,
            -6.978765742506924,
            -11.514231676159447,
            7.097903070065864,
            20.470067602652414,
            -10.18637483284962,
            -6.048883526355806,
            4.665029294713129,
            5.788134205673426,
            -0.9371718497334844,
            -1.0055467801370181,
            -1.6241079013760356,
            -8.896664144015906,
            -6.077448829187765
           ]
          },
          {
           "axis": {
            "matches": true
           },
           "label": "3",
           "values": [
            10.542958596608981,
            10.160178797216165,
            7.2747756397710335,
            6.225304497674423,
            6.725489604235744,
            7.161776134197276,
            6.865423916684747,
            7.273849933729032,
            7.355061430246796,
            7.545505503506111,
            7.593580035767226,
            7.808199013609169,
            7.882375109160568,
            7.023837968222764,
            -1.2306357098939131,
            -2.6531419116067902,
            -5.026172338040901,
            -5.852446033409914,
            -6.380698779904829,
            -5.974490369628696,
            -5.990822492124568,
            -3.1447184472606122,
            -2.379056057141038,
            3.5308833830241366,
            1.3169116713903992,
            0.34679828480169855,
            -3.4478552333986396,
            -3.581986324808562,
            7.3011834583068955,
            5.934638373751886,
            2.2545815052014158,
            -0.9258222420317329,
            -3.095546275229875,
            -4.665974311600264,
            -5.701116887142713,
            -6.9666071361000785,
            -7.866090907826915,
            -9.615745996109588,
            -10.334436727896035,
            -0.6243921855664987,
            -0.5651738900254535,
            -0.591803154802903
           ]
          },
          {
           "axis": {
            "matches": true
           },
           "label": "4",
           "values": [
            0.10896907544975794,
            0.08328448139899473,
            0.07007049577710427,
            0.048004407587195,
            0.041510525151576494,
            0.04027536493211635,
            0.05009051880206771,
            0.048012025203777925,
            0.03925603743214712,
            0.022804201837198685,
            0.02531118293566869,
            0.0054154969809250076,
            -0.005431731440054936,
            -0.007352391401429606,
            0.09428832321975533,
            0.0757898928350615,
            0.06669740662575953,
            0.058185552078148316,
            0.03613274293786033,
            0.05215452453681327,
            0.05423866167060497,
            0.049670314910344994,
            0.014294173000437045,
            -0.004223276955598216,
            -0.012620410232364742,
            -0.03116609196758041,
            -0.03505496271847489,
            -0.03428711255734765,
            0.10702519186373614,
            0.07901149768287685,
            0.057998910542823495,
            0.04088996556589738,
            0.030906603781192234,
            0.04845296624119102,
            0.05025754887005644,
            0.03802125609828648,
            0.023102237960007165,
            0.004315467895300371,
            0.0018186674628498066,
            -0.015843248316065726,
            -0.012717694303016726,
            -0.021536239926432443
           ]
          }
         ],
         "hovertemplate": "color=Northern Europe<br>%{xaxis.title.text}=%{x}<br>%{yaxis.title.text}=%{y}<extra></extra>",
         "legendgroup": "Northern Europe",
         "marker": {
          "color": "#00cc96",
          "symbol": "circle"
         },
         "name": "Northern Europe",
         "showlegend": true,
         "type": "splom"
        },
        {
         "diagonal": {
          "visible": false
         },
         "dimensions": [
          {
           "axis": {
            "matches": true
           },
           "label": "0",
           "values": [
            2.663327422584936,
            2.7014647067887463,
            3.198262732103172,
            3.5596705971687768,
            4.411261679802539,
            5.449100665724232,
            5.763405582719804,
            6.627339170419324,
            6.733434420117866,
            6.366927632376743,
            6.257864508523457,
            6.246905936209173,
            6.381139322241959,
            6.207555441849149,
            -0.398011840711422,
            -0.06013934064809803,
            0.31994344057580815,
            0.3673169902417548,
            -0.016287474679493784,
            -0.12918861190916617,
            -0.2557852316205653,
            -0.46252083578876657,
            -0.5405011268118877,
            -2.177810193913462,
            -2.6706063799313995,
            -3.131124786527006,
            -3.217024297735778,
            -3.7776817666602063
           ]
          },
          {
           "axis": {
            "matches": true
           },
           "label": "1",
           "values": [
            30.046927438888734,
            29.212463596780644,
            28.19152118474198,
            30.729608475435736,
            30.484416912003468,
            27.62781271610322,
            25.859153241319778,
            25.874273258692597,
            24.12767580900485,
            21.62611778924676,
            19.717383144783657,
            19.05512516221209,
            17.702203796486167,
            16.987710431259522,
            55.423565906300325,
            53.096419394738575,
            52.39726807670954,
            52.4989825072726,
            53.00216664105311,
            49.35801748585004,
            47.44330013592809,
            45.719839250320085,
            42.711495626014404,
            37.63602796369404,
            35.23240254398309,
            33.597339527092586,
            31.790872522184667,
            29.885953990021186
           ]
          },
          {
           "axis": {
            "matches": true
           },
           "label": "2",
           "values": [
            -7.813922302991779,
            -7.190124984501813,
            -8.553890395252031,
            13.700250313470582,
            18.552719151291775,
            7.447749944464322,
            3.7522468458303613,
            10.700160899754692,
            6.4822905906348804,
            -3.660075674460116,
            -10.466325936616112,
            -8.454703047758054,
            -11.701089378008618,
            -11.17871088046714,
            -2.8301734840238675,
            -10.878951483293372,
            -15.543594657761352,
            -8.393639459675835,
            6.185264032323882,
            -2.010922729169075,
            5.233099824454424,
            11.849200140676036,
            7.7424638654375215,
            -5.743197615092536,
            -11.342584908761925,
            -10.796730995394785,
            -15.689084515900507,
            -17.223843052017468
           ]
          },
          {
           "axis": {
            "matches": true
           },
           "label": "3",
           "values": [
            -3.345065689290974,
            -3.1125658413398734,
            -1.8446614558298522,
            -2.3876315849769685,
            -3.1437270448741894,
            -1.009520563764465,
            -0.7546603707467262,
            -0.7978099621331334,
            -1.752860518233291,
            -1.3848377827154263,
            -1.6609003664411008,
            -1.6351970390165236,
            -1.4972457395049943,
            -0.4968142667626123,
            -5.613766205973924,
            -4.492435122147388,
            -4.956665882787267,
            -5.3188917124106885,
            -5.542593446792908,
            -6.8176738277194,
            -6.399101932762391,
            -5.787586120791273,
            -4.612742433157785,
            -3.651435986271213,
            -2.6888029735067165,
            -2.3052328463250618,
            -1.9532111276846484,
            -1.5256495682882454
           ]
          },
          {
           "axis": {
            "matches": true
           },
           "label": "4",
           "values": [
            0.01695883599379295,
            -0.0006709366511824896,
            0.0024147798961948433,
            -0.011776435080923067,
            -0.01502365970685134,
            0.006893409504028778,
            0.014276554525864262,
            0.013711279013538684,
            0.012404371404727133,
            0.007397330183509437,
            0.0108372002114988,
            -0.0013138626133927223,
            0.004279017496812735,
            0.004449683438834152,
            0.01141424656438573,
            -0.006982254709136237,
            0.0021896325945945662,
            -0.009200401757528629,
            -0.037826755281551536,
            -0.017634298779384935,
            -0.014488542433771552,
            -0.013458981048001499,
            -0.016799573434718842,
            -0.024438522898760223,
            -0.02336533428033202,
            -0.031183980936817547,
            -0.024062970261152276,
            -0.021939125555032992
           ]
          }
         ],
         "hovertemplate": "color=Southwestern Europe<br>%{xaxis.title.text}=%{x}<br>%{yaxis.title.text}=%{y}<extra></extra>",
         "legendgroup": "Southwestern Europe",
         "marker": {
          "color": "#ab63fa",
          "symbol": "circle"
         },
         "name": "Southwestern Europe",
         "showlegend": true,
         "type": "splom"
        },
        {
         "diagonal": {
          "visible": false
         },
         "dimensions": [
          {
           "axis": {
            "matches": true
           },
           "label": "0",
           "values": [
            -28.36980329889524,
            -27.231401339258547,
            -25.32445805134323,
            -25.866979240620484,
            -25.16998000362592,
            -24.063684773629525,
            -24.423454928914648,
            -23.395057540395804,
            -23.267959112741895,
            -21.750803322929613,
            -21.921174620440656,
            -21.423289293091862,
            -20.47585826541213,
            -18.48319918778899,
            -24.25948986353619,
            -22.92027423928463,
            -20.86166913035982,
            -19.88578442228784,
            -19.653371336197555,
            -23.17645115040437,
            -22.02486567719166,
            -21.747708972446027,
            -21.456218895216086,
            -21.417901635791594,
            -16.667970011114324,
            -17.873275206943134,
            -13.25577964032496,
            -12.989614746518965,
            -25.439115849146766,
            -23.931502078972517,
            -22.373548229737214,
            -22.720875944948705,
            -21.253885923774497,
            -20.8267201615292,
            -20.68574182345447,
            -19.320546732845774,
            -19.52422598410298,
            -18.889748589097476,
            -17.800407560283624,
            -17.382442991221993,
            -15.964127374247212,
            -15.987936803387141
           ]
          },
          {
           "axis": {
            "matches": true
           },
           "label": "1",
           "values": [
            -5.089984138659137,
            -6.022778258825674,
            -6.646661977427955,
            -3.036203793618231,
            -1.182816163520454,
            -5.598223591129176,
            -5.836605519975599,
            -6.495362584463775,
            -7.016200181113261,
            -4.766414991061896,
            -3.8805918211438906,
            -5.7337340265776655,
            -6.775397154491266,
            -7.0566067883750945,
            -0.45012758803922426,
            -2.693245844478042,
            -4.063840096900461,
            -3.5647563042078945,
            0.8613231666218122,
            -5.347077665687515,
            -9.478936343440795,
            -9.023868873169501,
            -10.76904689409369,
            -10.79746771420464,
            -7.758704346369775,
            -9.167052509682977,
            -9.477195315368345,
            -10.94733276841914,
            4.077150085180465,
            3.5385565899938545,
            2.341107704111938,
            3.8739278644480257,
            6.1678709221702634,
            1.0827467209780837,
            1.0539401624949414,
            -1.2456204523422316,
            -1.5220410206479338,
            -1.806684602732867,
            -2.442485917913672,
            -3.944594568328369,
            -4.328105554801997,
            -5.027160009885278
           ]
          },
          {
           "axis": {
            "matches": true
           },
           "label": "2",
           "values": [
            -8.99298624155608,
            -14.963093211793868,
            -9.677656154193459,
            9.415235026780035,
            27.710889572324213,
            2.3604361300898304,
            -2.8366806987867634,
            0.17322573316528908,
            2.1533347010950172,
            4.01953211339933,
            7.421018546253044,
            2.3170826752483054,
            -6.1453030185449915,
            -1.8341295752543794,
            -4.941641979775725,
            -11.760849202961516,
            -13.115648480535292,
            3.182712439412936,
            32.221940240336906,
            13.12481690988366,
            -3.209524681525172,
            6.486874693613862,
            -0.4809374443463474,
            3.4148792909345103,
            4.1000334294807885,
            2.881242233564854,
            -1.290473779016127,
            -8.285271181649213,
            -9.687327237398796,
            -11.971984529356947,
            -11.652233490684077,
            10.032109690835833,
            31.83013982360948,
            7.1206199663946315,
            2.2725219990367806,
            -1.8791010781611361,
            -1.1375000663920027,
            0.08945724182788455,
            3.376669597212527,
            -0.673468440595287,
            -2.269132832471151,
            -1.3970130665868576
           ]
          },
          {
           "axis": {
            "matches": true
           },
           "label": "3",
           "values": [
            -6.318880022042013,
            -7.3800581193387655,
            -8.245120269091757,
            -8.859791382986572,
            -9.849180763546455,
            -8.912650685486506,
            -8.005320734080113,
            -7.300750960370416,
            -7.856873173376073,
            -8.586371737042953,
            -9.476640124469196,
            -9.37813588413822,
            -9.56470784744978,
            -11.458820248591133,
            9.073885977711141,
            6.89968506330465,
            7.706499481254137,
            9.446782779484401,
            13.847667058847174,
            -1.6322086998611884,
            -2.8418211780889617,
            -4.8586490312885005,
            -7.045775806837738,
            -10.038558221949977,
            9.266424171109835,
            7.593340772943594,
            15.580716667097747,
            14.089044276340791,
            15.627837245167914,
            15.288062110975627,
            14.232161575925748,
            12.562087298599845,
            14.480189423822518,
            17.276851713815915,
            17.186910898279752,
            17.2426848103969,
            16.720781084054945,
            15.985177956463206,
            15.313664110557722,
            14.763182580203681,
            14.535394784229418,
            12.36030260601211
           ]
          },
          {
           "axis": {
            "matches": true
           },
           "label": "4",
           "values": [
            0.032500710662938755,
            0.022127225784897012,
            0.01723897376013921,
            -0.0023590018549635057,
            -0.020207309089034134,
            0.013037596486733484,
            0.04789773145678059,
            0.05254775354863856,
            0.041187909772726086,
            0.032917961594224006,
            0.038410754270343135,
            0.013800510219203822,
            0.008615972406122894,
            0.004650476793303478,
            0.02212917035593041,
            0.011354106487432264,
            0.01696596564840175,
            0.00962767953154086,
            0.00408536160342402,
            0.014190233936595367,
            0.017389094117935232,
            0.014909472221120284,
            -0.004834021860656375,
            -0.024521697485699125,
            -0.012857992612891379,
            -0.02174895079093209,
            -0.009241406002780412,
            -0.0007017706448038985,
            0.007805863038722849,
            0.004010506320149219,
            0.002306883764771919,
            -0.012248045477547145,
            -0.020838755885874072,
            -0.012175672024888269,
            -0.007439029239822749,
            0.00828732160798844,
            0.011466154520083531,
            -0.0013322393208980968,
            0.015264853811537362,
            0.003381268578796525,
            0.006669630425269145,
            0.0017509609549705447
           ]
          }
         ],
         "hovertemplate": "color=Eastern Europe<br>%{xaxis.title.text}=%{x}<br>%{yaxis.title.text}=%{y}<extra></extra>",
         "legendgroup": "Eastern Europe",
         "marker": {
          "color": "#FFA15A",
          "symbol": "circle"
         },
         "name": "Eastern Europe",
         "showlegend": true,
         "type": "splom"
        }
       ],
       "layout": {
        "dragmode": "select",
        "legend": {
         "title": {
          "text": "color"
         },
         "tracegroupgap": 0
        },
        "template": {
         "data": {
          "bar": [
           {
            "error_x": {
             "color": "#2a3f5f"
            },
            "error_y": {
             "color": "#2a3f5f"
            },
            "marker": {
             "line": {
              "color": "#E5ECF6",
              "width": 0.5
             },
             "pattern": {
              "fillmode": "overlay",
              "size": 10,
              "solidity": 0.2
             }
            },
            "type": "bar"
           }
          ],
          "barpolar": [
           {
            "marker": {
             "line": {
              "color": "#E5ECF6",
              "width": 0.5
             },
             "pattern": {
              "fillmode": "overlay",
              "size": 10,
              "solidity": 0.2
             }
            },
            "type": "barpolar"
           }
          ],
          "carpet": [
           {
            "aaxis": {
             "endlinecolor": "#2a3f5f",
             "gridcolor": "white",
             "linecolor": "white",
             "minorgridcolor": "white",
             "startlinecolor": "#2a3f5f"
            },
            "baxis": {
             "endlinecolor": "#2a3f5f",
             "gridcolor": "white",
             "linecolor": "white",
             "minorgridcolor": "white",
             "startlinecolor": "#2a3f5f"
            },
            "type": "carpet"
           }
          ],
          "choropleth": [
           {
            "colorbar": {
             "outlinewidth": 0,
             "ticks": ""
            },
            "type": "choropleth"
           }
          ],
          "contour": [
           {
            "colorbar": {
             "outlinewidth": 0,
             "ticks": ""
            },
            "colorscale": [
             [
              0,
              "#0d0887"
             ],
             [
              0.1111111111111111,
              "#46039f"
             ],
             [
              0.2222222222222222,
              "#7201a8"
             ],
             [
              0.3333333333333333,
              "#9c179e"
             ],
             [
              0.4444444444444444,
              "#bd3786"
             ],
             [
              0.5555555555555556,
              "#d8576b"
             ],
             [
              0.6666666666666666,
              "#ed7953"
             ],
             [
              0.7777777777777778,
              "#fb9f3a"
             ],
             [
              0.8888888888888888,
              "#fdca26"
             ],
             [
              1,
              "#f0f921"
             ]
            ],
            "type": "contour"
           }
          ],
          "contourcarpet": [
           {
            "colorbar": {
             "outlinewidth": 0,
             "ticks": ""
            },
            "type": "contourcarpet"
           }
          ],
          "heatmap": [
           {
            "colorbar": {
             "outlinewidth": 0,
             "ticks": ""
            },
            "colorscale": [
             [
              0,
              "#0d0887"
             ],
             [
              0.1111111111111111,
              "#46039f"
             ],
             [
              0.2222222222222222,
              "#7201a8"
             ],
             [
              0.3333333333333333,
              "#9c179e"
             ],
             [
              0.4444444444444444,
              "#bd3786"
             ],
             [
              0.5555555555555556,
              "#d8576b"
             ],
             [
              0.6666666666666666,
              "#ed7953"
             ],
             [
              0.7777777777777778,
              "#fb9f3a"
             ],
             [
              0.8888888888888888,
              "#fdca26"
             ],
             [
              1,
              "#f0f921"
             ]
            ],
            "type": "heatmap"
           }
          ],
          "heatmapgl": [
           {
            "colorbar": {
             "outlinewidth": 0,
             "ticks": ""
            },
            "colorscale": [
             [
              0,
              "#0d0887"
             ],
             [
              0.1111111111111111,
              "#46039f"
             ],
             [
              0.2222222222222222,
              "#7201a8"
             ],
             [
              0.3333333333333333,
              "#9c179e"
             ],
             [
              0.4444444444444444,
              "#bd3786"
             ],
             [
              0.5555555555555556,
              "#d8576b"
             ],
             [
              0.6666666666666666,
              "#ed7953"
             ],
             [
              0.7777777777777778,
              "#fb9f3a"
             ],
             [
              0.8888888888888888,
              "#fdca26"
             ],
             [
              1,
              "#f0f921"
             ]
            ],
            "type": "heatmapgl"
           }
          ],
          "histogram": [
           {
            "marker": {
             "pattern": {
              "fillmode": "overlay",
              "size": 10,
              "solidity": 0.2
             }
            },
            "type": "histogram"
           }
          ],
          "histogram2d": [
           {
            "colorbar": {
             "outlinewidth": 0,
             "ticks": ""
            },
            "colorscale": [
             [
              0,
              "#0d0887"
             ],
             [
              0.1111111111111111,
              "#46039f"
             ],
             [
              0.2222222222222222,
              "#7201a8"
             ],
             [
              0.3333333333333333,
              "#9c179e"
             ],
             [
              0.4444444444444444,
              "#bd3786"
             ],
             [
              0.5555555555555556,
              "#d8576b"
             ],
             [
              0.6666666666666666,
              "#ed7953"
             ],
             [
              0.7777777777777778,
              "#fb9f3a"
             ],
             [
              0.8888888888888888,
              "#fdca26"
             ],
             [
              1,
              "#f0f921"
             ]
            ],
            "type": "histogram2d"
           }
          ],
          "histogram2dcontour": [
           {
            "colorbar": {
             "outlinewidth": 0,
             "ticks": ""
            },
            "colorscale": [
             [
              0,
              "#0d0887"
             ],
             [
              0.1111111111111111,
              "#46039f"
             ],
             [
              0.2222222222222222,
              "#7201a8"
             ],
             [
              0.3333333333333333,
              "#9c179e"
             ],
             [
              0.4444444444444444,
              "#bd3786"
             ],
             [
              0.5555555555555556,
              "#d8576b"
             ],
             [
              0.6666666666666666,
              "#ed7953"
             ],
             [
              0.7777777777777778,
              "#fb9f3a"
             ],
             [
              0.8888888888888888,
              "#fdca26"
             ],
             [
              1,
              "#f0f921"
             ]
            ],
            "type": "histogram2dcontour"
           }
          ],
          "mesh3d": [
           {
            "colorbar": {
             "outlinewidth": 0,
             "ticks": ""
            },
            "type": "mesh3d"
           }
          ],
          "parcoords": [
           {
            "line": {
             "colorbar": {
              "outlinewidth": 0,
              "ticks": ""
             }
            },
            "type": "parcoords"
           }
          ],
          "pie": [
           {
            "automargin": true,
            "type": "pie"
           }
          ],
          "scatter": [
           {
            "fillpattern": {
             "fillmode": "overlay",
             "size": 10,
             "solidity": 0.2
            },
            "type": "scatter"
           }
          ],
          "scatter3d": [
           {
            "line": {
             "colorbar": {
              "outlinewidth": 0,
              "ticks": ""
             }
            },
            "marker": {
             "colorbar": {
              "outlinewidth": 0,
              "ticks": ""
             }
            },
            "type": "scatter3d"
           }
          ],
          "scattercarpet": [
           {
            "marker": {
             "colorbar": {
              "outlinewidth": 0,
              "ticks": ""
             }
            },
            "type": "scattercarpet"
           }
          ],
          "scattergeo": [
           {
            "marker": {
             "colorbar": {
              "outlinewidth": 0,
              "ticks": ""
             }
            },
            "type": "scattergeo"
           }
          ],
          "scattergl": [
           {
            "marker": {
             "colorbar": {
              "outlinewidth": 0,
              "ticks": ""
             }
            },
            "type": "scattergl"
           }
          ],
          "scattermapbox": [
           {
            "marker": {
             "colorbar": {
              "outlinewidth": 0,
              "ticks": ""
             }
            },
            "type": "scattermapbox"
           }
          ],
          "scatterpolar": [
           {
            "marker": {
             "colorbar": {
              "outlinewidth": 0,
              "ticks": ""
             }
            },
            "type": "scatterpolar"
           }
          ],
          "scatterpolargl": [
           {
            "marker": {
             "colorbar": {
              "outlinewidth": 0,
              "ticks": ""
             }
            },
            "type": "scatterpolargl"
           }
          ],
          "scatterternary": [
           {
            "marker": {
             "colorbar": {
              "outlinewidth": 0,
              "ticks": ""
             }
            },
            "type": "scatterternary"
           }
          ],
          "surface": [
           {
            "colorbar": {
             "outlinewidth": 0,
             "ticks": ""
            },
            "colorscale": [
             [
              0,
              "#0d0887"
             ],
             [
              0.1111111111111111,
              "#46039f"
             ],
             [
              0.2222222222222222,
              "#7201a8"
             ],
             [
              0.3333333333333333,
              "#9c179e"
             ],
             [
              0.4444444444444444,
              "#bd3786"
             ],
             [
              0.5555555555555556,
              "#d8576b"
             ],
             [
              0.6666666666666666,
              "#ed7953"
             ],
             [
              0.7777777777777778,
              "#fb9f3a"
             ],
             [
              0.8888888888888888,
              "#fdca26"
             ],
             [
              1,
              "#f0f921"
             ]
            ],
            "type": "surface"
           }
          ],
          "table": [
           {
            "cells": {
             "fill": {
              "color": "#EBF0F8"
             },
             "line": {
              "color": "white"
             }
            },
            "header": {
             "fill": {
              "color": "#C8D4E3"
             },
             "line": {
              "color": "white"
             }
            },
            "type": "table"
           }
          ]
         },
         "layout": {
          "annotationdefaults": {
           "arrowcolor": "#2a3f5f",
           "arrowhead": 0,
           "arrowwidth": 1
          },
          "autotypenumbers": "strict",
          "coloraxis": {
           "colorbar": {
            "outlinewidth": 0,
            "ticks": ""
           }
          },
          "colorscale": {
           "diverging": [
            [
             0,
             "#8e0152"
            ],
            [
             0.1,
             "#c51b7d"
            ],
            [
             0.2,
             "#de77ae"
            ],
            [
             0.3,
             "#f1b6da"
            ],
            [
             0.4,
             "#fde0ef"
            ],
            [
             0.5,
             "#f7f7f7"
            ],
            [
             0.6,
             "#e6f5d0"
            ],
            [
             0.7,
             "#b8e186"
            ],
            [
             0.8,
             "#7fbc41"
            ],
            [
             0.9,
             "#4d9221"
            ],
            [
             1,
             "#276419"
            ]
           ],
           "sequential": [
            [
             0,
             "#0d0887"
            ],
            [
             0.1111111111111111,
             "#46039f"
            ],
            [
             0.2222222222222222,
             "#7201a8"
            ],
            [
             0.3333333333333333,
             "#9c179e"
            ],
            [
             0.4444444444444444,
             "#bd3786"
            ],
            [
             0.5555555555555556,
             "#d8576b"
            ],
            [
             0.6666666666666666,
             "#ed7953"
            ],
            [
             0.7777777777777778,
             "#fb9f3a"
            ],
            [
             0.8888888888888888,
             "#fdca26"
            ],
            [
             1,
             "#f0f921"
            ]
           ],
           "sequentialminus": [
            [
             0,
             "#0d0887"
            ],
            [
             0.1111111111111111,
             "#46039f"
            ],
            [
             0.2222222222222222,
             "#7201a8"
            ],
            [
             0.3333333333333333,
             "#9c179e"
            ],
            [
             0.4444444444444444,
             "#bd3786"
            ],
            [
             0.5555555555555556,
             "#d8576b"
            ],
            [
             0.6666666666666666,
             "#ed7953"
            ],
            [
             0.7777777777777778,
             "#fb9f3a"
            ],
            [
             0.8888888888888888,
             "#fdca26"
            ],
            [
             1,
             "#f0f921"
            ]
           ]
          },
          "colorway": [
           "#636efa",
           "#EF553B",
           "#00cc96",
           "#ab63fa",
           "#FFA15A",
           "#19d3f3",
           "#FF6692",
           "#B6E880",
           "#FF97FF",
           "#FECB52"
          ],
          "font": {
           "color": "#2a3f5f"
          },
          "geo": {
           "bgcolor": "white",
           "lakecolor": "white",
           "landcolor": "#E5ECF6",
           "showlakes": true,
           "showland": true,
           "subunitcolor": "white"
          },
          "hoverlabel": {
           "align": "left"
          },
          "hovermode": "closest",
          "mapbox": {
           "style": "light"
          },
          "paper_bgcolor": "white",
          "plot_bgcolor": "#E5ECF6",
          "polar": {
           "angularaxis": {
            "gridcolor": "white",
            "linecolor": "white",
            "ticks": ""
           },
           "bgcolor": "#E5ECF6",
           "radialaxis": {
            "gridcolor": "white",
            "linecolor": "white",
            "ticks": ""
           }
          },
          "scene": {
           "xaxis": {
            "backgroundcolor": "#E5ECF6",
            "gridcolor": "white",
            "gridwidth": 2,
            "linecolor": "white",
            "showbackground": true,
            "ticks": "",
            "zerolinecolor": "white"
           },
           "yaxis": {
            "backgroundcolor": "#E5ECF6",
            "gridcolor": "white",
            "gridwidth": 2,
            "linecolor": "white",
            "showbackground": true,
            "ticks": "",
            "zerolinecolor": "white"
           },
           "zaxis": {
            "backgroundcolor": "#E5ECF6",
            "gridcolor": "white",
            "gridwidth": 2,
            "linecolor": "white",
            "showbackground": true,
            "ticks": "",
            "zerolinecolor": "white"
           }
          },
          "shapedefaults": {
           "line": {
            "color": "#2a3f5f"
           }
          },
          "ternary": {
           "aaxis": {
            "gridcolor": "white",
            "linecolor": "white",
            "ticks": ""
           },
           "baxis": {
            "gridcolor": "white",
            "linecolor": "white",
            "ticks": ""
           },
           "bgcolor": "#E5ECF6",
           "caxis": {
            "gridcolor": "white",
            "linecolor": "white",
            "ticks": ""
           }
          },
          "title": {
           "x": 0.05
          },
          "xaxis": {
           "automargin": true,
           "gridcolor": "white",
           "linecolor": "white",
           "ticks": "",
           "title": {
            "standoff": 15
           },
           "zerolinecolor": "white",
           "zerolinewidth": 2
          },
          "yaxis": {
           "automargin": true,
           "gridcolor": "white",
           "linecolor": "white",
           "ticks": "",
           "title": {
            "standoff": 15
           },
           "zerolinecolor": "white",
           "zerolinewidth": 2
          }
         }
        },
        "title": {
         "text": "5 Principle Components coloured by European Subregion"
        }
       }
      }
     },
     "metadata": {},
     "output_type": "display_data"
    }
   ],
   "source": [
    "comps = my_pca.transform(pca_arr)\n",
    "fig = px.scatter_matrix(\n",
    "    comps,\n",
    "    labels=[\"PC1\",\"PC2\",\"PC3\",\"PC4\",\"PC5\"],\n",
    "    color=subregions, # colour by subregion instead\n",
    "    dimensions = range(5),\n",
    "    title = \"5 Principle Components coloured by European Subregion\"\n",
    "\n",
    ")\n",
    "fig.update_traces(diagonal_visible = False)\n",
    "fig.show()"
   ]
  },
  {
   "attachments": {},
   "cell_type": "markdown",
   "metadata": {},
   "source": [
    "Indeed, it seems like the first principal component separates some regions. Lets look at its interaction with the second principal component."
   ]
  },
  {
   "cell_type": "code",
   "execution_count": 245,
   "metadata": {},
   "outputs": [
    {
     "data": {
      "application/vnd.plotly.v1+json": {
       "config": {
        "plotlyServerURL": "https://plot.ly"
       },
       "data": [
        {
         "customdata": [
          [
           "AUT"
          ],
          [
           "AUT"
          ],
          [
           "AUT"
          ],
          [
           "AUT"
          ],
          [
           "AUT"
          ],
          [
           "AUT"
          ],
          [
           "AUT"
          ],
          [
           "AUT"
          ],
          [
           "AUT"
          ],
          [
           "AUT"
          ],
          [
           "AUT"
          ],
          [
           "AUT"
          ],
          [
           "AUT"
          ],
          [
           "AUT"
          ],
          [
           "CZE"
          ],
          [
           "CZE"
          ],
          [
           "CZE"
          ],
          [
           "CZE"
          ],
          [
           "CZE"
          ],
          [
           "CZE"
          ],
          [
           "CZE"
          ],
          [
           "CZE"
          ],
          [
           "CZE"
          ],
          [
           "CZE"
          ],
          [
           "CZE"
          ],
          [
           "CZE"
          ],
          [
           "CZE"
          ],
          [
           "CZE"
          ],
          [
           "DEU"
          ],
          [
           "DEU"
          ],
          [
           "DEU"
          ],
          [
           "DEU"
          ],
          [
           "DEU"
          ],
          [
           "DEU"
          ],
          [
           "DEU"
          ],
          [
           "DEU"
          ],
          [
           "DEU"
          ],
          [
           "DEU"
          ],
          [
           "DEU"
          ],
          [
           "DEU"
          ],
          [
           "DEU"
          ],
          [
           "DEU"
          ],
          [
           "HUN"
          ],
          [
           "HUN"
          ],
          [
           "HUN"
          ],
          [
           "HUN"
          ],
          [
           "HUN"
          ],
          [
           "HUN"
          ],
          [
           "HUN"
          ],
          [
           "HUN"
          ],
          [
           "HUN"
          ],
          [
           "HUN"
          ],
          [
           "HUN"
          ],
          [
           "HUN"
          ],
          [
           "HUN"
          ],
          [
           "HUN"
          ],
          [
           "POL"
          ],
          [
           "POL"
          ],
          [
           "POL"
          ],
          [
           "POL"
          ],
          [
           "POL"
          ],
          [
           "POL"
          ],
          [
           "POL"
          ],
          [
           "POL"
          ],
          [
           "POL"
          ],
          [
           "POL"
          ],
          [
           "POL"
          ],
          [
           "POL"
          ],
          [
           "POL"
          ],
          [
           "POL"
          ],
          [
           "SVK"
          ],
          [
           "SVK"
          ],
          [
           "SVK"
          ],
          [
           "SVK"
          ],
          [
           "SVK"
          ],
          [
           "SVK"
          ],
          [
           "SVK"
          ],
          [
           "SVK"
          ],
          [
           "SVK"
          ],
          [
           "SVK"
          ],
          [
           "SVK"
          ],
          [
           "SVK"
          ],
          [
           "SVK"
          ],
          [
           "SVK"
          ],
          [
           "SVN"
          ],
          [
           "SVN"
          ],
          [
           "SVN"
          ],
          [
           "SVN"
          ],
          [
           "SVN"
          ],
          [
           "SVN"
          ],
          [
           "SVN"
          ],
          [
           "SVN"
          ],
          [
           "SVN"
          ],
          [
           "SVN"
          ],
          [
           "SVN"
          ],
          [
           "SVN"
          ],
          [
           "SVN"
          ],
          [
           "SVN"
          ]
         ],
         "hovertemplate": "color=Central Europe<br>PC1=%{x}<br>PC2=%{y}<br>Country=%{customdata[0]}<extra></extra>",
         "legendgroup": "Central Europe",
         "marker": {
          "color": "#636efa",
          "symbol": "circle"
         },
         "mode": "markers",
         "name": "Central Europe",
         "orientation": "v",
         "showlegend": true,
         "type": "scatter",
         "x": [
          8.904857047887415,
          10.180592911601153,
          11.491358632904195,
          11.416976641939963,
          10.769250330181492,
          11.009171737592405,
          10.231427149527308,
          10.819542762196205,
          11.251263732548718,
          11.03420771822808,
          11.645109267388818,
          11.046965880928822,
          11.438709327159975,
          11.548381818733262,
          -24.092366106211717,
          -23.027253001747745,
          -22.654044536690026,
          -22.728155617326188,
          -20.220060587610188,
          -19.886362350056604,
          -19.313128344262626,
          -19.115217754407773,
          -19.068897677533123,
          -19.0091709073295,
          -17.275492236973808,
          -17.389592994159877,
          -16.219851107764104,
          -15.717162491026334,
          5.59457086228144,
          6.343875271287999,
          6.405384409883007,
          6.312477107479321,
          5.0923876670298,
          5.288871443817669,
          6.432138408112176,
          6.981190752986826,
          7.171027645859094,
          7.665241960811994,
          7.966551304499172,
          8.881420343101192,
          9.87316277965051,
          9.954647040038852,
          -21.97087894524156,
          -19.688818958805573,
          -18.402849029681278,
          -17.613124572145605,
          -18.44100118312744,
          -16.7100988129436,
          -15.96488353753873,
          -16.396508585646664,
          -16.63938610987229,
          -17.480029082014887,
          -17.03688726912048,
          -17.833927077383727,
          -17.096328303690658,
          -16.108158889387756,
          -26.35224834538787,
          -26.14634211037758,
          -26.79945237104389,
          -28.537495834304785,
          -27.543483721451988,
          -25.75540397911937,
          -24.570071749090538,
          -24.117629347216088,
          -23.809352013207388,
          -23.68129982450219,
          -23.1018297367076,
          -22.706476525788446,
          -21.53976283735512,
          -19.412692474047418,
          -25.069693745153607,
          -23.659989502521256,
          -21.509776037992253,
          -20.58615716669902,
          -21.764649236285553,
          -19.97720250427463,
          -18.961789847525434,
          -18.641702366960427,
          -17.612713358638356,
          -16.90522723744711,
          -15.721977828684906,
          -15.617194678044502,
          -14.52420265479009,
          -13.460910395596509,
          -12.243539343402977,
          -10.831127480275024,
          -9.823265160725734,
          -9.944612009033447,
          -12.240425505618267,
          -11.438784685757021,
          -8.782946850672328,
          -8.845583434473502,
          -9.485061691175867,
          -9.392391372928953,
          -9.565174263394026,
          -8.377301142591525,
          -6.856910357857799,
          -8.141673634975154
         ],
         "xaxis": "x",
         "y": [
          -2.6682151265607263,
          -4.598446589365039,
          -5.651402589117833,
          -4.19123552182092,
          -2.19988972735325,
          -6.697592841250271,
          -7.590746219639353,
          -7.7646565783515875,
          -7.322216760083233,
          -9.119001536532595,
          -9.931292628380172,
          -10.564862538874095,
          -12.963550117969557,
          -13.371638165281277,
          -6.493246284771278,
          -8.792286496912116,
          -10.214908252783266,
          -9.134359706900351,
          -4.417461953780979,
          -7.273911618546146,
          -7.501821750709083,
          -6.84144405124053,
          -7.032735529382729,
          -9.216815030382014,
          -10.548459635424864,
          -10.536368653247797,
          -11.588841289713015,
          -12.132657969948847,
          -5.3526501081428774,
          -7.41976592142284,
          -9.401636613981845,
          -8.867759357527909,
          -5.8308838057300685,
          -10.35216573774986,
          -12.324047527504494,
          -11.179290493380485,
          -11.314876909399736,
          -12.270610964295361,
          -12.473488063543565,
          -12.469117616949525,
          -13.577920825290319,
          -13.68760261210557,
          7.5948080019060065,
          6.281436632391479,
          5.505516428539729,
          5.47956373799421,
          6.6480121774756915,
          4.219857702285666,
          4.039175780158275,
          4.679745009338433,
          2.814783606853574,
          0.6908140565157975,
          0.4493715656666496,
          0.9229335697231653,
          -1.0458078645629634,
          -2.964063440098094,
          2.056028556969985,
          -0.22315330110620266,
          -3.281601201801193,
          -4.262692301582594,
          -1.8966663137116022,
          -4.362440814946262,
          -5.185051147564728,
          -5.276252480697469,
          -5.167109549037617,
          -6.9945447733637325,
          -7.648870740453609,
          -8.652560957647664,
          -10.704869203798514,
          -12.62409372977631,
          -3.86452065889794,
          -6.1356384058937845,
          -7.688380989918931,
          -6.75738186840383,
          -3.7559231405849722,
          -7.906118688151628,
          -7.216487234749646,
          -8.204856709297914,
          -7.137462658686539,
          -8.482127619832383,
          -9.446938566691296,
          -9.77695034176281,
          -9.587599466941182,
          -9.885309508182623,
          4.892417907751216,
          1.0570256766731059,
          0.23457977488409196,
          1.8009462840439872,
          4.3800926501071595,
          1.5001498121106547,
          1.004759847257758,
          2.5563901453229234,
          1.1731949076502177,
          -0.8796763152230485,
          -2.5354766648221565,
          -3.2836502511608208,
          -5.1383157783221485,
          -6.974547793094848
         ],
         "yaxis": "y"
        },
        {
         "customdata": [
          [
           "BEL"
          ],
          [
           "BEL"
          ],
          [
           "BEL"
          ],
          [
           "BEL"
          ],
          [
           "BEL"
          ],
          [
           "BEL"
          ],
          [
           "BEL"
          ],
          [
           "BEL"
          ],
          [
           "BEL"
          ],
          [
           "BEL"
          ],
          [
           "BEL"
          ],
          [
           "BEL"
          ],
          [
           "BEL"
          ],
          [
           "BEL"
          ],
          [
           "FRA"
          ],
          [
           "FRA"
          ],
          [
           "FRA"
          ],
          [
           "FRA"
          ],
          [
           "FRA"
          ],
          [
           "FRA"
          ],
          [
           "FRA"
          ],
          [
           "FRA"
          ],
          [
           "FRA"
          ],
          [
           "FRA"
          ],
          [
           "FRA"
          ],
          [
           "FRA"
          ],
          [
           "FRA"
          ],
          [
           "FRA"
          ],
          [
           "LUX"
          ],
          [
           "LUX"
          ],
          [
           "LUX"
          ],
          [
           "LUX"
          ],
          [
           "LUX"
          ],
          [
           "LUX"
          ],
          [
           "LUX"
          ],
          [
           "LUX"
          ],
          [
           "LUX"
          ],
          [
           "LUX"
          ],
          [
           "LUX"
          ],
          [
           "LUX"
          ],
          [
           "LUX"
          ],
          [
           "LUX"
          ],
          [
           "NLD"
          ],
          [
           "NLD"
          ],
          [
           "NLD"
          ],
          [
           "NLD"
          ],
          [
           "NLD"
          ],
          [
           "NLD"
          ],
          [
           "NLD"
          ],
          [
           "NLD"
          ],
          [
           "NLD"
          ],
          [
           "NLD"
          ],
          [
           "NLD"
          ],
          [
           "NLD"
          ],
          [
           "NLD"
          ],
          [
           "NLD"
          ]
         ],
         "hovertemplate": "color=Western Europe<br>PC1=%{x}<br>PC2=%{y}<br>Country=%{customdata[0]}<extra></extra>",
         "legendgroup": "Western Europe",
         "marker": {
          "color": "#EF553B",
          "symbol": "circle"
         },
         "mode": "markers",
         "name": "Western Europe",
         "orientation": "v",
         "showlegend": true,
         "type": "scatter",
         "x": [
          19.529683977790597,
          19.282324409260834,
          20.121105922408418,
          19.66532867155901,
          21.047689083061563,
          21.38564366766164,
          20.543194812301685,
          21.394213953511166,
          23.176872553403033,
          23.531285144586388,
          24.06070345014163,
          23.591508228856416,
          23.029462050136843,
          22.29254754260147,
          12.973330806141778,
          13.935292883630837,
          12.342474787599366,
          11.999325426215767,
          11.559923667723876,
          11.75529165211573,
          12.052721184170542,
          12.26723814457919,
          12.443051384731804,
          12.525651155786692,
          12.404163010567993,
          12.427338599538293,
          13.242223563154608,
          13.060861016107651,
          50.12172668667589,
          52.131481125460866,
          54.490015909172286,
          49.49589995403355,
          46.83612079849331,
          48.01740204622918,
          46.652110725362085,
          46.02641496991078,
          47.241364822288,
          46.655458847964766,
          47.73027630205767,
          48.62459324441513,
          47.4633633300488,
          46.35870155334199,
          14.333330894768288,
          14.820066101306477,
          15.550448042693858,
          16.116956247682307,
          15.132183292892428,
          15.803220127500916,
          16.216991826989723,
          16.068395688802397,
          15.60655998419026,
          15.634195001924017,
          15.504155892010548,
          14.507267110360171,
          14.469401983620305,
          14.146970733879963
         ],
         "xaxis": "x",
         "y": [
          8.833842063246545,
          6.078620096628199,
          3.898656059017693,
          4.7265009894915835,
          7.6251343763673685,
          4.749533571557702,
          3.3681743683847594,
          5.254812509238723,
          4.855010597955932,
          2.2102655711679238,
          0.6869659067733535,
          -0.8617855245444968,
          -2.1868440604875934,
          -3.761536963390871,
          8.892088779672989,
          7.100492853991418,
          4.663800058228827,
          6.173542352145103,
          7.9247165892124665,
          5.020538250167811,
          2.8761288605385698,
          3.916942780034281,
          1.8147564792834454,
          -0.29876033933033147,
          -2.3558197609682723,
          -2.9456684002967317,
          -5.168288831115351,
          -6.203767122289462,
          -1.3059321806233006,
          -2.083016027796204,
          -4.261018296639435,
          -2.3961081729666045,
          -9.266386495421681,
          -12.091511084069166,
          -11.641936661679923,
          -11.325762012652612,
          -13.669492083488585,
          -14.923670224891714,
          -9.424030632206533,
          -14.407393926456706,
          -13.050742962161065,
          -13.509761343752906,
          6.059463314687043,
          2.6986092695604262,
          1.589960140577567,
          2.916886418122324,
          6.830696249453698,
          2.5773454585880984,
          2.832346861034737,
          3.2820112994858657,
          0.4336327808205472,
          -1.2835907953617534,
          -2.7924974455322493,
          -4.154981619485663,
          -5.805434287916643,
          -6.153881136655535
         ],
         "yaxis": "y"
        },
        {
         "customdata": [
          [
           "DNK"
          ],
          [
           "DNK"
          ],
          [
           "DNK"
          ],
          [
           "DNK"
          ],
          [
           "DNK"
          ],
          [
           "DNK"
          ],
          [
           "DNK"
          ],
          [
           "DNK"
          ],
          [
           "DNK"
          ],
          [
           "DNK"
          ],
          [
           "DNK"
          ],
          [
           "DNK"
          ],
          [
           "DNK"
          ],
          [
           "DNK"
          ],
          [
           "FIN"
          ],
          [
           "FIN"
          ],
          [
           "FIN"
          ],
          [
           "FIN"
          ],
          [
           "FIN"
          ],
          [
           "FIN"
          ],
          [
           "FIN"
          ],
          [
           "FIN"
          ],
          [
           "FIN"
          ],
          [
           "FIN"
          ],
          [
           "FIN"
          ],
          [
           "FIN"
          ],
          [
           "FIN"
          ],
          [
           "FIN"
          ],
          [
           "SWE"
          ],
          [
           "SWE"
          ],
          [
           "SWE"
          ],
          [
           "SWE"
          ],
          [
           "SWE"
          ],
          [
           "SWE"
          ],
          [
           "SWE"
          ],
          [
           "SWE"
          ],
          [
           "SWE"
          ],
          [
           "SWE"
          ],
          [
           "SWE"
          ],
          [
           "SWE"
          ],
          [
           "SWE"
          ],
          [
           "SWE"
          ]
         ],
         "hovertemplate": "color=Northern Europe<br>PC1=%{x}<br>PC2=%{y}<br>Country=%{customdata[0]}<extra></extra>",
         "legendgroup": "Northern Europe",
         "marker": {
          "color": "#00cc96",
          "symbol": "circle"
         },
         "mode": "markers",
         "name": "Northern Europe",
         "orientation": "v",
         "showlegend": true,
         "type": "scatter",
         "x": [
          13.914430772731992,
          14.080693722272144,
          16.192969012719196,
          15.55959323528748,
          14.82287841663392,
          16.520904163834125,
          16.333580874869043,
          17.72407403190927,
          17.97390918293369,
          18.764371027475374,
          19.373505828874986,
          19.960555061557777,
          20.91164754968209,
          22.204466208665327,
          4.2525707768126395,
          4.793102311735353,
          5.71286363809519,
          4.987056359311288,
          2.4303575471207446,
          3.526634842118501,
          4.105295700165382,
          3.816956987218487,
          3.877265170620949,
          5.398987980211013,
          4.877455943358446,
          5.7352916452657645,
          5.86668561237649,
          4.809497972250178,
          11.643141459098215,
          14.44288177565936,
          13.377309154258594,
          11.673135825489558,
          10.313557437889042,
          11.147179413608415,
          11.365387251148302,
          10.72192315204265,
          10.762648895536158,
          10.708893664904855,
          12.200039366206697,
          14.095510823080604,
          14.429222689773146,
          14.64050758986371
         ],
         "xaxis": "x",
         "y": [
          -3.501049678645257,
          -6.436903607509239,
          2.083173095702483,
          4.826310081186733,
          4.335515783799318,
          -0.40559378914712385,
          -1.1342284518885277,
          -0.3623245705517156,
          -1.88142004564081,
          -3.035148079224458,
          -4.679442788347886,
          -5.9640848298400115,
          -7.772602970837014,
          -8.483219064564938,
          -2.0842241815924694,
          -4.43396513022563,
          -6.146184344109535,
          -4.5093496915005495,
          -2.131965374645932,
          -7.093365075237741,
          -7.901974130785374,
          -6.757111440960531,
          -7.699899621930093,
          -7.104762058684569,
          -8.810885332589857,
          -10.430192593797784,
          -13.389367556625032,
          -14.108906449561028,
          -6.329671313175121,
          -3.568714521369707,
          -5.3369237447631095,
          -3.4637534824827316,
          -2.3412341438585993,
          -8.056494970836344,
          -8.180110637317888,
          -7.558140012726262,
          -8.477757053744861,
          -10.41404813437205,
          -11.678116214890009,
          -10.794761174648642,
          -12.284453150896475,
          -12.256830052953193
         ],
         "yaxis": "y"
        },
        {
         "customdata": [
          [
           "ESP"
          ],
          [
           "ESP"
          ],
          [
           "ESP"
          ],
          [
           "ESP"
          ],
          [
           "ESP"
          ],
          [
           "ESP"
          ],
          [
           "ESP"
          ],
          [
           "ESP"
          ],
          [
           "ESP"
          ],
          [
           "ESP"
          ],
          [
           "ESP"
          ],
          [
           "ESP"
          ],
          [
           "ESP"
          ],
          [
           "ESP"
          ],
          [
           "PRT"
          ],
          [
           "PRT"
          ],
          [
           "PRT"
          ],
          [
           "PRT"
          ],
          [
           "PRT"
          ],
          [
           "PRT"
          ],
          [
           "PRT"
          ],
          [
           "PRT"
          ],
          [
           "PRT"
          ],
          [
           "PRT"
          ],
          [
           "PRT"
          ],
          [
           "PRT"
          ],
          [
           "PRT"
          ],
          [
           "PRT"
          ]
         ],
         "hovertemplate": "color=Southwestern Europe<br>PC1=%{x}<br>PC2=%{y}<br>Country=%{customdata[0]}<extra></extra>",
         "legendgroup": "Southwestern Europe",
         "marker": {
          "color": "#ab63fa",
          "symbol": "circle"
         },
         "mode": "markers",
         "name": "Southwestern Europe",
         "orientation": "v",
         "showlegend": true,
         "type": "scatter",
         "x": [
          2.663327422584936,
          2.7014647067887463,
          3.198262732103172,
          3.5596705971687768,
          4.411261679802539,
          5.449100665724232,
          5.763405582719804,
          6.627339170419324,
          6.733434420117866,
          6.366927632376743,
          6.257864508523457,
          6.246905936209173,
          6.381139322241959,
          6.207555441849149,
          -0.398011840711422,
          -0.06013934064809803,
          0.31994344057580815,
          0.3673169902417548,
          -0.016287474679493784,
          -0.12918861190916617,
          -0.2557852316205653,
          -0.46252083578876657,
          -0.5405011268118877,
          -2.177810193913462,
          -2.6706063799313995,
          -3.131124786527006,
          -3.217024297735778,
          -3.7776817666602063
         ],
         "xaxis": "x",
         "y": [
          30.046927438888734,
          29.212463596780644,
          28.19152118474198,
          30.729608475435736,
          30.484416912003468,
          27.62781271610322,
          25.859153241319778,
          25.874273258692597,
          24.12767580900485,
          21.62611778924676,
          19.717383144783657,
          19.05512516221209,
          17.702203796486167,
          16.987710431259522,
          55.423565906300325,
          53.096419394738575,
          52.39726807670954,
          52.4989825072726,
          53.00216664105311,
          49.35801748585004,
          47.44330013592809,
          45.719839250320085,
          42.711495626014404,
          37.63602796369404,
          35.23240254398309,
          33.597339527092586,
          31.790872522184667,
          29.885953990021186
         ],
         "yaxis": "y"
        },
        {
         "customdata": [
          [
           "EST"
          ],
          [
           "EST"
          ],
          [
           "EST"
          ],
          [
           "EST"
          ],
          [
           "EST"
          ],
          [
           "EST"
          ],
          [
           "EST"
          ],
          [
           "EST"
          ],
          [
           "EST"
          ],
          [
           "EST"
          ],
          [
           "EST"
          ],
          [
           "EST"
          ],
          [
           "EST"
          ],
          [
           "EST"
          ],
          [
           "LTU"
          ],
          [
           "LTU"
          ],
          [
           "LTU"
          ],
          [
           "LTU"
          ],
          [
           "LTU"
          ],
          [
           "LTU"
          ],
          [
           "LTU"
          ],
          [
           "LTU"
          ],
          [
           "LTU"
          ],
          [
           "LTU"
          ],
          [
           "LTU"
          ],
          [
           "LTU"
          ],
          [
           "LTU"
          ],
          [
           "LTU"
          ],
          [
           "LVA"
          ],
          [
           "LVA"
          ],
          [
           "LVA"
          ],
          [
           "LVA"
          ],
          [
           "LVA"
          ],
          [
           "LVA"
          ],
          [
           "LVA"
          ],
          [
           "LVA"
          ],
          [
           "LVA"
          ],
          [
           "LVA"
          ],
          [
           "LVA"
          ],
          [
           "LVA"
          ],
          [
           "LVA"
          ],
          [
           "LVA"
          ]
         ],
         "hovertemplate": "color=Eastern Europe<br>PC1=%{x}<br>PC2=%{y}<br>Country=%{customdata[0]}<extra></extra>",
         "legendgroup": "Eastern Europe",
         "marker": {
          "color": "#FFA15A",
          "symbol": "circle"
         },
         "mode": "markers",
         "name": "Eastern Europe",
         "orientation": "v",
         "showlegend": true,
         "type": "scatter",
         "x": [
          -28.36980329889524,
          -27.231401339258547,
          -25.32445805134323,
          -25.866979240620484,
          -25.16998000362592,
          -24.063684773629525,
          -24.423454928914648,
          -23.395057540395804,
          -23.267959112741895,
          -21.750803322929613,
          -21.921174620440656,
          -21.423289293091862,
          -20.47585826541213,
          -18.48319918778899,
          -24.25948986353619,
          -22.92027423928463,
          -20.86166913035982,
          -19.88578442228784,
          -19.653371336197555,
          -23.17645115040437,
          -22.02486567719166,
          -21.747708972446027,
          -21.456218895216086,
          -21.417901635791594,
          -16.667970011114324,
          -17.873275206943134,
          -13.25577964032496,
          -12.989614746518965,
          -25.439115849146766,
          -23.931502078972517,
          -22.373548229737214,
          -22.720875944948705,
          -21.253885923774497,
          -20.8267201615292,
          -20.68574182345447,
          -19.320546732845774,
          -19.52422598410298,
          -18.889748589097476,
          -17.800407560283624,
          -17.382442991221993,
          -15.964127374247212,
          -15.987936803387141
         ],
         "xaxis": "x",
         "y": [
          -5.089984138659137,
          -6.022778258825674,
          -6.646661977427955,
          -3.036203793618231,
          -1.182816163520454,
          -5.598223591129176,
          -5.836605519975599,
          -6.495362584463775,
          -7.016200181113261,
          -4.766414991061896,
          -3.8805918211438906,
          -5.7337340265776655,
          -6.775397154491266,
          -7.0566067883750945,
          -0.45012758803922426,
          -2.693245844478042,
          -4.063840096900461,
          -3.5647563042078945,
          0.8613231666218122,
          -5.347077665687515,
          -9.478936343440795,
          -9.023868873169501,
          -10.76904689409369,
          -10.79746771420464,
          -7.758704346369775,
          -9.167052509682977,
          -9.477195315368345,
          -10.94733276841914,
          4.077150085180465,
          3.5385565899938545,
          2.341107704111938,
          3.8739278644480257,
          6.1678709221702634,
          1.0827467209780837,
          1.0539401624949414,
          -1.2456204523422316,
          -1.5220410206479338,
          -1.806684602732867,
          -2.442485917913672,
          -3.944594568328369,
          -4.328105554801997,
          -5.027160009885278
         ],
         "yaxis": "y"
        }
       ],
       "layout": {
        "legend": {
         "title": {
          "text": "color"
         },
         "tracegroupgap": 0
        },
        "template": {
         "data": {
          "bar": [
           {
            "error_x": {
             "color": "#2a3f5f"
            },
            "error_y": {
             "color": "#2a3f5f"
            },
            "marker": {
             "line": {
              "color": "#E5ECF6",
              "width": 0.5
             },
             "pattern": {
              "fillmode": "overlay",
              "size": 10,
              "solidity": 0.2
             }
            },
            "type": "bar"
           }
          ],
          "barpolar": [
           {
            "marker": {
             "line": {
              "color": "#E5ECF6",
              "width": 0.5
             },
             "pattern": {
              "fillmode": "overlay",
              "size": 10,
              "solidity": 0.2
             }
            },
            "type": "barpolar"
           }
          ],
          "carpet": [
           {
            "aaxis": {
             "endlinecolor": "#2a3f5f",
             "gridcolor": "white",
             "linecolor": "white",
             "minorgridcolor": "white",
             "startlinecolor": "#2a3f5f"
            },
            "baxis": {
             "endlinecolor": "#2a3f5f",
             "gridcolor": "white",
             "linecolor": "white",
             "minorgridcolor": "white",
             "startlinecolor": "#2a3f5f"
            },
            "type": "carpet"
           }
          ],
          "choropleth": [
           {
            "colorbar": {
             "outlinewidth": 0,
             "ticks": ""
            },
            "type": "choropleth"
           }
          ],
          "contour": [
           {
            "colorbar": {
             "outlinewidth": 0,
             "ticks": ""
            },
            "colorscale": [
             [
              0,
              "#0d0887"
             ],
             [
              0.1111111111111111,
              "#46039f"
             ],
             [
              0.2222222222222222,
              "#7201a8"
             ],
             [
              0.3333333333333333,
              "#9c179e"
             ],
             [
              0.4444444444444444,
              "#bd3786"
             ],
             [
              0.5555555555555556,
              "#d8576b"
             ],
             [
              0.6666666666666666,
              "#ed7953"
             ],
             [
              0.7777777777777778,
              "#fb9f3a"
             ],
             [
              0.8888888888888888,
              "#fdca26"
             ],
             [
              1,
              "#f0f921"
             ]
            ],
            "type": "contour"
           }
          ],
          "contourcarpet": [
           {
            "colorbar": {
             "outlinewidth": 0,
             "ticks": ""
            },
            "type": "contourcarpet"
           }
          ],
          "heatmap": [
           {
            "colorbar": {
             "outlinewidth": 0,
             "ticks": ""
            },
            "colorscale": [
             [
              0,
              "#0d0887"
             ],
             [
              0.1111111111111111,
              "#46039f"
             ],
             [
              0.2222222222222222,
              "#7201a8"
             ],
             [
              0.3333333333333333,
              "#9c179e"
             ],
             [
              0.4444444444444444,
              "#bd3786"
             ],
             [
              0.5555555555555556,
              "#d8576b"
             ],
             [
              0.6666666666666666,
              "#ed7953"
             ],
             [
              0.7777777777777778,
              "#fb9f3a"
             ],
             [
              0.8888888888888888,
              "#fdca26"
             ],
             [
              1,
              "#f0f921"
             ]
            ],
            "type": "heatmap"
           }
          ],
          "heatmapgl": [
           {
            "colorbar": {
             "outlinewidth": 0,
             "ticks": ""
            },
            "colorscale": [
             [
              0,
              "#0d0887"
             ],
             [
              0.1111111111111111,
              "#46039f"
             ],
             [
              0.2222222222222222,
              "#7201a8"
             ],
             [
              0.3333333333333333,
              "#9c179e"
             ],
             [
              0.4444444444444444,
              "#bd3786"
             ],
             [
              0.5555555555555556,
              "#d8576b"
             ],
             [
              0.6666666666666666,
              "#ed7953"
             ],
             [
              0.7777777777777778,
              "#fb9f3a"
             ],
             [
              0.8888888888888888,
              "#fdca26"
             ],
             [
              1,
              "#f0f921"
             ]
            ],
            "type": "heatmapgl"
           }
          ],
          "histogram": [
           {
            "marker": {
             "pattern": {
              "fillmode": "overlay",
              "size": 10,
              "solidity": 0.2
             }
            },
            "type": "histogram"
           }
          ],
          "histogram2d": [
           {
            "colorbar": {
             "outlinewidth": 0,
             "ticks": ""
            },
            "colorscale": [
             [
              0,
              "#0d0887"
             ],
             [
              0.1111111111111111,
              "#46039f"
             ],
             [
              0.2222222222222222,
              "#7201a8"
             ],
             [
              0.3333333333333333,
              "#9c179e"
             ],
             [
              0.4444444444444444,
              "#bd3786"
             ],
             [
              0.5555555555555556,
              "#d8576b"
             ],
             [
              0.6666666666666666,
              "#ed7953"
             ],
             [
              0.7777777777777778,
              "#fb9f3a"
             ],
             [
              0.8888888888888888,
              "#fdca26"
             ],
             [
              1,
              "#f0f921"
             ]
            ],
            "type": "histogram2d"
           }
          ],
          "histogram2dcontour": [
           {
            "colorbar": {
             "outlinewidth": 0,
             "ticks": ""
            },
            "colorscale": [
             [
              0,
              "#0d0887"
             ],
             [
              0.1111111111111111,
              "#46039f"
             ],
             [
              0.2222222222222222,
              "#7201a8"
             ],
             [
              0.3333333333333333,
              "#9c179e"
             ],
             [
              0.4444444444444444,
              "#bd3786"
             ],
             [
              0.5555555555555556,
              "#d8576b"
             ],
             [
              0.6666666666666666,
              "#ed7953"
             ],
             [
              0.7777777777777778,
              "#fb9f3a"
             ],
             [
              0.8888888888888888,
              "#fdca26"
             ],
             [
              1,
              "#f0f921"
             ]
            ],
            "type": "histogram2dcontour"
           }
          ],
          "mesh3d": [
           {
            "colorbar": {
             "outlinewidth": 0,
             "ticks": ""
            },
            "type": "mesh3d"
           }
          ],
          "parcoords": [
           {
            "line": {
             "colorbar": {
              "outlinewidth": 0,
              "ticks": ""
             }
            },
            "type": "parcoords"
           }
          ],
          "pie": [
           {
            "automargin": true,
            "type": "pie"
           }
          ],
          "scatter": [
           {
            "fillpattern": {
             "fillmode": "overlay",
             "size": 10,
             "solidity": 0.2
            },
            "type": "scatter"
           }
          ],
          "scatter3d": [
           {
            "line": {
             "colorbar": {
              "outlinewidth": 0,
              "ticks": ""
             }
            },
            "marker": {
             "colorbar": {
              "outlinewidth": 0,
              "ticks": ""
             }
            },
            "type": "scatter3d"
           }
          ],
          "scattercarpet": [
           {
            "marker": {
             "colorbar": {
              "outlinewidth": 0,
              "ticks": ""
             }
            },
            "type": "scattercarpet"
           }
          ],
          "scattergeo": [
           {
            "marker": {
             "colorbar": {
              "outlinewidth": 0,
              "ticks": ""
             }
            },
            "type": "scattergeo"
           }
          ],
          "scattergl": [
           {
            "marker": {
             "colorbar": {
              "outlinewidth": 0,
              "ticks": ""
             }
            },
            "type": "scattergl"
           }
          ],
          "scattermapbox": [
           {
            "marker": {
             "colorbar": {
              "outlinewidth": 0,
              "ticks": ""
             }
            },
            "type": "scattermapbox"
           }
          ],
          "scatterpolar": [
           {
            "marker": {
             "colorbar": {
              "outlinewidth": 0,
              "ticks": ""
             }
            },
            "type": "scatterpolar"
           }
          ],
          "scatterpolargl": [
           {
            "marker": {
             "colorbar": {
              "outlinewidth": 0,
              "ticks": ""
             }
            },
            "type": "scatterpolargl"
           }
          ],
          "scatterternary": [
           {
            "marker": {
             "colorbar": {
              "outlinewidth": 0,
              "ticks": ""
             }
            },
            "type": "scatterternary"
           }
          ],
          "surface": [
           {
            "colorbar": {
             "outlinewidth": 0,
             "ticks": ""
            },
            "colorscale": [
             [
              0,
              "#0d0887"
             ],
             [
              0.1111111111111111,
              "#46039f"
             ],
             [
              0.2222222222222222,
              "#7201a8"
             ],
             [
              0.3333333333333333,
              "#9c179e"
             ],
             [
              0.4444444444444444,
              "#bd3786"
             ],
             [
              0.5555555555555556,
              "#d8576b"
             ],
             [
              0.6666666666666666,
              "#ed7953"
             ],
             [
              0.7777777777777778,
              "#fb9f3a"
             ],
             [
              0.8888888888888888,
              "#fdca26"
             ],
             [
              1,
              "#f0f921"
             ]
            ],
            "type": "surface"
           }
          ],
          "table": [
           {
            "cells": {
             "fill": {
              "color": "#EBF0F8"
             },
             "line": {
              "color": "white"
             }
            },
            "header": {
             "fill": {
              "color": "#C8D4E3"
             },
             "line": {
              "color": "white"
             }
            },
            "type": "table"
           }
          ]
         },
         "layout": {
          "annotationdefaults": {
           "arrowcolor": "#2a3f5f",
           "arrowhead": 0,
           "arrowwidth": 1
          },
          "autotypenumbers": "strict",
          "coloraxis": {
           "colorbar": {
            "outlinewidth": 0,
            "ticks": ""
           }
          },
          "colorscale": {
           "diverging": [
            [
             0,
             "#8e0152"
            ],
            [
             0.1,
             "#c51b7d"
            ],
            [
             0.2,
             "#de77ae"
            ],
            [
             0.3,
             "#f1b6da"
            ],
            [
             0.4,
             "#fde0ef"
            ],
            [
             0.5,
             "#f7f7f7"
            ],
            [
             0.6,
             "#e6f5d0"
            ],
            [
             0.7,
             "#b8e186"
            ],
            [
             0.8,
             "#7fbc41"
            ],
            [
             0.9,
             "#4d9221"
            ],
            [
             1,
             "#276419"
            ]
           ],
           "sequential": [
            [
             0,
             "#0d0887"
            ],
            [
             0.1111111111111111,
             "#46039f"
            ],
            [
             0.2222222222222222,
             "#7201a8"
            ],
            [
             0.3333333333333333,
             "#9c179e"
            ],
            [
             0.4444444444444444,
             "#bd3786"
            ],
            [
             0.5555555555555556,
             "#d8576b"
            ],
            [
             0.6666666666666666,
             "#ed7953"
            ],
            [
             0.7777777777777778,
             "#fb9f3a"
            ],
            [
             0.8888888888888888,
             "#fdca26"
            ],
            [
             1,
             "#f0f921"
            ]
           ],
           "sequentialminus": [
            [
             0,
             "#0d0887"
            ],
            [
             0.1111111111111111,
             "#46039f"
            ],
            [
             0.2222222222222222,
             "#7201a8"
            ],
            [
             0.3333333333333333,
             "#9c179e"
            ],
            [
             0.4444444444444444,
             "#bd3786"
            ],
            [
             0.5555555555555556,
             "#d8576b"
            ],
            [
             0.6666666666666666,
             "#ed7953"
            ],
            [
             0.7777777777777778,
             "#fb9f3a"
            ],
            [
             0.8888888888888888,
             "#fdca26"
            ],
            [
             1,
             "#f0f921"
            ]
           ]
          },
          "colorway": [
           "#636efa",
           "#EF553B",
           "#00cc96",
           "#ab63fa",
           "#FFA15A",
           "#19d3f3",
           "#FF6692",
           "#B6E880",
           "#FF97FF",
           "#FECB52"
          ],
          "font": {
           "color": "#2a3f5f"
          },
          "geo": {
           "bgcolor": "white",
           "lakecolor": "white",
           "landcolor": "#E5ECF6",
           "showlakes": true,
           "showland": true,
           "subunitcolor": "white"
          },
          "hoverlabel": {
           "align": "left"
          },
          "hovermode": "closest",
          "mapbox": {
           "style": "light"
          },
          "paper_bgcolor": "white",
          "plot_bgcolor": "#E5ECF6",
          "polar": {
           "angularaxis": {
            "gridcolor": "white",
            "linecolor": "white",
            "ticks": ""
           },
           "bgcolor": "#E5ECF6",
           "radialaxis": {
            "gridcolor": "white",
            "linecolor": "white",
            "ticks": ""
           }
          },
          "scene": {
           "xaxis": {
            "backgroundcolor": "#E5ECF6",
            "gridcolor": "white",
            "gridwidth": 2,
            "linecolor": "white",
            "showbackground": true,
            "ticks": "",
            "zerolinecolor": "white"
           },
           "yaxis": {
            "backgroundcolor": "#E5ECF6",
            "gridcolor": "white",
            "gridwidth": 2,
            "linecolor": "white",
            "showbackground": true,
            "ticks": "",
            "zerolinecolor": "white"
           },
           "zaxis": {
            "backgroundcolor": "#E5ECF6",
            "gridcolor": "white",
            "gridwidth": 2,
            "linecolor": "white",
            "showbackground": true,
            "ticks": "",
            "zerolinecolor": "white"
           }
          },
          "shapedefaults": {
           "line": {
            "color": "#2a3f5f"
           }
          },
          "ternary": {
           "aaxis": {
            "gridcolor": "white",
            "linecolor": "white",
            "ticks": ""
           },
           "baxis": {
            "gridcolor": "white",
            "linecolor": "white",
            "ticks": ""
           },
           "bgcolor": "#E5ECF6",
           "caxis": {
            "gridcolor": "white",
            "linecolor": "white",
            "ticks": ""
           }
          },
          "title": {
           "x": 0.05
          },
          "xaxis": {
           "automargin": true,
           "gridcolor": "white",
           "linecolor": "white",
           "ticks": "",
           "title": {
            "standoff": 15
           },
           "zerolinecolor": "white",
           "zerolinewidth": 2
          },
          "yaxis": {
           "automargin": true,
           "gridcolor": "white",
           "linecolor": "white",
           "ticks": "",
           "title": {
            "standoff": 15
           },
           "zerolinecolor": "white",
           "zerolinewidth": 2
          }
         }
        },
        "title": {
         "text": "2D PCA Projection using first two principal components"
        },
        "xaxis": {
         "anchor": "y",
         "domain": [
          0,
          1
         ],
         "title": {
          "text": "PC1"
         }
        },
        "yaxis": {
         "anchor": "x",
         "domain": [
          0,
          1
         ],
         "title": {
          "text": "PC2"
         }
        }
       }
      }
     },
     "metadata": {},
     "output_type": "display_data"
    }
   ],
   "source": [
    "\n",
    "fig = px.scatter(\n",
    "        x = comps[:,0],\n",
    "        y = comps[:,1],\n",
    "        color=subregions,\n",
    "        hover_data={\"Country\" : pca_df.index.get_level_values(0)},\n",
    "        labels = {\"x\": \"PC1\",\"y\": \"PC2\"},\n",
    "        title= \"2D PCA Projection using first two principal components\"\n",
    ")\n",
    "fig.show()\n"
   ]
  },
  {
   "attachments": {},
   "cell_type": "markdown",
   "metadata": {},
   "source": [
    "The left blob consists of central and eastern europe, the top one consists of portugal and spain (iberia), and the remaining parts are western and northern europe, along with germany (counted as central). The far right blob is luxembourg, which is a very small country which might be why it is so far away."
   ]
  },
  {
   "cell_type": "code",
   "execution_count": 246,
   "metadata": {},
   "outputs": [
    {
     "data": {
      "application/vnd.plotly.v1+json": {
       "config": {
        "plotlyServerURL": "https://plot.ly"
       },
       "data": [
        {
         "customdata": [
          [
           "AUT"
          ],
          [
           "AUT"
          ],
          [
           "AUT"
          ],
          [
           "AUT"
          ],
          [
           "AUT"
          ],
          [
           "AUT"
          ],
          [
           "AUT"
          ],
          [
           "AUT"
          ],
          [
           "AUT"
          ],
          [
           "AUT"
          ],
          [
           "AUT"
          ],
          [
           "AUT"
          ],
          [
           "AUT"
          ],
          [
           "AUT"
          ],
          [
           "CZE"
          ],
          [
           "CZE"
          ],
          [
           "CZE"
          ],
          [
           "CZE"
          ],
          [
           "CZE"
          ],
          [
           "CZE"
          ],
          [
           "CZE"
          ],
          [
           "CZE"
          ],
          [
           "CZE"
          ],
          [
           "CZE"
          ],
          [
           "CZE"
          ],
          [
           "CZE"
          ],
          [
           "CZE"
          ],
          [
           "CZE"
          ],
          [
           "DEU"
          ],
          [
           "DEU"
          ],
          [
           "DEU"
          ],
          [
           "DEU"
          ],
          [
           "DEU"
          ],
          [
           "DEU"
          ],
          [
           "DEU"
          ],
          [
           "DEU"
          ],
          [
           "DEU"
          ],
          [
           "DEU"
          ],
          [
           "DEU"
          ],
          [
           "DEU"
          ],
          [
           "DEU"
          ],
          [
           "DEU"
          ],
          [
           "HUN"
          ],
          [
           "HUN"
          ],
          [
           "HUN"
          ],
          [
           "HUN"
          ],
          [
           "HUN"
          ],
          [
           "HUN"
          ],
          [
           "HUN"
          ],
          [
           "HUN"
          ],
          [
           "HUN"
          ],
          [
           "HUN"
          ],
          [
           "HUN"
          ],
          [
           "HUN"
          ],
          [
           "HUN"
          ],
          [
           "HUN"
          ],
          [
           "POL"
          ],
          [
           "POL"
          ],
          [
           "POL"
          ],
          [
           "POL"
          ],
          [
           "POL"
          ],
          [
           "POL"
          ],
          [
           "POL"
          ],
          [
           "POL"
          ],
          [
           "POL"
          ],
          [
           "POL"
          ],
          [
           "POL"
          ],
          [
           "POL"
          ],
          [
           "POL"
          ],
          [
           "POL"
          ],
          [
           "SVK"
          ],
          [
           "SVK"
          ],
          [
           "SVK"
          ],
          [
           "SVK"
          ],
          [
           "SVK"
          ],
          [
           "SVK"
          ],
          [
           "SVK"
          ],
          [
           "SVK"
          ],
          [
           "SVK"
          ],
          [
           "SVK"
          ],
          [
           "SVK"
          ],
          [
           "SVK"
          ],
          [
           "SVK"
          ],
          [
           "SVK"
          ],
          [
           "SVN"
          ],
          [
           "SVN"
          ],
          [
           "SVN"
          ],
          [
           "SVN"
          ],
          [
           "SVN"
          ],
          [
           "SVN"
          ],
          [
           "SVN"
          ],
          [
           "SVN"
          ],
          [
           "SVN"
          ],
          [
           "SVN"
          ],
          [
           "SVN"
          ],
          [
           "SVN"
          ],
          [
           "SVN"
          ],
          [
           "SVN"
          ]
         ],
         "hovertemplate": "color=Central Europe<br>PC1=%{x}<br>PC3=%{y}<br>Country=%{customdata[0]}<extra></extra>",
         "legendgroup": "Central Europe",
         "marker": {
          "color": "#636efa",
          "symbol": "circle"
         },
         "mode": "markers",
         "name": "Central Europe",
         "orientation": "v",
         "showlegend": true,
         "type": "scatter",
         "x": [
          8.904857047887415,
          10.180592911601153,
          11.491358632904195,
          11.416976641939963,
          10.769250330181492,
          11.009171737592405,
          10.231427149527308,
          10.819542762196205,
          11.251263732548718,
          11.03420771822808,
          11.645109267388818,
          11.046965880928822,
          11.438709327159975,
          11.548381818733262,
          -24.092366106211717,
          -23.027253001747745,
          -22.654044536690026,
          -22.728155617326188,
          -20.220060587610188,
          -19.886362350056604,
          -19.313128344262626,
          -19.115217754407773,
          -19.068897677533123,
          -19.0091709073295,
          -17.275492236973808,
          -17.389592994159877,
          -16.219851107764104,
          -15.717162491026334,
          5.59457086228144,
          6.343875271287999,
          6.405384409883007,
          6.312477107479321,
          5.0923876670298,
          5.288871443817669,
          6.432138408112176,
          6.981190752986826,
          7.171027645859094,
          7.665241960811994,
          7.966551304499172,
          8.881420343101192,
          9.87316277965051,
          9.954647040038852,
          -21.97087894524156,
          -19.688818958805573,
          -18.402849029681278,
          -17.613124572145605,
          -18.44100118312744,
          -16.7100988129436,
          -15.96488353753873,
          -16.396508585646664,
          -16.63938610987229,
          -17.480029082014887,
          -17.03688726912048,
          -17.833927077383727,
          -17.096328303690658,
          -16.108158889387756,
          -26.35224834538787,
          -26.14634211037758,
          -26.79945237104389,
          -28.537495834304785,
          -27.543483721451988,
          -25.75540397911937,
          -24.570071749090538,
          -24.117629347216088,
          -23.809352013207388,
          -23.68129982450219,
          -23.1018297367076,
          -22.706476525788446,
          -21.53976283735512,
          -19.412692474047418,
          -25.069693745153607,
          -23.659989502521256,
          -21.509776037992253,
          -20.58615716669902,
          -21.764649236285553,
          -19.97720250427463,
          -18.961789847525434,
          -18.641702366960427,
          -17.612713358638356,
          -16.90522723744711,
          -15.721977828684906,
          -15.617194678044502,
          -14.52420265479009,
          -13.460910395596509,
          -12.243539343402977,
          -10.831127480275024,
          -9.823265160725734,
          -9.944612009033447,
          -12.240425505618267,
          -11.438784685757021,
          -8.782946850672328,
          -8.845583434473502,
          -9.485061691175867,
          -9.392391372928953,
          -9.565174263394026,
          -8.377301142591525,
          -6.856910357857799,
          -8.141673634975154
         ],
         "xaxis": "x",
         "y": [
          3.3716120519341577,
          -8.813366075609215,
          -13.553753128524447,
          4.513708887778145,
          24.522822929589825,
          -0.7992509646815337,
          0.3673005210993217,
          4.114774851755352,
          9.189899774649286,
          3.2828451205311056,
          4.79030563090207,
          1.4297143822861855,
          -10.663737383941164,
          -10.413154292691177,
          -4.433775720469718,
          -11.241470480954531,
          -12.82479000394702,
          -2.273203501889791,
          20.41887720915619,
          5.058187009480682,
          7.202291198631498,
          13.76922564988265,
          14.704260123729451,
          2.5887085900760964,
          -2.6181714348998693,
          -1.7046941161763367,
          -3.8023725061096445,
          -5.957022658282237,
          9.462612655477452,
          -3.183665679191971,
          -6.7562121323691615,
          3.5701457393563234,
          21.768677958158893,
          -1.6652140413325005,
          -8.58989126413983,
          0.5277361948154876,
          1.2444494339767809,
          -2.8736007896699185,
          -4.26659229698275,
          -4.389398510909685,
          -9.811358656304133,
          -9.496440834516806,
          6.194573522823731,
          4.198065042256261,
          3.822384069847512,
          9.766205785839768,
          21.247766887991308,
          1.1666420401231512,
          4.30023841636568,
          11.39071918756113,
          2.7601281771971635,
          -9.14431950160212,
          -8.72036742915125,
          -5.4389081021798935,
          -13.556413468711456,
          -17.956243664905834,
          0.5914538946505167,
          -7.074511227848184,
          -20.11842237608981,
          -13.18676858332923,
          12.707624975106642,
          0.016693431599416563,
          0.5027820547015325,
          5.758753009560803,
          10.786326054187516,
          2.245430607562341,
          1.9130716421636114,
          0.020119324027215595,
          -4.77731196143594,
          -10.621173824070926,
          -7.364186090011034,
          -13.839427071536791,
          -17.609583327171062,
          -4.520209752986987,
          23.93892329650099,
          -0.3597071853552905,
          6.110754213283857,
          3.109587442987982,
          14.246484910220389,
          -0.02262969170065055,
          -1.3265521477490638,
          -0.26749227394706837,
          -0.6180901820616619,
          1.3232687926008506,
          -1.0529461218830483,
          -14.887801676516442,
          -13.315204399445163,
          0.48775099764471996,
          21.99898654678262,
          4.5038374977075835,
          5.319750817523904,
          19.344719790251617,
          11.779901717520955,
          -0.4592769608271517,
          -4.36226156946593,
          -2.9744207412437005,
          -10.101287669950093,
          -9.951453714862536
         ],
         "yaxis": "y"
        },
        {
         "customdata": [
          [
           "BEL"
          ],
          [
           "BEL"
          ],
          [
           "BEL"
          ],
          [
           "BEL"
          ],
          [
           "BEL"
          ],
          [
           "BEL"
          ],
          [
           "BEL"
          ],
          [
           "BEL"
          ],
          [
           "BEL"
          ],
          [
           "BEL"
          ],
          [
           "BEL"
          ],
          [
           "BEL"
          ],
          [
           "BEL"
          ],
          [
           "BEL"
          ],
          [
           "FRA"
          ],
          [
           "FRA"
          ],
          [
           "FRA"
          ],
          [
           "FRA"
          ],
          [
           "FRA"
          ],
          [
           "FRA"
          ],
          [
           "FRA"
          ],
          [
           "FRA"
          ],
          [
           "FRA"
          ],
          [
           "FRA"
          ],
          [
           "FRA"
          ],
          [
           "FRA"
          ],
          [
           "FRA"
          ],
          [
           "FRA"
          ],
          [
           "LUX"
          ],
          [
           "LUX"
          ],
          [
           "LUX"
          ],
          [
           "LUX"
          ],
          [
           "LUX"
          ],
          [
           "LUX"
          ],
          [
           "LUX"
          ],
          [
           "LUX"
          ],
          [
           "LUX"
          ],
          [
           "LUX"
          ],
          [
           "LUX"
          ],
          [
           "LUX"
          ],
          [
           "LUX"
          ],
          [
           "LUX"
          ],
          [
           "NLD"
          ],
          [
           "NLD"
          ],
          [
           "NLD"
          ],
          [
           "NLD"
          ],
          [
           "NLD"
          ],
          [
           "NLD"
          ],
          [
           "NLD"
          ],
          [
           "NLD"
          ],
          [
           "NLD"
          ],
          [
           "NLD"
          ],
          [
           "NLD"
          ],
          [
           "NLD"
          ],
          [
           "NLD"
          ],
          [
           "NLD"
          ]
         ],
         "hovertemplate": "color=Western Europe<br>PC1=%{x}<br>PC3=%{y}<br>Country=%{customdata[0]}<extra></extra>",
         "legendgroup": "Western Europe",
         "marker": {
          "color": "#EF553B",
          "symbol": "circle"
         },
         "mode": "markers",
         "name": "Western Europe",
         "orientation": "v",
         "showlegend": true,
         "type": "scatter",
         "x": [
          19.529683977790597,
          19.282324409260834,
          20.121105922408418,
          19.66532867155901,
          21.047689083061563,
          21.38564366766164,
          20.543194812301685,
          21.394213953511166,
          23.176872553403033,
          23.531285144586388,
          24.06070345014163,
          23.591508228856416,
          23.029462050136843,
          22.29254754260147,
          12.973330806141778,
          13.935292883630837,
          12.342474787599366,
          11.999325426215767,
          11.559923667723876,
          11.75529165211573,
          12.052721184170542,
          12.26723814457919,
          12.443051384731804,
          12.525651155786692,
          12.404163010567993,
          12.427338599538293,
          13.242223563154608,
          13.060861016107651,
          50.12172668667589,
          52.131481125460866,
          54.490015909172286,
          49.49589995403355,
          46.83612079849331,
          48.01740204622918,
          46.652110725362085,
          46.02641496991078,
          47.241364822288,
          46.655458847964766,
          47.73027630205767,
          48.62459324441513,
          47.4633633300488,
          46.35870155334199,
          14.333330894768288,
          14.820066101306477,
          15.550448042693858,
          16.116956247682307,
          15.132183292892428,
          15.803220127500916,
          16.216991826989723,
          16.068395688802397,
          15.60655998419026,
          15.634195001924017,
          15.504155892010548,
          14.507267110360171,
          14.469401983620305,
          14.146970733879963
         ],
         "xaxis": "x",
         "y": [
          1.6160887824824859,
          -11.629625480063849,
          -17.39644492011338,
          -1.7408449901741438,
          17.719790886892717,
          -0.08198592859731138,
          -5.325141606615752,
          9.760185756737748,
          9.670356284536307,
          -1.083852523051468,
          -1.296852419433456,
          -8.356780684560244,
          -6.640095435018476,
          -5.926136923051002,
          -3.2366312695795583,
          -7.666639964013084,
          -14.003964494468187,
          2.960091525968301,
          18.178376525528666,
          3.528529312420642,
          -5.561683229246643,
          8.628062345349337,
          13.163702001677294,
          10.835938714035718,
          4.347572254792469,
          3.925378623435294,
          -6.095138566085758,
          -5.349322047236067,
          1.0912807600617813,
          -2.684117633788934,
          -11.117035027207939,
          5.91258875923679,
          20.877907731021313,
          7.006884352565379,
          2.24737143142375,
          11.197155544760664,
          13.020174785303576,
          13.417471271334232,
          9.394636983984043,
          -5.679084643649748,
          -12.21728406782983,
          -8.627439173594066,
          3.264728505781036,
          -12.217534142374577,
          -15.482676094562871,
          -5.078081486115629,
          21.457928247331374,
          -1.182086968413132,
          2.406416381546565,
          11.538752399548187,
          9.514417874211402,
          -0.15556593337391358,
          -3.81123523974658,
          -6.261942822944178,
          -8.551208017047472,
          -7.583138486310474
         ],
         "yaxis": "y"
        },
        {
         "customdata": [
          [
           "DNK"
          ],
          [
           "DNK"
          ],
          [
           "DNK"
          ],
          [
           "DNK"
          ],
          [
           "DNK"
          ],
          [
           "DNK"
          ],
          [
           "DNK"
          ],
          [
           "DNK"
          ],
          [
           "DNK"
          ],
          [
           "DNK"
          ],
          [
           "DNK"
          ],
          [
           "DNK"
          ],
          [
           "DNK"
          ],
          [
           "DNK"
          ],
          [
           "FIN"
          ],
          [
           "FIN"
          ],
          [
           "FIN"
          ],
          [
           "FIN"
          ],
          [
           "FIN"
          ],
          [
           "FIN"
          ],
          [
           "FIN"
          ],
          [
           "FIN"
          ],
          [
           "FIN"
          ],
          [
           "FIN"
          ],
          [
           "FIN"
          ],
          [
           "FIN"
          ],
          [
           "FIN"
          ],
          [
           "FIN"
          ],
          [
           "SWE"
          ],
          [
           "SWE"
          ],
          [
           "SWE"
          ],
          [
           "SWE"
          ],
          [
           "SWE"
          ],
          [
           "SWE"
          ],
          [
           "SWE"
          ],
          [
           "SWE"
          ],
          [
           "SWE"
          ],
          [
           "SWE"
          ],
          [
           "SWE"
          ],
          [
           "SWE"
          ],
          [
           "SWE"
          ],
          [
           "SWE"
          ]
         ],
         "hovertemplate": "color=Northern Europe<br>PC1=%{x}<br>PC3=%{y}<br>Country=%{customdata[0]}<extra></extra>",
         "legendgroup": "Northern Europe",
         "marker": {
          "color": "#00cc96",
          "symbol": "circle"
         },
         "mode": "markers",
         "name": "Northern Europe",
         "orientation": "v",
         "showlegend": true,
         "type": "scatter",
         "x": [
          13.914430772731992,
          14.080693722272144,
          16.192969012719196,
          15.55959323528748,
          14.82287841663392,
          16.520904163834125,
          16.333580874869043,
          17.72407403190927,
          17.97390918293369,
          18.764371027475374,
          19.373505828874986,
          19.960555061557777,
          20.91164754968209,
          22.204466208665327,
          4.2525707768126395,
          4.793102311735353,
          5.71286363809519,
          4.987056359311288,
          2.4303575471207446,
          3.526634842118501,
          4.105295700165382,
          3.816956987218487,
          3.877265170620949,
          5.398987980211013,
          4.877455943358446,
          5.7352916452657645,
          5.86668561237649,
          4.809497972250178,
          11.643141459098215,
          14.44288177565936,
          13.377309154258594,
          11.673135825489558,
          10.313557437889042,
          11.147179413608415,
          11.365387251148302,
          10.72192315204265,
          10.762648895536158,
          10.708893664904855,
          12.200039366206697,
          14.095510823080604,
          14.429222689773146,
          14.64050758986371
         ],
         "xaxis": "x",
         "y": [
          0.3655816885432677,
          -14.081882949546833,
          -1.0137797443352061,
          12.034180684882408,
          13.741416246349548,
          -9.664887674219404,
          -4.312472429996086,
          9.494885059978106,
          1.8245197491973382,
          2.577382233645633,
          -1.5487292311779646,
          -5.0148600386499185,
          -10.336807117092917,
          -10.480164500209165,
          -6.4773739235280825,
          -13.152527009329058,
          -12.566221316989946,
          2.660852219527784,
          20.95855202728776,
          -3.6169861269310184,
          -2.8098885913800737,
          7.786328979664316,
          8.331949436061945,
          10.32853049439174,
          10.037515196584216,
          5.281067268298316,
          -6.892144352747099,
          -7.075117050867598,
          0.8572354177590192,
          -6.978765742506924,
          -11.514231676159447,
          7.097903070065864,
          20.470067602652414,
          -10.18637483284962,
          -6.048883526355806,
          4.665029294713129,
          5.788134205673426,
          -0.9371718497334844,
          -1.0055467801370181,
          -1.6241079013760356,
          -8.896664144015906,
          -6.077448829187765
         ],
         "yaxis": "y"
        },
        {
         "customdata": [
          [
           "ESP"
          ],
          [
           "ESP"
          ],
          [
           "ESP"
          ],
          [
           "ESP"
          ],
          [
           "ESP"
          ],
          [
           "ESP"
          ],
          [
           "ESP"
          ],
          [
           "ESP"
          ],
          [
           "ESP"
          ],
          [
           "ESP"
          ],
          [
           "ESP"
          ],
          [
           "ESP"
          ],
          [
           "ESP"
          ],
          [
           "ESP"
          ],
          [
           "PRT"
          ],
          [
           "PRT"
          ],
          [
           "PRT"
          ],
          [
           "PRT"
          ],
          [
           "PRT"
          ],
          [
           "PRT"
          ],
          [
           "PRT"
          ],
          [
           "PRT"
          ],
          [
           "PRT"
          ],
          [
           "PRT"
          ],
          [
           "PRT"
          ],
          [
           "PRT"
          ],
          [
           "PRT"
          ],
          [
           "PRT"
          ]
         ],
         "hovertemplate": "color=Southwestern Europe<br>PC1=%{x}<br>PC3=%{y}<br>Country=%{customdata[0]}<extra></extra>",
         "legendgroup": "Southwestern Europe",
         "marker": {
          "color": "#ab63fa",
          "symbol": "circle"
         },
         "mode": "markers",
         "name": "Southwestern Europe",
         "orientation": "v",
         "showlegend": true,
         "type": "scatter",
         "x": [
          2.663327422584936,
          2.7014647067887463,
          3.198262732103172,
          3.5596705971687768,
          4.411261679802539,
          5.449100665724232,
          5.763405582719804,
          6.627339170419324,
          6.733434420117866,
          6.366927632376743,
          6.257864508523457,
          6.246905936209173,
          6.381139322241959,
          6.207555441849149,
          -0.398011840711422,
          -0.06013934064809803,
          0.31994344057580815,
          0.3673169902417548,
          -0.016287474679493784,
          -0.12918861190916617,
          -0.2557852316205653,
          -0.46252083578876657,
          -0.5405011268118877,
          -2.177810193913462,
          -2.6706063799313995,
          -3.131124786527006,
          -3.217024297735778,
          -3.7776817666602063
         ],
         "xaxis": "x",
         "y": [
          -7.813922302991779,
          -7.190124984501813,
          -8.553890395252031,
          13.700250313470582,
          18.552719151291775,
          7.447749944464322,
          3.7522468458303613,
          10.700160899754692,
          6.4822905906348804,
          -3.660075674460116,
          -10.466325936616112,
          -8.454703047758054,
          -11.701089378008618,
          -11.17871088046714,
          -2.8301734840238675,
          -10.878951483293372,
          -15.543594657761352,
          -8.393639459675835,
          6.185264032323882,
          -2.010922729169075,
          5.233099824454424,
          11.849200140676036,
          7.7424638654375215,
          -5.743197615092536,
          -11.342584908761925,
          -10.796730995394785,
          -15.689084515900507,
          -17.223843052017468
         ],
         "yaxis": "y"
        },
        {
         "customdata": [
          [
           "EST"
          ],
          [
           "EST"
          ],
          [
           "EST"
          ],
          [
           "EST"
          ],
          [
           "EST"
          ],
          [
           "EST"
          ],
          [
           "EST"
          ],
          [
           "EST"
          ],
          [
           "EST"
          ],
          [
           "EST"
          ],
          [
           "EST"
          ],
          [
           "EST"
          ],
          [
           "EST"
          ],
          [
           "EST"
          ],
          [
           "LTU"
          ],
          [
           "LTU"
          ],
          [
           "LTU"
          ],
          [
           "LTU"
          ],
          [
           "LTU"
          ],
          [
           "LTU"
          ],
          [
           "LTU"
          ],
          [
           "LTU"
          ],
          [
           "LTU"
          ],
          [
           "LTU"
          ],
          [
           "LTU"
          ],
          [
           "LTU"
          ],
          [
           "LTU"
          ],
          [
           "LTU"
          ],
          [
           "LVA"
          ],
          [
           "LVA"
          ],
          [
           "LVA"
          ],
          [
           "LVA"
          ],
          [
           "LVA"
          ],
          [
           "LVA"
          ],
          [
           "LVA"
          ],
          [
           "LVA"
          ],
          [
           "LVA"
          ],
          [
           "LVA"
          ],
          [
           "LVA"
          ],
          [
           "LVA"
          ],
          [
           "LVA"
          ],
          [
           "LVA"
          ]
         ],
         "hovertemplate": "color=Eastern Europe<br>PC1=%{x}<br>PC3=%{y}<br>Country=%{customdata[0]}<extra></extra>",
         "legendgroup": "Eastern Europe",
         "marker": {
          "color": "#FFA15A",
          "symbol": "circle"
         },
         "mode": "markers",
         "name": "Eastern Europe",
         "orientation": "v",
         "showlegend": true,
         "type": "scatter",
         "x": [
          -28.36980329889524,
          -27.231401339258547,
          -25.32445805134323,
          -25.866979240620484,
          -25.16998000362592,
          -24.063684773629525,
          -24.423454928914648,
          -23.395057540395804,
          -23.267959112741895,
          -21.750803322929613,
          -21.921174620440656,
          -21.423289293091862,
          -20.47585826541213,
          -18.48319918778899,
          -24.25948986353619,
          -22.92027423928463,
          -20.86166913035982,
          -19.88578442228784,
          -19.653371336197555,
          -23.17645115040437,
          -22.02486567719166,
          -21.747708972446027,
          -21.456218895216086,
          -21.417901635791594,
          -16.667970011114324,
          -17.873275206943134,
          -13.25577964032496,
          -12.989614746518965,
          -25.439115849146766,
          -23.931502078972517,
          -22.373548229737214,
          -22.720875944948705,
          -21.253885923774497,
          -20.8267201615292,
          -20.68574182345447,
          -19.320546732845774,
          -19.52422598410298,
          -18.889748589097476,
          -17.800407560283624,
          -17.382442991221993,
          -15.964127374247212,
          -15.987936803387141
         ],
         "xaxis": "x",
         "y": [
          -8.99298624155608,
          -14.963093211793868,
          -9.677656154193459,
          9.415235026780035,
          27.710889572324213,
          2.3604361300898304,
          -2.8366806987867634,
          0.17322573316528908,
          2.1533347010950172,
          4.01953211339933,
          7.421018546253044,
          2.3170826752483054,
          -6.1453030185449915,
          -1.8341295752543794,
          -4.941641979775725,
          -11.760849202961516,
          -13.115648480535292,
          3.182712439412936,
          32.221940240336906,
          13.12481690988366,
          -3.209524681525172,
          6.486874693613862,
          -0.4809374443463474,
          3.4148792909345103,
          4.1000334294807885,
          2.881242233564854,
          -1.290473779016127,
          -8.285271181649213,
          -9.687327237398796,
          -11.971984529356947,
          -11.652233490684077,
          10.032109690835833,
          31.83013982360948,
          7.1206199663946315,
          2.2725219990367806,
          -1.8791010781611361,
          -1.1375000663920027,
          0.08945724182788455,
          3.376669597212527,
          -0.673468440595287,
          -2.269132832471151,
          -1.3970130665868576
         ],
         "yaxis": "y"
        }
       ],
       "layout": {
        "legend": {
         "title": {
          "text": "color"
         },
         "tracegroupgap": 0
        },
        "template": {
         "data": {
          "bar": [
           {
            "error_x": {
             "color": "#2a3f5f"
            },
            "error_y": {
             "color": "#2a3f5f"
            },
            "marker": {
             "line": {
              "color": "#E5ECF6",
              "width": 0.5
             },
             "pattern": {
              "fillmode": "overlay",
              "size": 10,
              "solidity": 0.2
             }
            },
            "type": "bar"
           }
          ],
          "barpolar": [
           {
            "marker": {
             "line": {
              "color": "#E5ECF6",
              "width": 0.5
             },
             "pattern": {
              "fillmode": "overlay",
              "size": 10,
              "solidity": 0.2
             }
            },
            "type": "barpolar"
           }
          ],
          "carpet": [
           {
            "aaxis": {
             "endlinecolor": "#2a3f5f",
             "gridcolor": "white",
             "linecolor": "white",
             "minorgridcolor": "white",
             "startlinecolor": "#2a3f5f"
            },
            "baxis": {
             "endlinecolor": "#2a3f5f",
             "gridcolor": "white",
             "linecolor": "white",
             "minorgridcolor": "white",
             "startlinecolor": "#2a3f5f"
            },
            "type": "carpet"
           }
          ],
          "choropleth": [
           {
            "colorbar": {
             "outlinewidth": 0,
             "ticks": ""
            },
            "type": "choropleth"
           }
          ],
          "contour": [
           {
            "colorbar": {
             "outlinewidth": 0,
             "ticks": ""
            },
            "colorscale": [
             [
              0,
              "#0d0887"
             ],
             [
              0.1111111111111111,
              "#46039f"
             ],
             [
              0.2222222222222222,
              "#7201a8"
             ],
             [
              0.3333333333333333,
              "#9c179e"
             ],
             [
              0.4444444444444444,
              "#bd3786"
             ],
             [
              0.5555555555555556,
              "#d8576b"
             ],
             [
              0.6666666666666666,
              "#ed7953"
             ],
             [
              0.7777777777777778,
              "#fb9f3a"
             ],
             [
              0.8888888888888888,
              "#fdca26"
             ],
             [
              1,
              "#f0f921"
             ]
            ],
            "type": "contour"
           }
          ],
          "contourcarpet": [
           {
            "colorbar": {
             "outlinewidth": 0,
             "ticks": ""
            },
            "type": "contourcarpet"
           }
          ],
          "heatmap": [
           {
            "colorbar": {
             "outlinewidth": 0,
             "ticks": ""
            },
            "colorscale": [
             [
              0,
              "#0d0887"
             ],
             [
              0.1111111111111111,
              "#46039f"
             ],
             [
              0.2222222222222222,
              "#7201a8"
             ],
             [
              0.3333333333333333,
              "#9c179e"
             ],
             [
              0.4444444444444444,
              "#bd3786"
             ],
             [
              0.5555555555555556,
              "#d8576b"
             ],
             [
              0.6666666666666666,
              "#ed7953"
             ],
             [
              0.7777777777777778,
              "#fb9f3a"
             ],
             [
              0.8888888888888888,
              "#fdca26"
             ],
             [
              1,
              "#f0f921"
             ]
            ],
            "type": "heatmap"
           }
          ],
          "heatmapgl": [
           {
            "colorbar": {
             "outlinewidth": 0,
             "ticks": ""
            },
            "colorscale": [
             [
              0,
              "#0d0887"
             ],
             [
              0.1111111111111111,
              "#46039f"
             ],
             [
              0.2222222222222222,
              "#7201a8"
             ],
             [
              0.3333333333333333,
              "#9c179e"
             ],
             [
              0.4444444444444444,
              "#bd3786"
             ],
             [
              0.5555555555555556,
              "#d8576b"
             ],
             [
              0.6666666666666666,
              "#ed7953"
             ],
             [
              0.7777777777777778,
              "#fb9f3a"
             ],
             [
              0.8888888888888888,
              "#fdca26"
             ],
             [
              1,
              "#f0f921"
             ]
            ],
            "type": "heatmapgl"
           }
          ],
          "histogram": [
           {
            "marker": {
             "pattern": {
              "fillmode": "overlay",
              "size": 10,
              "solidity": 0.2
             }
            },
            "type": "histogram"
           }
          ],
          "histogram2d": [
           {
            "colorbar": {
             "outlinewidth": 0,
             "ticks": ""
            },
            "colorscale": [
             [
              0,
              "#0d0887"
             ],
             [
              0.1111111111111111,
              "#46039f"
             ],
             [
              0.2222222222222222,
              "#7201a8"
             ],
             [
              0.3333333333333333,
              "#9c179e"
             ],
             [
              0.4444444444444444,
              "#bd3786"
             ],
             [
              0.5555555555555556,
              "#d8576b"
             ],
             [
              0.6666666666666666,
              "#ed7953"
             ],
             [
              0.7777777777777778,
              "#fb9f3a"
             ],
             [
              0.8888888888888888,
              "#fdca26"
             ],
             [
              1,
              "#f0f921"
             ]
            ],
            "type": "histogram2d"
           }
          ],
          "histogram2dcontour": [
           {
            "colorbar": {
             "outlinewidth": 0,
             "ticks": ""
            },
            "colorscale": [
             [
              0,
              "#0d0887"
             ],
             [
              0.1111111111111111,
              "#46039f"
             ],
             [
              0.2222222222222222,
              "#7201a8"
             ],
             [
              0.3333333333333333,
              "#9c179e"
             ],
             [
              0.4444444444444444,
              "#bd3786"
             ],
             [
              0.5555555555555556,
              "#d8576b"
             ],
             [
              0.6666666666666666,
              "#ed7953"
             ],
             [
              0.7777777777777778,
              "#fb9f3a"
             ],
             [
              0.8888888888888888,
              "#fdca26"
             ],
             [
              1,
              "#f0f921"
             ]
            ],
            "type": "histogram2dcontour"
           }
          ],
          "mesh3d": [
           {
            "colorbar": {
             "outlinewidth": 0,
             "ticks": ""
            },
            "type": "mesh3d"
           }
          ],
          "parcoords": [
           {
            "line": {
             "colorbar": {
              "outlinewidth": 0,
              "ticks": ""
             }
            },
            "type": "parcoords"
           }
          ],
          "pie": [
           {
            "automargin": true,
            "type": "pie"
           }
          ],
          "scatter": [
           {
            "fillpattern": {
             "fillmode": "overlay",
             "size": 10,
             "solidity": 0.2
            },
            "type": "scatter"
           }
          ],
          "scatter3d": [
           {
            "line": {
             "colorbar": {
              "outlinewidth": 0,
              "ticks": ""
             }
            },
            "marker": {
             "colorbar": {
              "outlinewidth": 0,
              "ticks": ""
             }
            },
            "type": "scatter3d"
           }
          ],
          "scattercarpet": [
           {
            "marker": {
             "colorbar": {
              "outlinewidth": 0,
              "ticks": ""
             }
            },
            "type": "scattercarpet"
           }
          ],
          "scattergeo": [
           {
            "marker": {
             "colorbar": {
              "outlinewidth": 0,
              "ticks": ""
             }
            },
            "type": "scattergeo"
           }
          ],
          "scattergl": [
           {
            "marker": {
             "colorbar": {
              "outlinewidth": 0,
              "ticks": ""
             }
            },
            "type": "scattergl"
           }
          ],
          "scattermapbox": [
           {
            "marker": {
             "colorbar": {
              "outlinewidth": 0,
              "ticks": ""
             }
            },
            "type": "scattermapbox"
           }
          ],
          "scatterpolar": [
           {
            "marker": {
             "colorbar": {
              "outlinewidth": 0,
              "ticks": ""
             }
            },
            "type": "scatterpolar"
           }
          ],
          "scatterpolargl": [
           {
            "marker": {
             "colorbar": {
              "outlinewidth": 0,
              "ticks": ""
             }
            },
            "type": "scatterpolargl"
           }
          ],
          "scatterternary": [
           {
            "marker": {
             "colorbar": {
              "outlinewidth": 0,
              "ticks": ""
             }
            },
            "type": "scatterternary"
           }
          ],
          "surface": [
           {
            "colorbar": {
             "outlinewidth": 0,
             "ticks": ""
            },
            "colorscale": [
             [
              0,
              "#0d0887"
             ],
             [
              0.1111111111111111,
              "#46039f"
             ],
             [
              0.2222222222222222,
              "#7201a8"
             ],
             [
              0.3333333333333333,
              "#9c179e"
             ],
             [
              0.4444444444444444,
              "#bd3786"
             ],
             [
              0.5555555555555556,
              "#d8576b"
             ],
             [
              0.6666666666666666,
              "#ed7953"
             ],
             [
              0.7777777777777778,
              "#fb9f3a"
             ],
             [
              0.8888888888888888,
              "#fdca26"
             ],
             [
              1,
              "#f0f921"
             ]
            ],
            "type": "surface"
           }
          ],
          "table": [
           {
            "cells": {
             "fill": {
              "color": "#EBF0F8"
             },
             "line": {
              "color": "white"
             }
            },
            "header": {
             "fill": {
              "color": "#C8D4E3"
             },
             "line": {
              "color": "white"
             }
            },
            "type": "table"
           }
          ]
         },
         "layout": {
          "annotationdefaults": {
           "arrowcolor": "#2a3f5f",
           "arrowhead": 0,
           "arrowwidth": 1
          },
          "autotypenumbers": "strict",
          "coloraxis": {
           "colorbar": {
            "outlinewidth": 0,
            "ticks": ""
           }
          },
          "colorscale": {
           "diverging": [
            [
             0,
             "#8e0152"
            ],
            [
             0.1,
             "#c51b7d"
            ],
            [
             0.2,
             "#de77ae"
            ],
            [
             0.3,
             "#f1b6da"
            ],
            [
             0.4,
             "#fde0ef"
            ],
            [
             0.5,
             "#f7f7f7"
            ],
            [
             0.6,
             "#e6f5d0"
            ],
            [
             0.7,
             "#b8e186"
            ],
            [
             0.8,
             "#7fbc41"
            ],
            [
             0.9,
             "#4d9221"
            ],
            [
             1,
             "#276419"
            ]
           ],
           "sequential": [
            [
             0,
             "#0d0887"
            ],
            [
             0.1111111111111111,
             "#46039f"
            ],
            [
             0.2222222222222222,
             "#7201a8"
            ],
            [
             0.3333333333333333,
             "#9c179e"
            ],
            [
             0.4444444444444444,
             "#bd3786"
            ],
            [
             0.5555555555555556,
             "#d8576b"
            ],
            [
             0.6666666666666666,
             "#ed7953"
            ],
            [
             0.7777777777777778,
             "#fb9f3a"
            ],
            [
             0.8888888888888888,
             "#fdca26"
            ],
            [
             1,
             "#f0f921"
            ]
           ],
           "sequentialminus": [
            [
             0,
             "#0d0887"
            ],
            [
             0.1111111111111111,
             "#46039f"
            ],
            [
             0.2222222222222222,
             "#7201a8"
            ],
            [
             0.3333333333333333,
             "#9c179e"
            ],
            [
             0.4444444444444444,
             "#bd3786"
            ],
            [
             0.5555555555555556,
             "#d8576b"
            ],
            [
             0.6666666666666666,
             "#ed7953"
            ],
            [
             0.7777777777777778,
             "#fb9f3a"
            ],
            [
             0.8888888888888888,
             "#fdca26"
            ],
            [
             1,
             "#f0f921"
            ]
           ]
          },
          "colorway": [
           "#636efa",
           "#EF553B",
           "#00cc96",
           "#ab63fa",
           "#FFA15A",
           "#19d3f3",
           "#FF6692",
           "#B6E880",
           "#FF97FF",
           "#FECB52"
          ],
          "font": {
           "color": "#2a3f5f"
          },
          "geo": {
           "bgcolor": "white",
           "lakecolor": "white",
           "landcolor": "#E5ECF6",
           "showlakes": true,
           "showland": true,
           "subunitcolor": "white"
          },
          "hoverlabel": {
           "align": "left"
          },
          "hovermode": "closest",
          "mapbox": {
           "style": "light"
          },
          "paper_bgcolor": "white",
          "plot_bgcolor": "#E5ECF6",
          "polar": {
           "angularaxis": {
            "gridcolor": "white",
            "linecolor": "white",
            "ticks": ""
           },
           "bgcolor": "#E5ECF6",
           "radialaxis": {
            "gridcolor": "white",
            "linecolor": "white",
            "ticks": ""
           }
          },
          "scene": {
           "xaxis": {
            "backgroundcolor": "#E5ECF6",
            "gridcolor": "white",
            "gridwidth": 2,
            "linecolor": "white",
            "showbackground": true,
            "ticks": "",
            "zerolinecolor": "white"
           },
           "yaxis": {
            "backgroundcolor": "#E5ECF6",
            "gridcolor": "white",
            "gridwidth": 2,
            "linecolor": "white",
            "showbackground": true,
            "ticks": "",
            "zerolinecolor": "white"
           },
           "zaxis": {
            "backgroundcolor": "#E5ECF6",
            "gridcolor": "white",
            "gridwidth": 2,
            "linecolor": "white",
            "showbackground": true,
            "ticks": "",
            "zerolinecolor": "white"
           }
          },
          "shapedefaults": {
           "line": {
            "color": "#2a3f5f"
           }
          },
          "ternary": {
           "aaxis": {
            "gridcolor": "white",
            "linecolor": "white",
            "ticks": ""
           },
           "baxis": {
            "gridcolor": "white",
            "linecolor": "white",
            "ticks": ""
           },
           "bgcolor": "#E5ECF6",
           "caxis": {
            "gridcolor": "white",
            "linecolor": "white",
            "ticks": ""
           }
          },
          "title": {
           "x": 0.05
          },
          "xaxis": {
           "automargin": true,
           "gridcolor": "white",
           "linecolor": "white",
           "ticks": "",
           "title": {
            "standoff": 15
           },
           "zerolinecolor": "white",
           "zerolinewidth": 2
          },
          "yaxis": {
           "automargin": true,
           "gridcolor": "white",
           "linecolor": "white",
           "ticks": "",
           "title": {
            "standoff": 15
           },
           "zerolinecolor": "white",
           "zerolinewidth": 2
          }
         }
        },
        "title": {
         "text": "2D PCA Projection Coloured by country using PC1 and PC3"
        },
        "xaxis": {
         "anchor": "y",
         "domain": [
          0,
          1
         ],
         "title": {
          "text": "PC1"
         }
        },
        "yaxis": {
         "anchor": "x",
         "domain": [
          0,
          1
         ],
         "title": {
          "text": "PC3"
         }
        }
       }
      }
     },
     "metadata": {},
     "output_type": "display_data"
    }
   ],
   "source": [
    "fig = px.scatter(\n",
    "        x = comps[:,0],\n",
    "        y = comps[:,2],\n",
    "        color=subregions,\n",
    "        hover_data={\"Country\" : pca_df.index.get_level_values(0)},\n",
    "        labels = {\"x\": \"PC1\",\"y\": \"PC3\"},\n",
    "        title= \"2D PCA Projection Coloured by country using PC1 and PC3\"\n",
    ")\n",
    "fig.show()"
   ]
  },
  {
   "cell_type": "code",
   "execution_count": 247,
   "metadata": {},
   "outputs": [
    {
     "data": {
      "application/vnd.plotly.v1+json": {
       "config": {
        "plotlyServerURL": "https://plot.ly"
       },
       "data": [
        {
         "customdata": [
          [
           "AUT"
          ],
          [
           "AUT"
          ],
          [
           "AUT"
          ],
          [
           "AUT"
          ],
          [
           "AUT"
          ],
          [
           "AUT"
          ],
          [
           "AUT"
          ],
          [
           "AUT"
          ],
          [
           "AUT"
          ],
          [
           "AUT"
          ],
          [
           "AUT"
          ],
          [
           "AUT"
          ],
          [
           "AUT"
          ],
          [
           "AUT"
          ],
          [
           "CZE"
          ],
          [
           "CZE"
          ],
          [
           "CZE"
          ],
          [
           "CZE"
          ],
          [
           "CZE"
          ],
          [
           "CZE"
          ],
          [
           "CZE"
          ],
          [
           "CZE"
          ],
          [
           "CZE"
          ],
          [
           "CZE"
          ],
          [
           "CZE"
          ],
          [
           "CZE"
          ],
          [
           "CZE"
          ],
          [
           "CZE"
          ],
          [
           "DEU"
          ],
          [
           "DEU"
          ],
          [
           "DEU"
          ],
          [
           "DEU"
          ],
          [
           "DEU"
          ],
          [
           "DEU"
          ],
          [
           "DEU"
          ],
          [
           "DEU"
          ],
          [
           "DEU"
          ],
          [
           "DEU"
          ],
          [
           "DEU"
          ],
          [
           "DEU"
          ],
          [
           "DEU"
          ],
          [
           "DEU"
          ],
          [
           "HUN"
          ],
          [
           "HUN"
          ],
          [
           "HUN"
          ],
          [
           "HUN"
          ],
          [
           "HUN"
          ],
          [
           "HUN"
          ],
          [
           "HUN"
          ],
          [
           "HUN"
          ],
          [
           "HUN"
          ],
          [
           "HUN"
          ],
          [
           "HUN"
          ],
          [
           "HUN"
          ],
          [
           "HUN"
          ],
          [
           "HUN"
          ],
          [
           "POL"
          ],
          [
           "POL"
          ],
          [
           "POL"
          ],
          [
           "POL"
          ],
          [
           "POL"
          ],
          [
           "POL"
          ],
          [
           "POL"
          ],
          [
           "POL"
          ],
          [
           "POL"
          ],
          [
           "POL"
          ],
          [
           "POL"
          ],
          [
           "POL"
          ],
          [
           "POL"
          ],
          [
           "POL"
          ],
          [
           "SVK"
          ],
          [
           "SVK"
          ],
          [
           "SVK"
          ],
          [
           "SVK"
          ],
          [
           "SVK"
          ],
          [
           "SVK"
          ],
          [
           "SVK"
          ],
          [
           "SVK"
          ],
          [
           "SVK"
          ],
          [
           "SVK"
          ],
          [
           "SVK"
          ],
          [
           "SVK"
          ],
          [
           "SVK"
          ],
          [
           "SVK"
          ],
          [
           "SVN"
          ],
          [
           "SVN"
          ],
          [
           "SVN"
          ],
          [
           "SVN"
          ],
          [
           "SVN"
          ],
          [
           "SVN"
          ],
          [
           "SVN"
          ],
          [
           "SVN"
          ],
          [
           "SVN"
          ],
          [
           "SVN"
          ],
          [
           "SVN"
          ],
          [
           "SVN"
          ],
          [
           "SVN"
          ],
          [
           "SVN"
          ]
         ],
         "hovertemplate": "color=Central Europe<br>PC1=%{x}<br>PC4=%{y}<br>Country=%{customdata[0]}<extra></extra>",
         "legendgroup": "Central Europe",
         "marker": {
          "color": "#636efa",
          "symbol": "circle"
         },
         "mode": "markers",
         "name": "Central Europe",
         "orientation": "v",
         "showlegend": true,
         "type": "scatter",
         "x": [
          8.904857047887415,
          10.180592911601153,
          11.491358632904195,
          11.416976641939963,
          10.769250330181492,
          11.009171737592405,
          10.231427149527308,
          10.819542762196205,
          11.251263732548718,
          11.03420771822808,
          11.645109267388818,
          11.046965880928822,
          11.438709327159975,
          11.548381818733262,
          -24.092366106211717,
          -23.027253001747745,
          -22.654044536690026,
          -22.728155617326188,
          -20.220060587610188,
          -19.886362350056604,
          -19.313128344262626,
          -19.115217754407773,
          -19.068897677533123,
          -19.0091709073295,
          -17.275492236973808,
          -17.389592994159877,
          -16.219851107764104,
          -15.717162491026334,
          5.59457086228144,
          6.343875271287999,
          6.405384409883007,
          6.312477107479321,
          5.0923876670298,
          5.288871443817669,
          6.432138408112176,
          6.981190752986826,
          7.171027645859094,
          7.665241960811994,
          7.966551304499172,
          8.881420343101192,
          9.87316277965051,
          9.954647040038852,
          -21.97087894524156,
          -19.688818958805573,
          -18.402849029681278,
          -17.613124572145605,
          -18.44100118312744,
          -16.7100988129436,
          -15.96488353753873,
          -16.396508585646664,
          -16.63938610987229,
          -17.480029082014887,
          -17.03688726912048,
          -17.833927077383727,
          -17.096328303690658,
          -16.108158889387756,
          -26.35224834538787,
          -26.14634211037758,
          -26.79945237104389,
          -28.537495834304785,
          -27.543483721451988,
          -25.75540397911937,
          -24.570071749090538,
          -24.117629347216088,
          -23.809352013207388,
          -23.68129982450219,
          -23.1018297367076,
          -22.706476525788446,
          -21.53976283735512,
          -19.412692474047418,
          -25.069693745153607,
          -23.659989502521256,
          -21.509776037992253,
          -20.58615716669902,
          -21.764649236285553,
          -19.97720250427463,
          -18.961789847525434,
          -18.641702366960427,
          -17.612713358638356,
          -16.90522723744711,
          -15.721977828684906,
          -15.617194678044502,
          -14.52420265479009,
          -13.460910395596509,
          -12.243539343402977,
          -10.831127480275024,
          -9.823265160725734,
          -9.944612009033447,
          -12.240425505618267,
          -11.438784685757021,
          -8.782946850672328,
          -8.845583434473502,
          -9.485061691175867,
          -9.392391372928953,
          -9.565174263394026,
          -8.377301142591525,
          -6.856910357857799,
          -8.141673634975154
         ],
         "xaxis": "x",
         "y": [
          3.190881414457493,
          2.9082785633019412,
          2.148817330050607,
          1.4213978982520683,
          -0.3657120561291443,
          0.49841375833234985,
          -5.0004581200675675,
          -5.083828029799981,
          -5.415930973659296,
          -5.461240337115133,
          -5.895583078269385,
          -7.665914280905195,
          -7.432154873960578,
          -7.812594595937723,
          -5.707564857939454,
          -8.009881676583195,
          -11.669657932489418,
          -12.008244113826269,
          -0.9010873426053501,
          -0.6190533040337218,
          -0.39523184107378545,
          -0.5776339558038152,
          -0.5488415043557378,
          -0.26147733605131657,
          -0.4666563696078014,
          -0.21850237035717626,
          -0.07290643915443357,
          0.06350701972838525,
          -3.812810031676952,
          -3.2086531783823435,
          -3.793743540920665,
          -4.044497620613002,
          -3.2510351512539306,
          -4.650496510240227,
          -4.9341040382776296,
          -5.1500194547035,
          -5.484104832260829,
          -5.408806725207601,
          -5.4728848757776385,
          -5.611352877864206,
          -5.658551706419394,
          -5.7637193484425255,
          -11.796507262837155,
          -5.9399999413733875,
          -2.8147191984224786,
          -2.9483632660400074,
          -2.149851394880916,
          5.590496462369325,
          5.145777259714755,
          5.138462297814577,
          4.660044814915942,
          4.86383840472402,
          4.580744674652424,
          4.441572044594962,
          4.877765353398341,
          4.865651013421113,
          1.2446571017392747,
          1.2472271464849292,
          -2.0218098162200002,
          -9.068535230830104,
          -10.021932676773206,
          -7.956022764619753,
          -8.447508069577886,
          -8.385660103537672,
          -8.424485769805166,
          -8.796218409283771,
          -9.268745746970732,
          -9.551973730849696,
          -10.11780111644266,
          -10.55136577282515,
          -3.072094230792459,
          -2.746168680701264,
          -2.9048850086507674,
          -2.4068797675073683,
          -4.530728774952312,
          -4.116420999417512,
          -2.6371509676568596,
          -2.7068803409914683,
          -3.0132090959819235,
          -2.948645374811251,
          -2.915527720555196,
          -2.5651802360797045,
          -2.4684251517530402,
          -2.260538646034964,
          11.290478864085067,
          11.4596553766816,
          9.145047992199503,
          7.840000347044687,
          8.295390203978878,
          8.118848015419681,
          14.3051525052134,
          14.244686533232633,
          14.644675806982619,
          14.69218968097304,
          14.950626388374635,
          14.666681109764012,
          15.936515207972496,
          7.359727644539719
         ],
         "yaxis": "y"
        },
        {
         "customdata": [
          [
           "BEL"
          ],
          [
           "BEL"
          ],
          [
           "BEL"
          ],
          [
           "BEL"
          ],
          [
           "BEL"
          ],
          [
           "BEL"
          ],
          [
           "BEL"
          ],
          [
           "BEL"
          ],
          [
           "BEL"
          ],
          [
           "BEL"
          ],
          [
           "BEL"
          ],
          [
           "BEL"
          ],
          [
           "BEL"
          ],
          [
           "BEL"
          ],
          [
           "FRA"
          ],
          [
           "FRA"
          ],
          [
           "FRA"
          ],
          [
           "FRA"
          ],
          [
           "FRA"
          ],
          [
           "FRA"
          ],
          [
           "FRA"
          ],
          [
           "FRA"
          ],
          [
           "FRA"
          ],
          [
           "FRA"
          ],
          [
           "FRA"
          ],
          [
           "FRA"
          ],
          [
           "FRA"
          ],
          [
           "FRA"
          ],
          [
           "LUX"
          ],
          [
           "LUX"
          ],
          [
           "LUX"
          ],
          [
           "LUX"
          ],
          [
           "LUX"
          ],
          [
           "LUX"
          ],
          [
           "LUX"
          ],
          [
           "LUX"
          ],
          [
           "LUX"
          ],
          [
           "LUX"
          ],
          [
           "LUX"
          ],
          [
           "LUX"
          ],
          [
           "LUX"
          ],
          [
           "LUX"
          ],
          [
           "NLD"
          ],
          [
           "NLD"
          ],
          [
           "NLD"
          ],
          [
           "NLD"
          ],
          [
           "NLD"
          ],
          [
           "NLD"
          ],
          [
           "NLD"
          ],
          [
           "NLD"
          ],
          [
           "NLD"
          ],
          [
           "NLD"
          ],
          [
           "NLD"
          ],
          [
           "NLD"
          ],
          [
           "NLD"
          ],
          [
           "NLD"
          ]
         ],
         "hovertemplate": "color=Western Europe<br>PC1=%{x}<br>PC4=%{y}<br>Country=%{customdata[0]}<extra></extra>",
         "legendgroup": "Western Europe",
         "marker": {
          "color": "#EF553B",
          "symbol": "circle"
         },
         "mode": "markers",
         "name": "Western Europe",
         "orientation": "v",
         "showlegend": true,
         "type": "scatter",
         "x": [
          19.529683977790597,
          19.282324409260834,
          20.121105922408418,
          19.66532867155901,
          21.047689083061563,
          21.38564366766164,
          20.543194812301685,
          21.394213953511166,
          23.176872553403033,
          23.531285144586388,
          24.06070345014163,
          23.591508228856416,
          23.029462050136843,
          22.29254754260147,
          12.973330806141778,
          13.935292883630837,
          12.342474787599366,
          11.999325426215767,
          11.559923667723876,
          11.75529165211573,
          12.052721184170542,
          12.26723814457919,
          12.443051384731804,
          12.525651155786692,
          12.404163010567993,
          12.427338599538293,
          13.242223563154608,
          13.060861016107651,
          50.12172668667589,
          52.131481125460866,
          54.490015909172286,
          49.49589995403355,
          46.83612079849331,
          48.01740204622918,
          46.652110725362085,
          46.02641496991078,
          47.241364822288,
          46.655458847964766,
          47.73027630205767,
          48.62459324441513,
          47.4633633300488,
          46.35870155334199,
          14.333330894768288,
          14.820066101306477,
          15.550448042693858,
          16.116956247682307,
          15.132183292892428,
          15.803220127500916,
          16.216991826989723,
          16.068395688802397,
          15.60655998419026,
          15.634195001924017,
          15.504155892010548,
          14.507267110360171,
          14.469401983620305,
          14.146970733879963
         ],
         "xaxis": "x",
         "y": [
          0.8734081101619737,
          0.8992793371412922,
          1.3696633801303844,
          1.7544518789337,
          8.070102090179365,
          7.0700277867820605,
          7.1322524643020735,
          8.046410320422,
          14.123222397231057,
          13.793589839609364,
          13.157838025339942,
          12.289744025557052,
          12.665390011337633,
          11.022421105187773,
          -1.2318022674540428,
          -2.0939282772994363,
          -4.9243035869458565,
          -5.078779500559598,
          -5.057138261258171,
          -5.141178618110635,
          -4.468487405272934,
          -4.624668068004059,
          -4.28841755905279,
          -3.902397789169222,
          -4.566594395216133,
          -4.485385727416638,
          -5.202849763913535,
          -5.716404660310065,
          -4.661468594718429,
          -4.904608518701323,
          -4.970878261249622,
          -3.955289739180317,
          -2.839669829417973,
          -2.768137709829727,
          -1.3846725370464597,
          -1.8957044657865696,
          -1.409022994290395,
          -0.844594254950396,
          -1.0943875662559959,
          -0.6237925495938544,
          -1.3397018609382336,
          3.144621496442114,
          -2.8480229062797986,
          -1.6920405995893324,
          0.23774414402431696,
          0.003950186919023302,
          -0.45372339370919385,
          0.2903545506978195,
          0.07931259935420788,
          0.1560594427397541,
          -0.24190600810805,
          -0.931559886943285,
          -2.900904179993854,
          -5.173572968124479,
          -4.827835000194972,
          -4.57236276295027
         ],
         "yaxis": "y"
        },
        {
         "customdata": [
          [
           "DNK"
          ],
          [
           "DNK"
          ],
          [
           "DNK"
          ],
          [
           "DNK"
          ],
          [
           "DNK"
          ],
          [
           "DNK"
          ],
          [
           "DNK"
          ],
          [
           "DNK"
          ],
          [
           "DNK"
          ],
          [
           "DNK"
          ],
          [
           "DNK"
          ],
          [
           "DNK"
          ],
          [
           "DNK"
          ],
          [
           "DNK"
          ],
          [
           "FIN"
          ],
          [
           "FIN"
          ],
          [
           "FIN"
          ],
          [
           "FIN"
          ],
          [
           "FIN"
          ],
          [
           "FIN"
          ],
          [
           "FIN"
          ],
          [
           "FIN"
          ],
          [
           "FIN"
          ],
          [
           "FIN"
          ],
          [
           "FIN"
          ],
          [
           "FIN"
          ],
          [
           "FIN"
          ],
          [
           "FIN"
          ],
          [
           "SWE"
          ],
          [
           "SWE"
          ],
          [
           "SWE"
          ],
          [
           "SWE"
          ],
          [
           "SWE"
          ],
          [
           "SWE"
          ],
          [
           "SWE"
          ],
          [
           "SWE"
          ],
          [
           "SWE"
          ],
          [
           "SWE"
          ],
          [
           "SWE"
          ],
          [
           "SWE"
          ],
          [
           "SWE"
          ],
          [
           "SWE"
          ]
         ],
         "hovertemplate": "color=Northern Europe<br>PC1=%{x}<br>PC4=%{y}<br>Country=%{customdata[0]}<extra></extra>",
         "legendgroup": "Northern Europe",
         "marker": {
          "color": "#00cc96",
          "symbol": "circle"
         },
         "mode": "markers",
         "name": "Northern Europe",
         "orientation": "v",
         "showlegend": true,
         "type": "scatter",
         "x": [
          13.914430772731992,
          14.080693722272144,
          16.192969012719196,
          15.55959323528748,
          14.82287841663392,
          16.520904163834125,
          16.333580874869043,
          17.72407403190927,
          17.97390918293369,
          18.764371027475374,
          19.373505828874986,
          19.960555061557777,
          20.91164754968209,
          22.204466208665327,
          4.2525707768126395,
          4.793102311735353,
          5.71286363809519,
          4.987056359311288,
          2.4303575471207446,
          3.526634842118501,
          4.105295700165382,
          3.816956987218487,
          3.877265170620949,
          5.398987980211013,
          4.877455943358446,
          5.7352916452657645,
          5.86668561237649,
          4.809497972250178,
          11.643141459098215,
          14.44288177565936,
          13.377309154258594,
          11.673135825489558,
          10.313557437889042,
          11.147179413608415,
          11.365387251148302,
          10.72192315204265,
          10.762648895536158,
          10.708893664904855,
          12.200039366206697,
          14.095510823080604,
          14.429222689773146,
          14.64050758986371
         ],
         "xaxis": "x",
         "y": [
          10.542958596608981,
          10.160178797216165,
          7.2747756397710335,
          6.225304497674423,
          6.725489604235744,
          7.161776134197276,
          6.865423916684747,
          7.273849933729032,
          7.355061430246796,
          7.545505503506111,
          7.593580035767226,
          7.808199013609169,
          7.882375109160568,
          7.023837968222764,
          -1.2306357098939131,
          -2.6531419116067902,
          -5.026172338040901,
          -5.852446033409914,
          -6.380698779904829,
          -5.974490369628696,
          -5.990822492124568,
          -3.1447184472606122,
          -2.379056057141038,
          3.5308833830241366,
          1.3169116713903992,
          0.34679828480169855,
          -3.4478552333986396,
          -3.581986324808562,
          7.3011834583068955,
          5.934638373751886,
          2.2545815052014158,
          -0.9258222420317329,
          -3.095546275229875,
          -4.665974311600264,
          -5.701116887142713,
          -6.9666071361000785,
          -7.866090907826915,
          -9.615745996109588,
          -10.334436727896035,
          -0.6243921855664987,
          -0.5651738900254535,
          -0.591803154802903
         ],
         "yaxis": "y"
        },
        {
         "customdata": [
          [
           "ESP"
          ],
          [
           "ESP"
          ],
          [
           "ESP"
          ],
          [
           "ESP"
          ],
          [
           "ESP"
          ],
          [
           "ESP"
          ],
          [
           "ESP"
          ],
          [
           "ESP"
          ],
          [
           "ESP"
          ],
          [
           "ESP"
          ],
          [
           "ESP"
          ],
          [
           "ESP"
          ],
          [
           "ESP"
          ],
          [
           "ESP"
          ],
          [
           "PRT"
          ],
          [
           "PRT"
          ],
          [
           "PRT"
          ],
          [
           "PRT"
          ],
          [
           "PRT"
          ],
          [
           "PRT"
          ],
          [
           "PRT"
          ],
          [
           "PRT"
          ],
          [
           "PRT"
          ],
          [
           "PRT"
          ],
          [
           "PRT"
          ],
          [
           "PRT"
          ],
          [
           "PRT"
          ],
          [
           "PRT"
          ]
         ],
         "hovertemplate": "color=Southwestern Europe<br>PC1=%{x}<br>PC4=%{y}<br>Country=%{customdata[0]}<extra></extra>",
         "legendgroup": "Southwestern Europe",
         "marker": {
          "color": "#ab63fa",
          "symbol": "circle"
         },
         "mode": "markers",
         "name": "Southwestern Europe",
         "orientation": "v",
         "showlegend": true,
         "type": "scatter",
         "x": [
          2.663327422584936,
          2.7014647067887463,
          3.198262732103172,
          3.5596705971687768,
          4.411261679802539,
          5.449100665724232,
          5.763405582719804,
          6.627339170419324,
          6.733434420117866,
          6.366927632376743,
          6.257864508523457,
          6.246905936209173,
          6.381139322241959,
          6.207555441849149,
          -0.398011840711422,
          -0.06013934064809803,
          0.31994344057580815,
          0.3673169902417548,
          -0.016287474679493784,
          -0.12918861190916617,
          -0.2557852316205653,
          -0.46252083578876657,
          -0.5405011268118877,
          -2.177810193913462,
          -2.6706063799313995,
          -3.131124786527006,
          -3.217024297735778,
          -3.7776817666602063
         ],
         "xaxis": "x",
         "y": [
          -3.345065689290974,
          -3.1125658413398734,
          -1.8446614558298522,
          -2.3876315849769685,
          -3.1437270448741894,
          -1.009520563764465,
          -0.7546603707467262,
          -0.7978099621331334,
          -1.752860518233291,
          -1.3848377827154263,
          -1.6609003664411008,
          -1.6351970390165236,
          -1.4972457395049943,
          -0.4968142667626123,
          -5.613766205973924,
          -4.492435122147388,
          -4.956665882787267,
          -5.3188917124106885,
          -5.542593446792908,
          -6.8176738277194,
          -6.399101932762391,
          -5.787586120791273,
          -4.612742433157785,
          -3.651435986271213,
          -2.6888029735067165,
          -2.3052328463250618,
          -1.9532111276846484,
          -1.5256495682882454
         ],
         "yaxis": "y"
        },
        {
         "customdata": [
          [
           "EST"
          ],
          [
           "EST"
          ],
          [
           "EST"
          ],
          [
           "EST"
          ],
          [
           "EST"
          ],
          [
           "EST"
          ],
          [
           "EST"
          ],
          [
           "EST"
          ],
          [
           "EST"
          ],
          [
           "EST"
          ],
          [
           "EST"
          ],
          [
           "EST"
          ],
          [
           "EST"
          ],
          [
           "EST"
          ],
          [
           "LTU"
          ],
          [
           "LTU"
          ],
          [
           "LTU"
          ],
          [
           "LTU"
          ],
          [
           "LTU"
          ],
          [
           "LTU"
          ],
          [
           "LTU"
          ],
          [
           "LTU"
          ],
          [
           "LTU"
          ],
          [
           "LTU"
          ],
          [
           "LTU"
          ],
          [
           "LTU"
          ],
          [
           "LTU"
          ],
          [
           "LTU"
          ],
          [
           "LVA"
          ],
          [
           "LVA"
          ],
          [
           "LVA"
          ],
          [
           "LVA"
          ],
          [
           "LVA"
          ],
          [
           "LVA"
          ],
          [
           "LVA"
          ],
          [
           "LVA"
          ],
          [
           "LVA"
          ],
          [
           "LVA"
          ],
          [
           "LVA"
          ],
          [
           "LVA"
          ],
          [
           "LVA"
          ],
          [
           "LVA"
          ]
         ],
         "hovertemplate": "color=Eastern Europe<br>PC1=%{x}<br>PC4=%{y}<br>Country=%{customdata[0]}<extra></extra>",
         "legendgroup": "Eastern Europe",
         "marker": {
          "color": "#FFA15A",
          "symbol": "circle"
         },
         "mode": "markers",
         "name": "Eastern Europe",
         "orientation": "v",
         "showlegend": true,
         "type": "scatter",
         "x": [
          -28.36980329889524,
          -27.231401339258547,
          -25.32445805134323,
          -25.866979240620484,
          -25.16998000362592,
          -24.063684773629525,
          -24.423454928914648,
          -23.395057540395804,
          -23.267959112741895,
          -21.750803322929613,
          -21.921174620440656,
          -21.423289293091862,
          -20.47585826541213,
          -18.48319918778899,
          -24.25948986353619,
          -22.92027423928463,
          -20.86166913035982,
          -19.88578442228784,
          -19.653371336197555,
          -23.17645115040437,
          -22.02486567719166,
          -21.747708972446027,
          -21.456218895216086,
          -21.417901635791594,
          -16.667970011114324,
          -17.873275206943134,
          -13.25577964032496,
          -12.989614746518965,
          -25.439115849146766,
          -23.931502078972517,
          -22.373548229737214,
          -22.720875944948705,
          -21.253885923774497,
          -20.8267201615292,
          -20.68574182345447,
          -19.320546732845774,
          -19.52422598410298,
          -18.889748589097476,
          -17.800407560283624,
          -17.382442991221993,
          -15.964127374247212,
          -15.987936803387141
         ],
         "xaxis": "x",
         "y": [
          -6.318880022042013,
          -7.3800581193387655,
          -8.245120269091757,
          -8.859791382986572,
          -9.849180763546455,
          -8.912650685486506,
          -8.005320734080113,
          -7.300750960370416,
          -7.856873173376073,
          -8.586371737042953,
          -9.476640124469196,
          -9.37813588413822,
          -9.56470784744978,
          -11.458820248591133,
          9.073885977711141,
          6.89968506330465,
          7.706499481254137,
          9.446782779484401,
          13.847667058847174,
          -1.6322086998611884,
          -2.8418211780889617,
          -4.8586490312885005,
          -7.045775806837738,
          -10.038558221949977,
          9.266424171109835,
          7.593340772943594,
          15.580716667097747,
          14.089044276340791,
          15.627837245167914,
          15.288062110975627,
          14.232161575925748,
          12.562087298599845,
          14.480189423822518,
          17.276851713815915,
          17.186910898279752,
          17.2426848103969,
          16.720781084054945,
          15.985177956463206,
          15.313664110557722,
          14.763182580203681,
          14.535394784229418,
          12.36030260601211
         ],
         "yaxis": "y"
        }
       ],
       "layout": {
        "legend": {
         "title": {
          "text": "color"
         },
         "tracegroupgap": 0
        },
        "template": {
         "data": {
          "bar": [
           {
            "error_x": {
             "color": "#2a3f5f"
            },
            "error_y": {
             "color": "#2a3f5f"
            },
            "marker": {
             "line": {
              "color": "#E5ECF6",
              "width": 0.5
             },
             "pattern": {
              "fillmode": "overlay",
              "size": 10,
              "solidity": 0.2
             }
            },
            "type": "bar"
           }
          ],
          "barpolar": [
           {
            "marker": {
             "line": {
              "color": "#E5ECF6",
              "width": 0.5
             },
             "pattern": {
              "fillmode": "overlay",
              "size": 10,
              "solidity": 0.2
             }
            },
            "type": "barpolar"
           }
          ],
          "carpet": [
           {
            "aaxis": {
             "endlinecolor": "#2a3f5f",
             "gridcolor": "white",
             "linecolor": "white",
             "minorgridcolor": "white",
             "startlinecolor": "#2a3f5f"
            },
            "baxis": {
             "endlinecolor": "#2a3f5f",
             "gridcolor": "white",
             "linecolor": "white",
             "minorgridcolor": "white",
             "startlinecolor": "#2a3f5f"
            },
            "type": "carpet"
           }
          ],
          "choropleth": [
           {
            "colorbar": {
             "outlinewidth": 0,
             "ticks": ""
            },
            "type": "choropleth"
           }
          ],
          "contour": [
           {
            "colorbar": {
             "outlinewidth": 0,
             "ticks": ""
            },
            "colorscale": [
             [
              0,
              "#0d0887"
             ],
             [
              0.1111111111111111,
              "#46039f"
             ],
             [
              0.2222222222222222,
              "#7201a8"
             ],
             [
              0.3333333333333333,
              "#9c179e"
             ],
             [
              0.4444444444444444,
              "#bd3786"
             ],
             [
              0.5555555555555556,
              "#d8576b"
             ],
             [
              0.6666666666666666,
              "#ed7953"
             ],
             [
              0.7777777777777778,
              "#fb9f3a"
             ],
             [
              0.8888888888888888,
              "#fdca26"
             ],
             [
              1,
              "#f0f921"
             ]
            ],
            "type": "contour"
           }
          ],
          "contourcarpet": [
           {
            "colorbar": {
             "outlinewidth": 0,
             "ticks": ""
            },
            "type": "contourcarpet"
           }
          ],
          "heatmap": [
           {
            "colorbar": {
             "outlinewidth": 0,
             "ticks": ""
            },
            "colorscale": [
             [
              0,
              "#0d0887"
             ],
             [
              0.1111111111111111,
              "#46039f"
             ],
             [
              0.2222222222222222,
              "#7201a8"
             ],
             [
              0.3333333333333333,
              "#9c179e"
             ],
             [
              0.4444444444444444,
              "#bd3786"
             ],
             [
              0.5555555555555556,
              "#d8576b"
             ],
             [
              0.6666666666666666,
              "#ed7953"
             ],
             [
              0.7777777777777778,
              "#fb9f3a"
             ],
             [
              0.8888888888888888,
              "#fdca26"
             ],
             [
              1,
              "#f0f921"
             ]
            ],
            "type": "heatmap"
           }
          ],
          "heatmapgl": [
           {
            "colorbar": {
             "outlinewidth": 0,
             "ticks": ""
            },
            "colorscale": [
             [
              0,
              "#0d0887"
             ],
             [
              0.1111111111111111,
              "#46039f"
             ],
             [
              0.2222222222222222,
              "#7201a8"
             ],
             [
              0.3333333333333333,
              "#9c179e"
             ],
             [
              0.4444444444444444,
              "#bd3786"
             ],
             [
              0.5555555555555556,
              "#d8576b"
             ],
             [
              0.6666666666666666,
              "#ed7953"
             ],
             [
              0.7777777777777778,
              "#fb9f3a"
             ],
             [
              0.8888888888888888,
              "#fdca26"
             ],
             [
              1,
              "#f0f921"
             ]
            ],
            "type": "heatmapgl"
           }
          ],
          "histogram": [
           {
            "marker": {
             "pattern": {
              "fillmode": "overlay",
              "size": 10,
              "solidity": 0.2
             }
            },
            "type": "histogram"
           }
          ],
          "histogram2d": [
           {
            "colorbar": {
             "outlinewidth": 0,
             "ticks": ""
            },
            "colorscale": [
             [
              0,
              "#0d0887"
             ],
             [
              0.1111111111111111,
              "#46039f"
             ],
             [
              0.2222222222222222,
              "#7201a8"
             ],
             [
              0.3333333333333333,
              "#9c179e"
             ],
             [
              0.4444444444444444,
              "#bd3786"
             ],
             [
              0.5555555555555556,
              "#d8576b"
             ],
             [
              0.6666666666666666,
              "#ed7953"
             ],
             [
              0.7777777777777778,
              "#fb9f3a"
             ],
             [
              0.8888888888888888,
              "#fdca26"
             ],
             [
              1,
              "#f0f921"
             ]
            ],
            "type": "histogram2d"
           }
          ],
          "histogram2dcontour": [
           {
            "colorbar": {
             "outlinewidth": 0,
             "ticks": ""
            },
            "colorscale": [
             [
              0,
              "#0d0887"
             ],
             [
              0.1111111111111111,
              "#46039f"
             ],
             [
              0.2222222222222222,
              "#7201a8"
             ],
             [
              0.3333333333333333,
              "#9c179e"
             ],
             [
              0.4444444444444444,
              "#bd3786"
             ],
             [
              0.5555555555555556,
              "#d8576b"
             ],
             [
              0.6666666666666666,
              "#ed7953"
             ],
             [
              0.7777777777777778,
              "#fb9f3a"
             ],
             [
              0.8888888888888888,
              "#fdca26"
             ],
             [
              1,
              "#f0f921"
             ]
            ],
            "type": "histogram2dcontour"
           }
          ],
          "mesh3d": [
           {
            "colorbar": {
             "outlinewidth": 0,
             "ticks": ""
            },
            "type": "mesh3d"
           }
          ],
          "parcoords": [
           {
            "line": {
             "colorbar": {
              "outlinewidth": 0,
              "ticks": ""
             }
            },
            "type": "parcoords"
           }
          ],
          "pie": [
           {
            "automargin": true,
            "type": "pie"
           }
          ],
          "scatter": [
           {
            "fillpattern": {
             "fillmode": "overlay",
             "size": 10,
             "solidity": 0.2
            },
            "type": "scatter"
           }
          ],
          "scatter3d": [
           {
            "line": {
             "colorbar": {
              "outlinewidth": 0,
              "ticks": ""
             }
            },
            "marker": {
             "colorbar": {
              "outlinewidth": 0,
              "ticks": ""
             }
            },
            "type": "scatter3d"
           }
          ],
          "scattercarpet": [
           {
            "marker": {
             "colorbar": {
              "outlinewidth": 0,
              "ticks": ""
             }
            },
            "type": "scattercarpet"
           }
          ],
          "scattergeo": [
           {
            "marker": {
             "colorbar": {
              "outlinewidth": 0,
              "ticks": ""
             }
            },
            "type": "scattergeo"
           }
          ],
          "scattergl": [
           {
            "marker": {
             "colorbar": {
              "outlinewidth": 0,
              "ticks": ""
             }
            },
            "type": "scattergl"
           }
          ],
          "scattermapbox": [
           {
            "marker": {
             "colorbar": {
              "outlinewidth": 0,
              "ticks": ""
             }
            },
            "type": "scattermapbox"
           }
          ],
          "scatterpolar": [
           {
            "marker": {
             "colorbar": {
              "outlinewidth": 0,
              "ticks": ""
             }
            },
            "type": "scatterpolar"
           }
          ],
          "scatterpolargl": [
           {
            "marker": {
             "colorbar": {
              "outlinewidth": 0,
              "ticks": ""
             }
            },
            "type": "scatterpolargl"
           }
          ],
          "scatterternary": [
           {
            "marker": {
             "colorbar": {
              "outlinewidth": 0,
              "ticks": ""
             }
            },
            "type": "scatterternary"
           }
          ],
          "surface": [
           {
            "colorbar": {
             "outlinewidth": 0,
             "ticks": ""
            },
            "colorscale": [
             [
              0,
              "#0d0887"
             ],
             [
              0.1111111111111111,
              "#46039f"
             ],
             [
              0.2222222222222222,
              "#7201a8"
             ],
             [
              0.3333333333333333,
              "#9c179e"
             ],
             [
              0.4444444444444444,
              "#bd3786"
             ],
             [
              0.5555555555555556,
              "#d8576b"
             ],
             [
              0.6666666666666666,
              "#ed7953"
             ],
             [
              0.7777777777777778,
              "#fb9f3a"
             ],
             [
              0.8888888888888888,
              "#fdca26"
             ],
             [
              1,
              "#f0f921"
             ]
            ],
            "type": "surface"
           }
          ],
          "table": [
           {
            "cells": {
             "fill": {
              "color": "#EBF0F8"
             },
             "line": {
              "color": "white"
             }
            },
            "header": {
             "fill": {
              "color": "#C8D4E3"
             },
             "line": {
              "color": "white"
             }
            },
            "type": "table"
           }
          ]
         },
         "layout": {
          "annotationdefaults": {
           "arrowcolor": "#2a3f5f",
           "arrowhead": 0,
           "arrowwidth": 1
          },
          "autotypenumbers": "strict",
          "coloraxis": {
           "colorbar": {
            "outlinewidth": 0,
            "ticks": ""
           }
          },
          "colorscale": {
           "diverging": [
            [
             0,
             "#8e0152"
            ],
            [
             0.1,
             "#c51b7d"
            ],
            [
             0.2,
             "#de77ae"
            ],
            [
             0.3,
             "#f1b6da"
            ],
            [
             0.4,
             "#fde0ef"
            ],
            [
             0.5,
             "#f7f7f7"
            ],
            [
             0.6,
             "#e6f5d0"
            ],
            [
             0.7,
             "#b8e186"
            ],
            [
             0.8,
             "#7fbc41"
            ],
            [
             0.9,
             "#4d9221"
            ],
            [
             1,
             "#276419"
            ]
           ],
           "sequential": [
            [
             0,
             "#0d0887"
            ],
            [
             0.1111111111111111,
             "#46039f"
            ],
            [
             0.2222222222222222,
             "#7201a8"
            ],
            [
             0.3333333333333333,
             "#9c179e"
            ],
            [
             0.4444444444444444,
             "#bd3786"
            ],
            [
             0.5555555555555556,
             "#d8576b"
            ],
            [
             0.6666666666666666,
             "#ed7953"
            ],
            [
             0.7777777777777778,
             "#fb9f3a"
            ],
            [
             0.8888888888888888,
             "#fdca26"
            ],
            [
             1,
             "#f0f921"
            ]
           ],
           "sequentialminus": [
            [
             0,
             "#0d0887"
            ],
            [
             0.1111111111111111,
             "#46039f"
            ],
            [
             0.2222222222222222,
             "#7201a8"
            ],
            [
             0.3333333333333333,
             "#9c179e"
            ],
            [
             0.4444444444444444,
             "#bd3786"
            ],
            [
             0.5555555555555556,
             "#d8576b"
            ],
            [
             0.6666666666666666,
             "#ed7953"
            ],
            [
             0.7777777777777778,
             "#fb9f3a"
            ],
            [
             0.8888888888888888,
             "#fdca26"
            ],
            [
             1,
             "#f0f921"
            ]
           ]
          },
          "colorway": [
           "#636efa",
           "#EF553B",
           "#00cc96",
           "#ab63fa",
           "#FFA15A",
           "#19d3f3",
           "#FF6692",
           "#B6E880",
           "#FF97FF",
           "#FECB52"
          ],
          "font": {
           "color": "#2a3f5f"
          },
          "geo": {
           "bgcolor": "white",
           "lakecolor": "white",
           "landcolor": "#E5ECF6",
           "showlakes": true,
           "showland": true,
           "subunitcolor": "white"
          },
          "hoverlabel": {
           "align": "left"
          },
          "hovermode": "closest",
          "mapbox": {
           "style": "light"
          },
          "paper_bgcolor": "white",
          "plot_bgcolor": "#E5ECF6",
          "polar": {
           "angularaxis": {
            "gridcolor": "white",
            "linecolor": "white",
            "ticks": ""
           },
           "bgcolor": "#E5ECF6",
           "radialaxis": {
            "gridcolor": "white",
            "linecolor": "white",
            "ticks": ""
           }
          },
          "scene": {
           "xaxis": {
            "backgroundcolor": "#E5ECF6",
            "gridcolor": "white",
            "gridwidth": 2,
            "linecolor": "white",
            "showbackground": true,
            "ticks": "",
            "zerolinecolor": "white"
           },
           "yaxis": {
            "backgroundcolor": "#E5ECF6",
            "gridcolor": "white",
            "gridwidth": 2,
            "linecolor": "white",
            "showbackground": true,
            "ticks": "",
            "zerolinecolor": "white"
           },
           "zaxis": {
            "backgroundcolor": "#E5ECF6",
            "gridcolor": "white",
            "gridwidth": 2,
            "linecolor": "white",
            "showbackground": true,
            "ticks": "",
            "zerolinecolor": "white"
           }
          },
          "shapedefaults": {
           "line": {
            "color": "#2a3f5f"
           }
          },
          "ternary": {
           "aaxis": {
            "gridcolor": "white",
            "linecolor": "white",
            "ticks": ""
           },
           "baxis": {
            "gridcolor": "white",
            "linecolor": "white",
            "ticks": ""
           },
           "bgcolor": "#E5ECF6",
           "caxis": {
            "gridcolor": "white",
            "linecolor": "white",
            "ticks": ""
           }
          },
          "title": {
           "x": 0.05
          },
          "xaxis": {
           "automargin": true,
           "gridcolor": "white",
           "linecolor": "white",
           "ticks": "",
           "title": {
            "standoff": 15
           },
           "zerolinecolor": "white",
           "zerolinewidth": 2
          },
          "yaxis": {
           "automargin": true,
           "gridcolor": "white",
           "linecolor": "white",
           "ticks": "",
           "title": {
            "standoff": 15
           },
           "zerolinecolor": "white",
           "zerolinewidth": 2
          }
         }
        },
        "title": {
         "text": "2D PCA Projection Coloured by country using PC1 and PC4"
        },
        "xaxis": {
         "anchor": "y",
         "domain": [
          0,
          1
         ],
         "title": {
          "text": "PC1"
         }
        },
        "yaxis": {
         "anchor": "x",
         "domain": [
          0,
          1
         ],
         "title": {
          "text": "PC4"
         }
        }
       }
      }
     },
     "metadata": {},
     "output_type": "display_data"
    }
   ],
   "source": [
    "fig = px.scatter(\n",
    "        x = comps[:,0],\n",
    "        y = comps[:,3],\n",
    "        color=subregions,\n",
    "        hover_data={\"Country\" : pca_df.index.get_level_values(0)},\n",
    "        labels = {\"x\": \"PC1\",\"y\": \"PC4\"},\n",
    "        title= \"2D PCA Projection Coloured by country using PC1 and PC4\"\n",
    ")\n",
    "fig.show()"
   ]
  },
  {
   "attachments": {},
   "cell_type": "markdown",
   "metadata": {},
   "source": [
    "I have provided the principal components coloured by country too"
   ]
  },
  {
   "cell_type": "code",
   "execution_count": 248,
   "metadata": {},
   "outputs": [
    {
     "name": "stderr",
     "output_type": "stream",
     "text": [
      "e:\\Work\\ADS\\.venv\\lib\\site-packages\\sklearn\\base.py:439: UserWarning:\n",
      "\n",
      "X does not have valid feature names, but PCA was fitted with feature names\n",
      "\n"
     ]
    },
    {
     "data": {
      "application/vnd.plotly.v1+json": {
       "config": {
        "plotlyServerURL": "https://plot.ly"
       },
       "data": [
        {
         "diagonal": {
          "visible": false
         },
         "dimensions": [
          {
           "axis": {
            "matches": true
           },
           "label": "0",
           "values": [
            8.904857047887415,
            10.180592911601153,
            11.491358632904195,
            11.416976641939963,
            10.769250330181492,
            11.009171737592405,
            10.231427149527308,
            10.819542762196205,
            11.251263732548718,
            11.03420771822808,
            11.645109267388818,
            11.046965880928822,
            11.438709327159975,
            11.548381818733262
           ]
          },
          {
           "axis": {
            "matches": true
           },
           "label": "1",
           "values": [
            -2.6682151265607263,
            -4.598446589365039,
            -5.651402589117833,
            -4.19123552182092,
            -2.19988972735325,
            -6.697592841250271,
            -7.590746219639353,
            -7.7646565783515875,
            -7.322216760083233,
            -9.119001536532595,
            -9.931292628380172,
            -10.564862538874095,
            -12.963550117969557,
            -13.371638165281277
           ]
          },
          {
           "axis": {
            "matches": true
           },
           "label": "2",
           "values": [
            3.3716120519341577,
            -8.813366075609215,
            -13.553753128524447,
            4.513708887778145,
            24.522822929589825,
            -0.7992509646815337,
            0.3673005210993217,
            4.114774851755352,
            9.189899774649286,
            3.2828451205311056,
            4.79030563090207,
            1.4297143822861855,
            -10.663737383941164,
            -10.413154292691177
           ]
          },
          {
           "axis": {
            "matches": true
           },
           "label": "3",
           "values": [
            3.190881414457493,
            2.9082785633019412,
            2.148817330050607,
            1.4213978982520683,
            -0.3657120561291443,
            0.49841375833234985,
            -5.0004581200675675,
            -5.083828029799981,
            -5.415930973659296,
            -5.461240337115133,
            -5.895583078269385,
            -7.665914280905195,
            -7.432154873960578,
            -7.812594595937723
           ]
          },
          {
           "axis": {
            "matches": true
           },
           "label": "4",
           "values": [
            0.007379936049320857,
            -0.0046362765265283235,
            0.004445466860816885,
            -0.003662901065672646,
            -0.01074026250180189,
            0.022813886580246853,
            0.03290842512881043,
            0.03928097464937059,
            0.030859095851791658,
            0.013255288600206038,
            0.020303633447741318,
            -0.013697908425165205,
            -0.01034179783106025,
            -0.014035851658260495
           ]
          }
         ],
         "hovertemplate": "color=AUT<br>%{xaxis.title.text}=%{x}<br>%{yaxis.title.text}=%{y}<extra></extra>",
         "legendgroup": "AUT",
         "marker": {
          "color": "#636efa",
          "symbol": "circle"
         },
         "name": "AUT",
         "showlegend": true,
         "type": "splom"
        },
        {
         "diagonal": {
          "visible": false
         },
         "dimensions": [
          {
           "axis": {
            "matches": true
           },
           "label": "0",
           "values": [
            19.529683977790597,
            19.282324409260834,
            20.121105922408418,
            19.66532867155901,
            21.047689083061563,
            21.38564366766164,
            20.543194812301685,
            21.394213953511166,
            23.176872553403033,
            23.531285144586388,
            24.06070345014163,
            23.591508228856416,
            23.029462050136843,
            22.29254754260147
           ]
          },
          {
           "axis": {
            "matches": true
           },
           "label": "1",
           "values": [
            8.833842063246545,
            6.078620096628199,
            3.898656059017693,
            4.7265009894915835,
            7.6251343763673685,
            4.749533571557702,
            3.3681743683847594,
            5.254812509238723,
            4.855010597955932,
            2.2102655711679238,
            0.6869659067733535,
            -0.8617855245444968,
            -2.1868440604875934,
            -3.761536963390871
           ]
          },
          {
           "axis": {
            "matches": true
           },
           "label": "2",
           "values": [
            1.6160887824824859,
            -11.629625480063849,
            -17.39644492011338,
            -1.7408449901741438,
            17.719790886892717,
            -0.08198592859731138,
            -5.325141606615752,
            9.760185756737748,
            9.670356284536307,
            -1.083852523051468,
            -1.296852419433456,
            -8.356780684560244,
            -6.640095435018476,
            -5.926136923051002
           ]
          },
          {
           "axis": {
            "matches": true
           },
           "label": "3",
           "values": [
            0.8734081101619737,
            0.8992793371412922,
            1.3696633801303844,
            1.7544518789337,
            8.070102090179365,
            7.0700277867820605,
            7.1322524643020735,
            8.046410320422,
            14.123222397231057,
            13.793589839609364,
            13.157838025339942,
            12.289744025557052,
            12.665390011337633,
            11.022421105187773
           ]
          },
          {
           "axis": {
            "matches": true
           },
           "label": "4",
           "values": [
            -0.02320003416549829,
            -0.04142303912695476,
            -0.03539752757403861,
            -0.04867568879008887,
            -0.04405056159750856,
            -0.020179388946591936,
            -0.009161272421364428,
            -0.012903414452584413,
            -0.014037348512788485,
            -0.017678112025036843,
            -0.017638669100528095,
            -0.03418987217218493,
            -0.04344026036812476,
            -0.0454803758881822
           ]
          }
         ],
         "hovertemplate": "color=BEL<br>%{xaxis.title.text}=%{x}<br>%{yaxis.title.text}=%{y}<extra></extra>",
         "legendgroup": "BEL",
         "marker": {
          "color": "#EF553B",
          "symbol": "circle"
         },
         "name": "BEL",
         "showlegend": true,
         "type": "splom"
        },
        {
         "diagonal": {
          "visible": false
         },
         "dimensions": [
          {
           "axis": {
            "matches": true
           },
           "label": "0",
           "values": [
            -24.092366106211717,
            -23.027253001747745,
            -22.654044536690026,
            -22.728155617326188,
            -20.220060587610188,
            -19.886362350056604,
            -19.313128344262626,
            -19.115217754407773,
            -19.068897677533123,
            -19.0091709073295,
            -17.275492236973808,
            -17.389592994159877,
            -16.219851107764104,
            -15.717162491026334
           ]
          },
          {
           "axis": {
            "matches": true
           },
           "label": "1",
           "values": [
            -6.493246284771278,
            -8.792286496912116,
            -10.214908252783266,
            -9.134359706900351,
            -4.417461953780979,
            -7.273911618546146,
            -7.501821750709083,
            -6.84144405124053,
            -7.032735529382729,
            -9.216815030382014,
            -10.548459635424864,
            -10.536368653247797,
            -11.588841289713015,
            -12.132657969948847
           ]
          },
          {
           "axis": {
            "matches": true
           },
           "label": "2",
           "values": [
            -4.433775720469718,
            -11.241470480954531,
            -12.82479000394702,
            -2.273203501889791,
            20.41887720915619,
            5.058187009480682,
            7.202291198631498,
            13.76922564988265,
            14.704260123729451,
            2.5887085900760964,
            -2.6181714348998693,
            -1.7046941161763367,
            -3.8023725061096445,
            -5.957022658282237
           ]
          },
          {
           "axis": {
            "matches": true
           },
           "label": "3",
           "values": [
            -5.707564857939454,
            -8.009881676583195,
            -11.669657932489418,
            -12.008244113826269,
            -0.9010873426053501,
            -0.6190533040337218,
            -0.39523184107378545,
            -0.5776339558038152,
            -0.5488415043557378,
            -0.26147733605131657,
            -0.4666563696078014,
            -0.21850237035717626,
            -0.07290643915443357,
            0.06350701972838525
           ]
          },
          {
           "axis": {
            "matches": true
           },
           "label": "4",
           "values": [
            -0.01736878963590824,
            -0.02543236286925793,
            -0.023541244010451483,
            -0.01725166762620472,
            -0.020412025475946515,
            -0.0015732532972697558,
            0.0062132652394973915,
            0.007379399870184699,
            -0.0031234647559685146,
            -0.01219824752161428,
            -0.01800494538211005,
            -0.036868514260984524,
            -0.0315996608839558,
            -0.026574306537792036
           ]
          }
         ],
         "hovertemplate": "color=CZE<br>%{xaxis.title.text}=%{x}<br>%{yaxis.title.text}=%{y}<extra></extra>",
         "legendgroup": "CZE",
         "marker": {
          "color": "#00cc96",
          "symbol": "circle"
         },
         "name": "CZE",
         "showlegend": true,
         "type": "splom"
        },
        {
         "diagonal": {
          "visible": false
         },
         "dimensions": [
          {
           "axis": {
            "matches": true
           },
           "label": "0",
           "values": [
            5.59457086228144,
            6.343875271287999,
            6.405384409883007,
            6.312477107479321,
            5.0923876670298,
            5.288871443817669,
            6.432138408112176,
            6.981190752986826,
            7.171027645859094,
            7.665241960811994,
            7.966551304499172,
            8.881420343101192,
            9.87316277965051,
            9.954647040038852
           ]
          },
          {
           "axis": {
            "matches": true
           },
           "label": "1",
           "values": [
            -5.3526501081428774,
            -7.41976592142284,
            -9.401636613981845,
            -8.867759357527909,
            -5.8308838057300685,
            -10.35216573774986,
            -12.324047527504494,
            -11.179290493380485,
            -11.314876909399736,
            -12.270610964295361,
            -12.473488063543565,
            -12.469117616949525,
            -13.577920825290319,
            -13.68760261210557
           ]
          },
          {
           "axis": {
            "matches": true
           },
           "label": "2",
           "values": [
            9.462612655477452,
            -3.183665679191971,
            -6.7562121323691615,
            3.5701457393563234,
            21.768677958158893,
            -1.6652140413325005,
            -8.58989126413983,
            0.5277361948154876,
            1.2444494339767809,
            -2.8736007896699185,
            -4.26659229698275,
            -4.389398510909685,
            -9.811358656304133,
            -9.496440834516806
           ]
          },
          {
           "axis": {
            "matches": true
           },
           "label": "3",
           "values": [
            -3.812810031676952,
            -3.2086531783823435,
            -3.793743540920665,
            -4.044497620613002,
            -3.2510351512539306,
            -4.650496510240227,
            -4.9341040382776296,
            -5.1500194547035,
            -5.484104832260829,
            -5.408806725207601,
            -5.4728848757776385,
            -5.611352877864206,
            -5.658551706419394,
            -5.7637193484425255
           ]
          },
          {
           "axis": {
            "matches": true
           },
           "label": "4",
           "values": [
            0.07768931619193925,
            0.05905024658485677,
            0.06494311624191577,
            0.05423437082450075,
            0.04845481902845551,
            0.054104790729510716,
            0.053390304244828574,
            0.052599345519202576,
            0.0506653515149015,
            0.04090728041056574,
            0.043047735369543656,
            0.024732487104167276,
            0.02357252039687288,
            0.022976722855410362
           ]
          }
         ],
         "hovertemplate": "color=DEU<br>%{xaxis.title.text}=%{x}<br>%{yaxis.title.text}=%{y}<extra></extra>",
         "legendgroup": "DEU",
         "marker": {
          "color": "#ab63fa",
          "symbol": "circle"
         },
         "name": "DEU",
         "showlegend": true,
         "type": "splom"
        },
        {
         "diagonal": {
          "visible": false
         },
         "dimensions": [
          {
           "axis": {
            "matches": true
           },
           "label": "0",
           "values": [
            13.914430772731992,
            14.080693722272144,
            16.192969012719196,
            15.55959323528748,
            14.82287841663392,
            16.520904163834125,
            16.333580874869043,
            17.72407403190927,
            17.97390918293369,
            18.764371027475374,
            19.373505828874986,
            19.960555061557777,
            20.91164754968209,
            22.204466208665327
           ]
          },
          {
           "axis": {
            "matches": true
           },
           "label": "1",
           "values": [
            -3.501049678645257,
            -6.436903607509239,
            2.083173095702483,
            4.826310081186733,
            4.335515783799318,
            -0.40559378914712385,
            -1.1342284518885277,
            -0.3623245705517156,
            -1.88142004564081,
            -3.035148079224458,
            -4.679442788347886,
            -5.9640848298400115,
            -7.772602970837014,
            -8.483219064564938
           ]
          },
          {
           "axis": {
            "matches": true
           },
           "label": "2",
           "values": [
            0.3655816885432677,
            -14.081882949546833,
            -1.0137797443352061,
            12.034180684882408,
            13.741416246349548,
            -9.664887674219404,
            -4.312472429996086,
            9.494885059978106,
            1.8245197491973382,
            2.577382233645633,
            -1.5487292311779646,
            -5.0148600386499185,
            -10.336807117092917,
            -10.480164500209165
           ]
          },
          {
           "axis": {
            "matches": true
           },
           "label": "3",
           "values": [
            10.542958596608981,
            10.160178797216165,
            7.2747756397710335,
            6.225304497674423,
            6.725489604235744,
            7.161776134197276,
            6.865423916684747,
            7.273849933729032,
            7.355061430246796,
            7.545505503506111,
            7.593580035767226,
            7.808199013609169,
            7.882375109160568,
            7.023837968222764
           ]
          },
          {
           "axis": {
            "matches": true
           },
           "label": "4",
           "values": [
            0.10896907544975794,
            0.08328448139899473,
            0.07007049577710427,
            0.048004407587195,
            0.041510525151576494,
            0.04027536493211635,
            0.05009051880206771,
            0.048012025203777925,
            0.03925603743214712,
            0.022804201837198685,
            0.02531118293566869,
            0.0054154969809250076,
            -0.005431731440054936,
            -0.007352391401429606
           ]
          }
         ],
         "hovertemplate": "color=DNK<br>%{xaxis.title.text}=%{x}<br>%{yaxis.title.text}=%{y}<extra></extra>",
         "legendgroup": "DNK",
         "marker": {
          "color": "#FFA15A",
          "symbol": "circle"
         },
         "name": "DNK",
         "showlegend": true,
         "type": "splom"
        },
        {
         "diagonal": {
          "visible": false
         },
         "dimensions": [
          {
           "axis": {
            "matches": true
           },
           "label": "0",
           "values": [
            2.663327422584936,
            2.7014647067887463,
            3.198262732103172,
            3.5596705971687768,
            4.411261679802539,
            5.449100665724232,
            5.763405582719804,
            6.627339170419324,
            6.733434420117866,
            6.366927632376743,
            6.257864508523457,
            6.246905936209173,
            6.381139322241959,
            6.207555441849149
           ]
          },
          {
           "axis": {
            "matches": true
           },
           "label": "1",
           "values": [
            30.046927438888734,
            29.212463596780644,
            28.19152118474198,
            30.729608475435736,
            30.484416912003468,
            27.62781271610322,
            25.859153241319778,
            25.874273258692597,
            24.12767580900485,
            21.62611778924676,
            19.717383144783657,
            19.05512516221209,
            17.702203796486167,
            16.987710431259522
           ]
          },
          {
           "axis": {
            "matches": true
           },
           "label": "2",
           "values": [
            -7.813922302991779,
            -7.190124984501813,
            -8.553890395252031,
            13.700250313470582,
            18.552719151291775,
            7.447749944464322,
            3.7522468458303613,
            10.700160899754692,
            6.4822905906348804,
            -3.660075674460116,
            -10.466325936616112,
            -8.454703047758054,
            -11.701089378008618,
            -11.17871088046714
           ]
          },
          {
           "axis": {
            "matches": true
           },
           "label": "3",
           "values": [
            -3.345065689290974,
            -3.1125658413398734,
            -1.8446614558298522,
            -2.3876315849769685,
            -3.1437270448741894,
            -1.009520563764465,
            -0.7546603707467262,
            -0.7978099621331334,
            -1.752860518233291,
            -1.3848377827154263,
            -1.6609003664411008,
            -1.6351970390165236,
            -1.4972457395049943,
            -0.4968142667626123
           ]
          },
          {
           "axis": {
            "matches": true
           },
           "label": "4",
           "values": [
            0.01695883599379295,
            -0.0006709366511824896,
            0.0024147798961948433,
            -0.011776435080923067,
            -0.01502365970685134,
            0.006893409504028778,
            0.014276554525864262,
            0.013711279013538684,
            0.012404371404727133,
            0.007397330183509437,
            0.0108372002114988,
            -0.0013138626133927223,
            0.004279017496812735,
            0.004449683438834152
           ]
          }
         ],
         "hovertemplate": "color=ESP<br>%{xaxis.title.text}=%{x}<br>%{yaxis.title.text}=%{y}<extra></extra>",
         "legendgroup": "ESP",
         "marker": {
          "color": "#19d3f3",
          "symbol": "circle"
         },
         "name": "ESP",
         "showlegend": true,
         "type": "splom"
        },
        {
         "diagonal": {
          "visible": false
         },
         "dimensions": [
          {
           "axis": {
            "matches": true
           },
           "label": "0",
           "values": [
            -28.36980329889524,
            -27.231401339258547,
            -25.32445805134323,
            -25.866979240620484,
            -25.16998000362592,
            -24.063684773629525,
            -24.423454928914648,
            -23.395057540395804,
            -23.267959112741895,
            -21.750803322929613,
            -21.921174620440656,
            -21.423289293091862,
            -20.47585826541213,
            -18.48319918778899
           ]
          },
          {
           "axis": {
            "matches": true
           },
           "label": "1",
           "values": [
            -5.089984138659137,
            -6.022778258825674,
            -6.646661977427955,
            -3.036203793618231,
            -1.182816163520454,
            -5.598223591129176,
            -5.836605519975599,
            -6.495362584463775,
            -7.016200181113261,
            -4.766414991061896,
            -3.8805918211438906,
            -5.7337340265776655,
            -6.775397154491266,
            -7.0566067883750945
           ]
          },
          {
           "axis": {
            "matches": true
           },
           "label": "2",
           "values": [
            -8.99298624155608,
            -14.963093211793868,
            -9.677656154193459,
            9.415235026780035,
            27.710889572324213,
            2.3604361300898304,
            -2.8366806987867634,
            0.17322573316528908,
            2.1533347010950172,
            4.01953211339933,
            7.421018546253044,
            2.3170826752483054,
            -6.1453030185449915,
            -1.8341295752543794
           ]
          },
          {
           "axis": {
            "matches": true
           },
           "label": "3",
           "values": [
            -6.318880022042013,
            -7.3800581193387655,
            -8.245120269091757,
            -8.859791382986572,
            -9.849180763546455,
            -8.912650685486506,
            -8.005320734080113,
            -7.300750960370416,
            -7.856873173376073,
            -8.586371737042953,
            -9.476640124469196,
            -9.37813588413822,
            -9.56470784744978,
            -11.458820248591133
           ]
          },
          {
           "axis": {
            "matches": true
           },
           "label": "4",
           "values": [
            0.032500710662938755,
            0.022127225784897012,
            0.01723897376013921,
            -0.0023590018549635057,
            -0.020207309089034134,
            0.013037596486733484,
            0.04789773145678059,
            0.05254775354863856,
            0.041187909772726086,
            0.032917961594224006,
            0.038410754270343135,
            0.013800510219203822,
            0.008615972406122894,
            0.004650476793303478
           ]
          }
         ],
         "hovertemplate": "color=EST<br>%{xaxis.title.text}=%{x}<br>%{yaxis.title.text}=%{y}<extra></extra>",
         "legendgroup": "EST",
         "marker": {
          "color": "#FF6692",
          "symbol": "circle"
         },
         "name": "EST",
         "showlegend": true,
         "type": "splom"
        },
        {
         "diagonal": {
          "visible": false
         },
         "dimensions": [
          {
           "axis": {
            "matches": true
           },
           "label": "0",
           "values": [
            4.2525707768126395,
            4.793102311735353,
            5.71286363809519,
            4.987056359311288,
            2.4303575471207446,
            3.526634842118501,
            4.105295700165382,
            3.816956987218487,
            3.877265170620949,
            5.398987980211013,
            4.877455943358446,
            5.7352916452657645,
            5.86668561237649,
            4.809497972250178
           ]
          },
          {
           "axis": {
            "matches": true
           },
           "label": "1",
           "values": [
            -2.0842241815924694,
            -4.43396513022563,
            -6.146184344109535,
            -4.5093496915005495,
            -2.131965374645932,
            -7.093365075237741,
            -7.901974130785374,
            -6.757111440960531,
            -7.699899621930093,
            -7.104762058684569,
            -8.810885332589857,
            -10.430192593797784,
            -13.389367556625032,
            -14.108906449561028
           ]
          },
          {
           "axis": {
            "matches": true
           },
           "label": "2",
           "values": [
            -6.4773739235280825,
            -13.152527009329058,
            -12.566221316989946,
            2.660852219527784,
            20.95855202728776,
            -3.6169861269310184,
            -2.8098885913800737,
            7.786328979664316,
            8.331949436061945,
            10.32853049439174,
            10.037515196584216,
            5.281067268298316,
            -6.892144352747099,
            -7.075117050867598
           ]
          },
          {
           "axis": {
            "matches": true
           },
           "label": "3",
           "values": [
            -1.2306357098939131,
            -2.6531419116067902,
            -5.026172338040901,
            -5.852446033409914,
            -6.380698779904829,
            -5.974490369628696,
            -5.990822492124568,
            -3.1447184472606122,
            -2.379056057141038,
            3.5308833830241366,
            1.3169116713903992,
            0.34679828480169855,
            -3.4478552333986396,
            -3.581986324808562
           ]
          },
          {
           "axis": {
            "matches": true
           },
           "label": "4",
           "values": [
            0.09428832321975533,
            0.0757898928350615,
            0.06669740662575953,
            0.058185552078148316,
            0.03613274293786033,
            0.05215452453681327,
            0.05423866167060497,
            0.049670314910344994,
            0.014294173000437045,
            -0.004223276955598216,
            -0.012620410232364742,
            -0.03116609196758041,
            -0.03505496271847489,
            -0.03428711255734765
           ]
          }
         ],
         "hovertemplate": "color=FIN<br>%{xaxis.title.text}=%{x}<br>%{yaxis.title.text}=%{y}<extra></extra>",
         "legendgroup": "FIN",
         "marker": {
          "color": "#B6E880",
          "symbol": "circle"
         },
         "name": "FIN",
         "showlegend": true,
         "type": "splom"
        },
        {
         "diagonal": {
          "visible": false
         },
         "dimensions": [
          {
           "axis": {
            "matches": true
           },
           "label": "0",
           "values": [
            12.973330806141778,
            13.935292883630837,
            12.342474787599366,
            11.999325426215767,
            11.559923667723876,
            11.75529165211573,
            12.052721184170542,
            12.26723814457919,
            12.443051384731804,
            12.525651155786692,
            12.404163010567993,
            12.427338599538293,
            13.242223563154608,
            13.060861016107651
           ]
          },
          {
           "axis": {
            "matches": true
           },
           "label": "1",
           "values": [
            8.892088779672989,
            7.100492853991418,
            4.663800058228827,
            6.173542352145103,
            7.9247165892124665,
            5.020538250167811,
            2.8761288605385698,
            3.916942780034281,
            1.8147564792834454,
            -0.29876033933033147,
            -2.3558197609682723,
            -2.9456684002967317,
            -5.168288831115351,
            -6.203767122289462
           ]
          },
          {
           "axis": {
            "matches": true
           },
           "label": "2",
           "values": [
            -3.2366312695795583,
            -7.666639964013084,
            -14.003964494468187,
            2.960091525968301,
            18.178376525528666,
            3.528529312420642,
            -5.561683229246643,
            8.628062345349337,
            13.163702001677294,
            10.835938714035718,
            4.347572254792469,
            3.925378623435294,
            -6.095138566085758,
            -5.349322047236067
           ]
          },
          {
           "axis": {
            "matches": true
           },
           "label": "3",
           "values": [
            -1.2318022674540428,
            -2.0939282772994363,
            -4.9243035869458565,
            -5.078779500559598,
            -5.057138261258171,
            -5.141178618110635,
            -4.468487405272934,
            -4.624668068004059,
            -4.28841755905279,
            -3.902397789169222,
            -4.566594395216133,
            -4.485385727416638,
            -5.202849763913535,
            -5.716404660310065
           ]
          },
          {
           "axis": {
            "matches": true
           },
           "label": "4",
           "values": [
            -0.0019630915617323773,
            -0.019362502627619335,
            0.0039096278986746,
            0.0004537260765883297,
            0.001238710502755879,
            0.025494007236926835,
            0.029875030947792022,
            0.03612517631785805,
            0.02454946971756173,
            0.013915812048340751,
            0.01508275644192807,
            -0.007368450349304994,
            -0.005668672956065006,
            -0.007223591466482697
           ]
          }
         ],
         "hovertemplate": "color=FRA<br>%{xaxis.title.text}=%{x}<br>%{yaxis.title.text}=%{y}<extra></extra>",
         "legendgroup": "FRA",
         "marker": {
          "color": "#FF97FF",
          "symbol": "circle"
         },
         "name": "FRA",
         "showlegend": true,
         "type": "splom"
        },
        {
         "diagonal": {
          "visible": false
         },
         "dimensions": [
          {
           "axis": {
            "matches": true
           },
           "label": "0",
           "values": [
            -21.97087894524156,
            -19.688818958805573,
            -18.402849029681278,
            -17.613124572145605,
            -18.44100118312744,
            -16.7100988129436,
            -15.96488353753873,
            -16.396508585646664,
            -16.63938610987229,
            -17.480029082014887,
            -17.03688726912048,
            -17.833927077383727,
            -17.096328303690658,
            -16.108158889387756
           ]
          },
          {
           "axis": {
            "matches": true
           },
           "label": "1",
           "values": [
            7.5948080019060065,
            6.281436632391479,
            5.505516428539729,
            5.47956373799421,
            6.6480121774756915,
            4.219857702285666,
            4.039175780158275,
            4.679745009338433,
            2.814783606853574,
            0.6908140565157975,
            0.4493715656666496,
            0.9229335697231653,
            -1.0458078645629634,
            -2.964063440098094
           ]
          },
          {
           "axis": {
            "matches": true
           },
           "label": "2",
           "values": [
            6.194573522823731,
            4.198065042256261,
            3.822384069847512,
            9.766205785839768,
            21.247766887991308,
            1.1666420401231512,
            4.30023841636568,
            11.39071918756113,
            2.7601281771971635,
            -9.14431950160212,
            -8.72036742915125,
            -5.4389081021798935,
            -13.556413468711456,
            -17.956243664905834
           ]
          },
          {
           "axis": {
            "matches": true
           },
           "label": "3",
           "values": [
            -11.796507262837155,
            -5.9399999413733875,
            -2.8147191984224786,
            -2.9483632660400074,
            -2.149851394880916,
            5.590496462369325,
            5.145777259714755,
            5.138462297814577,
            4.660044814915942,
            4.86383840472402,
            4.580744674652424,
            4.441572044594962,
            4.877765353398341,
            4.865651013421113
           ]
          },
          {
           "axis": {
            "matches": true
           },
           "label": "4",
           "values": [
            -0.007772500912637655,
            -0.011370629686084464,
            -0.0024202141228069187,
            -0.003451948339276909,
            -0.011895959592635178,
            0.007682429428808488,
            0.010086046403048249,
            -0.0008757602062009965,
            -0.014251167390667582,
            -0.026864166093091172,
            -0.039497420892246504,
            -0.045928216503519394,
            -0.045907092097717324,
            -0.04768245282693115
           ]
          }
         ],
         "hovertemplate": "color=HUN<br>%{xaxis.title.text}=%{x}<br>%{yaxis.title.text}=%{y}<extra></extra>",
         "legendgroup": "HUN",
         "marker": {
          "color": "#FECB52",
          "symbol": "circle"
         },
         "name": "HUN",
         "showlegend": true,
         "type": "splom"
        },
        {
         "diagonal": {
          "visible": false
         },
         "dimensions": [
          {
           "axis": {
            "matches": true
           },
           "label": "0",
           "values": [
            -24.25948986353619,
            -22.92027423928463,
            -20.86166913035982,
            -19.88578442228784,
            -19.653371336197555,
            -23.17645115040437,
            -22.02486567719166,
            -21.747708972446027,
            -21.456218895216086,
            -21.417901635791594,
            -16.667970011114324,
            -17.873275206943134,
            -13.25577964032496,
            -12.989614746518965
           ]
          },
          {
           "axis": {
            "matches": true
           },
           "label": "1",
           "values": [
            -0.45012758803922426,
            -2.693245844478042,
            -4.063840096900461,
            -3.5647563042078945,
            0.8613231666218122,
            -5.347077665687515,
            -9.478936343440795,
            -9.023868873169501,
            -10.76904689409369,
            -10.79746771420464,
            -7.758704346369775,
            -9.167052509682977,
            -9.477195315368345,
            -10.94733276841914
           ]
          },
          {
           "axis": {
            "matches": true
           },
           "label": "2",
           "values": [
            -4.941641979775725,
            -11.760849202961516,
            -13.115648480535292,
            3.182712439412936,
            32.221940240336906,
            13.12481690988366,
            -3.209524681525172,
            6.486874693613862,
            -0.4809374443463474,
            3.4148792909345103,
            4.1000334294807885,
            2.881242233564854,
            -1.290473779016127,
            -8.285271181649213
           ]
          },
          {
           "axis": {
            "matches": true
           },
           "label": "3",
           "values": [
            9.073885977711141,
            6.89968506330465,
            7.706499481254137,
            9.446782779484401,
            13.847667058847174,
            -1.6322086998611884,
            -2.8418211780889617,
            -4.8586490312885005,
            -7.045775806837738,
            -10.038558221949977,
            9.266424171109835,
            7.593340772943594,
            15.580716667097747,
            14.089044276340791
           ]
          },
          {
           "axis": {
            "matches": true
           },
           "label": "4",
           "values": [
            0.02212917035593041,
            0.011354106487432264,
            0.01696596564840175,
            0.00962767953154086,
            0.00408536160342402,
            0.014190233936595367,
            0.017389094117935232,
            0.014909472221120284,
            -0.004834021860656375,
            -0.024521697485699125,
            -0.012857992612891379,
            -0.02174895079093209,
            -0.009241406002780412,
            -0.0007017706448038985
           ]
          }
         ],
         "hovertemplate": "color=LTU<br>%{xaxis.title.text}=%{x}<br>%{yaxis.title.text}=%{y}<extra></extra>",
         "legendgroup": "LTU",
         "marker": {
          "color": "#636efa",
          "symbol": "circle"
         },
         "name": "LTU",
         "showlegend": true,
         "type": "splom"
        },
        {
         "diagonal": {
          "visible": false
         },
         "dimensions": [
          {
           "axis": {
            "matches": true
           },
           "label": "0",
           "values": [
            50.12172668667589,
            52.131481125460866,
            54.490015909172286,
            49.49589995403355,
            46.83612079849331,
            48.01740204622918,
            46.652110725362085,
            46.02641496991078,
            47.241364822288,
            46.655458847964766,
            47.73027630205767,
            48.62459324441513,
            47.4633633300488,
            46.35870155334199
           ]
          },
          {
           "axis": {
            "matches": true
           },
           "label": "1",
           "values": [
            -1.3059321806233006,
            -2.083016027796204,
            -4.261018296639435,
            -2.3961081729666045,
            -9.266386495421681,
            -12.091511084069166,
            -11.641936661679923,
            -11.325762012652612,
            -13.669492083488585,
            -14.923670224891714,
            -9.424030632206533,
            -14.407393926456706,
            -13.050742962161065,
            -13.509761343752906
           ]
          },
          {
           "axis": {
            "matches": true
           },
           "label": "2",
           "values": [
            1.0912807600617813,
            -2.684117633788934,
            -11.117035027207939,
            5.91258875923679,
            20.877907731021313,
            7.006884352565379,
            2.24737143142375,
            11.197155544760664,
            13.020174785303576,
            13.417471271334232,
            9.394636983984043,
            -5.679084643649748,
            -12.21728406782983,
            -8.627439173594066
           ]
          },
          {
           "axis": {
            "matches": true
           },
           "label": "3",
           "values": [
            -4.661468594718429,
            -4.904608518701323,
            -4.970878261249622,
            -3.955289739180317,
            -2.839669829417973,
            -2.768137709829727,
            -1.3846725370464597,
            -1.8957044657865696,
            -1.409022994290395,
            -0.844594254950396,
            -1.0943875662559959,
            -0.6237925495938544,
            -1.3397018609382336,
            3.144621496442114
           ]
          },
          {
           "axis": {
            "matches": true
           },
           "label": "4",
           "values": [
            -0.07207264441218982,
            -0.07362366582881197,
            -0.0717597435169324,
            -0.08432865799165995,
            -0.08490034168723332,
            -0.07114651525496114,
            -0.06267067094889735,
            -0.06397313535982734,
            -0.06945256512490866,
            -0.08177988185452408,
            -0.07271408696614774,
            -0.09002811411876353,
            -0.08770812741418876,
            -0.08700888984249289
           ]
          }
         ],
         "hovertemplate": "color=LUX<br>%{xaxis.title.text}=%{x}<br>%{yaxis.title.text}=%{y}<extra></extra>",
         "legendgroup": "LUX",
         "marker": {
          "color": "#EF553B",
          "symbol": "circle"
         },
         "name": "LUX",
         "showlegend": true,
         "type": "splom"
        },
        {
         "diagonal": {
          "visible": false
         },
         "dimensions": [
          {
           "axis": {
            "matches": true
           },
           "label": "0",
           "values": [
            -25.439115849146766,
            -23.931502078972517,
            -22.373548229737214,
            -22.720875944948705,
            -21.253885923774497,
            -20.8267201615292,
            -20.68574182345447,
            -19.320546732845774,
            -19.52422598410298,
            -18.889748589097476,
            -17.800407560283624,
            -17.382442991221993,
            -15.964127374247212,
            -15.987936803387141
           ]
          },
          {
           "axis": {
            "matches": true
           },
           "label": "1",
           "values": [
            4.077150085180465,
            3.5385565899938545,
            2.341107704111938,
            3.8739278644480257,
            6.1678709221702634,
            1.0827467209780837,
            1.0539401624949414,
            -1.2456204523422316,
            -1.5220410206479338,
            -1.806684602732867,
            -2.442485917913672,
            -3.944594568328369,
            -4.328105554801997,
            -5.027160009885278
           ]
          },
          {
           "axis": {
            "matches": true
           },
           "label": "2",
           "values": [
            -9.687327237398796,
            -11.971984529356947,
            -11.652233490684077,
            10.032109690835833,
            31.83013982360948,
            7.1206199663946315,
            2.2725219990367806,
            -1.8791010781611361,
            -1.1375000663920027,
            0.08945724182788455,
            3.376669597212527,
            -0.673468440595287,
            -2.269132832471151,
            -1.3970130665868576
           ]
          },
          {
           "axis": {
            "matches": true
           },
           "label": "3",
           "values": [
            15.627837245167914,
            15.288062110975627,
            14.232161575925748,
            12.562087298599845,
            14.480189423822518,
            17.276851713815915,
            17.186910898279752,
            17.2426848103969,
            16.720781084054945,
            15.985177956463206,
            15.313664110557722,
            14.763182580203681,
            14.535394784229418,
            12.36030260601211
           ]
          },
          {
           "axis": {
            "matches": true
           },
           "label": "4",
           "values": [
            0.007805863038722849,
            0.004010506320149219,
            0.002306883764771919,
            -0.012248045477547145,
            -0.020838755885874072,
            -0.012175672024888269,
            -0.007439029239822749,
            0.00828732160798844,
            0.011466154520083531,
            -0.0013322393208980968,
            0.015264853811537362,
            0.003381268578796525,
            0.006669630425269145,
            0.0017509609549705447
           ]
          }
         ],
         "hovertemplate": "color=LVA<br>%{xaxis.title.text}=%{x}<br>%{yaxis.title.text}=%{y}<extra></extra>",
         "legendgroup": "LVA",
         "marker": {
          "color": "#00cc96",
          "symbol": "circle"
         },
         "name": "LVA",
         "showlegend": true,
         "type": "splom"
        },
        {
         "diagonal": {
          "visible": false
         },
         "dimensions": [
          {
           "axis": {
            "matches": true
           },
           "label": "0",
           "values": [
            14.333330894768288,
            14.820066101306477,
            15.550448042693858,
            16.116956247682307,
            15.132183292892428,
            15.803220127500916,
            16.216991826989723,
            16.068395688802397,
            15.60655998419026,
            15.634195001924017,
            15.504155892010548,
            14.507267110360171,
            14.469401983620305,
            14.146970733879963
           ]
          },
          {
           "axis": {
            "matches": true
           },
           "label": "1",
           "values": [
            6.059463314687043,
            2.6986092695604262,
            1.589960140577567,
            2.916886418122324,
            6.830696249453698,
            2.5773454585880984,
            2.832346861034737,
            3.2820112994858657,
            0.4336327808205472,
            -1.2835907953617534,
            -2.7924974455322493,
            -4.154981619485663,
            -5.805434287916643,
            -6.153881136655535
           ]
          },
          {
           "axis": {
            "matches": true
           },
           "label": "2",
           "values": [
            3.264728505781036,
            -12.217534142374577,
            -15.482676094562871,
            -5.078081486115629,
            21.457928247331374,
            -1.182086968413132,
            2.406416381546565,
            11.538752399548187,
            9.514417874211402,
            -0.15556593337391358,
            -3.81123523974658,
            -6.261942822944178,
            -8.551208017047472,
            -7.583138486310474
           ]
          },
          {
           "axis": {
            "matches": true
           },
           "label": "3",
           "values": [
            -2.8480229062797986,
            -1.6920405995893324,
            0.23774414402431696,
            0.003950186919023302,
            -0.45372339370919385,
            0.2903545506978195,
            0.07931259935420788,
            0.1560594427397541,
            -0.24190600810805,
            -0.931559886943285,
            -2.900904179993854,
            -5.173572968124479,
            -4.827835000194972,
            -4.57236276295027
           ]
          },
          {
           "axis": {
            "matches": true
           },
           "label": "4",
           "values": [
            0.0817564788822431,
            0.06494656684641653,
            0.07061793806471951,
            0.058022614788326134,
            0.04957787181957551,
            0.06069119891755437,
            0.07309480230843889,
            0.07164216705632613,
            0.060594246868877884,
            0.04269631802977815,
            0.0473147210653323,
            0.019831568651857368,
            0.02409560694725452,
            0.0252793060981294
           ]
          }
         ],
         "hovertemplate": "color=NLD<br>%{xaxis.title.text}=%{x}<br>%{yaxis.title.text}=%{y}<extra></extra>",
         "legendgroup": "NLD",
         "marker": {
          "color": "#ab63fa",
          "symbol": "circle"
         },
         "name": "NLD",
         "showlegend": true,
         "type": "splom"
        },
        {
         "diagonal": {
          "visible": false
         },
         "dimensions": [
          {
           "axis": {
            "matches": true
           },
           "label": "0",
           "values": [
            -26.35224834538787,
            -26.14634211037758,
            -26.79945237104389,
            -28.537495834304785,
            -27.543483721451988,
            -25.75540397911937,
            -24.570071749090538,
            -24.117629347216088,
            -23.809352013207388,
            -23.68129982450219,
            -23.1018297367076,
            -22.706476525788446,
            -21.53976283735512,
            -19.412692474047418
           ]
          },
          {
           "axis": {
            "matches": true
           },
           "label": "1",
           "values": [
            2.056028556969985,
            -0.22315330110620266,
            -3.281601201801193,
            -4.262692301582594,
            -1.8966663137116022,
            -4.362440814946262,
            -5.185051147564728,
            -5.276252480697469,
            -5.167109549037617,
            -6.9945447733637325,
            -7.648870740453609,
            -8.652560957647664,
            -10.704869203798514,
            -12.62409372977631
           ]
          },
          {
           "axis": {
            "matches": true
           },
           "label": "2",
           "values": [
            0.5914538946505167,
            -7.074511227848184,
            -20.11842237608981,
            -13.18676858332923,
            12.707624975106642,
            0.016693431599416563,
            0.5027820547015325,
            5.758753009560803,
            10.786326054187516,
            2.245430607562341,
            1.9130716421636114,
            0.020119324027215595,
            -4.77731196143594,
            -10.621173824070926
           ]
          },
          {
           "axis": {
            "matches": true
           },
           "label": "3",
           "values": [
            1.2446571017392747,
            1.2472271464849292,
            -2.0218098162200002,
            -9.068535230830104,
            -10.021932676773206,
            -7.956022764619753,
            -8.447508069577886,
            -8.385660103537672,
            -8.424485769805166,
            -8.796218409283771,
            -9.268745746970732,
            -9.551973730849696,
            -10.11780111644266,
            -10.55136577282515
           ]
          },
          {
           "axis": {
            "matches": true
           },
           "label": "4",
           "values": [
            -0.04492336064385071,
            -0.04698187434104121,
            -0.04038041482557898,
            -0.046660002900503164,
            -0.047151206941190474,
            -0.022827284884143786,
            -0.023614350291475118,
            -0.018643856253589514,
            -0.014787582207719925,
            -0.019720471933311858,
            -0.023532099336742086,
            -0.03598435362901934,
            -0.03868039499204993,
            -0.03944339224457071
           ]
          }
         ],
         "hovertemplate": "color=POL<br>%{xaxis.title.text}=%{x}<br>%{yaxis.title.text}=%{y}<extra></extra>",
         "legendgroup": "POL",
         "marker": {
          "color": "#FFA15A",
          "symbol": "circle"
         },
         "name": "POL",
         "showlegend": true,
         "type": "splom"
        },
        {
         "diagonal": {
          "visible": false
         },
         "dimensions": [
          {
           "axis": {
            "matches": true
           },
           "label": "0",
           "values": [
            -0.398011840711422,
            -0.06013934064809803,
            0.31994344057580815,
            0.3673169902417548,
            -0.016287474679493784,
            -0.12918861190916617,
            -0.2557852316205653,
            -0.46252083578876657,
            -0.5405011268118877,
            -2.177810193913462,
            -2.6706063799313995,
            -3.131124786527006,
            -3.217024297735778,
            -3.7776817666602063
           ]
          },
          {
           "axis": {
            "matches": true
           },
           "label": "1",
           "values": [
            55.423565906300325,
            53.096419394738575,
            52.39726807670954,
            52.4989825072726,
            53.00216664105311,
            49.35801748585004,
            47.44330013592809,
            45.719839250320085,
            42.711495626014404,
            37.63602796369404,
            35.23240254398309,
            33.597339527092586,
            31.790872522184667,
            29.885953990021186
           ]
          },
          {
           "axis": {
            "matches": true
           },
           "label": "2",
           "values": [
            -2.8301734840238675,
            -10.878951483293372,
            -15.543594657761352,
            -8.393639459675835,
            6.185264032323882,
            -2.010922729169075,
            5.233099824454424,
            11.849200140676036,
            7.7424638654375215,
            -5.743197615092536,
            -11.342584908761925,
            -10.796730995394785,
            -15.689084515900507,
            -17.223843052017468
           ]
          },
          {
           "axis": {
            "matches": true
           },
           "label": "3",
           "values": [
            -5.613766205973924,
            -4.492435122147388,
            -4.956665882787267,
            -5.3188917124106885,
            -5.542593446792908,
            -6.8176738277194,
            -6.399101932762391,
            -5.787586120791273,
            -4.612742433157785,
            -3.651435986271213,
            -2.6888029735067165,
            -2.3052328463250618,
            -1.9532111276846484,
            -1.5256495682882454
           ]
          },
          {
           "axis": {
            "matches": true
           },
           "label": "4",
           "values": [
            0.01141424656438573,
            -0.006982254709136237,
            0.0021896325945945662,
            -0.009200401757528629,
            -0.037826755281551536,
            -0.017634298779384935,
            -0.014488542433771552,
            -0.013458981048001499,
            -0.016799573434718842,
            -0.024438522898760223,
            -0.02336533428033202,
            -0.031183980936817547,
            -0.024062970261152276,
            -0.021939125555032992
           ]
          }
         ],
         "hovertemplate": "color=PRT<br>%{xaxis.title.text}=%{x}<br>%{yaxis.title.text}=%{y}<extra></extra>",
         "legendgroup": "PRT",
         "marker": {
          "color": "#19d3f3",
          "symbol": "circle"
         },
         "name": "PRT",
         "showlegend": true,
         "type": "splom"
        },
        {
         "diagonal": {
          "visible": false
         },
         "dimensions": [
          {
           "axis": {
            "matches": true
           },
           "label": "0",
           "values": [
            -25.069693745153607,
            -23.659989502521256,
            -21.509776037992253,
            -20.58615716669902,
            -21.764649236285553,
            -19.97720250427463,
            -18.961789847525434,
            -18.641702366960427,
            -17.612713358638356,
            -16.90522723744711,
            -15.721977828684906,
            -15.617194678044502,
            -14.52420265479009,
            -13.460910395596509
           ]
          },
          {
           "axis": {
            "matches": true
           },
           "label": "1",
           "values": [
            -3.86452065889794,
            -6.1356384058937845,
            -7.688380989918931,
            -6.75738186840383,
            -3.7559231405849722,
            -7.906118688151628,
            -7.216487234749646,
            -8.204856709297914,
            -7.137462658686539,
            -8.482127619832383,
            -9.446938566691296,
            -9.77695034176281,
            -9.587599466941182,
            -9.885309508182623
           ]
          },
          {
           "axis": {
            "matches": true
           },
           "label": "2",
           "values": [
            -7.364186090011034,
            -13.839427071536791,
            -17.609583327171062,
            -4.520209752986987,
            23.93892329650099,
            -0.3597071853552905,
            6.110754213283857,
            3.109587442987982,
            14.246484910220389,
            -0.02262969170065055,
            -1.3265521477490638,
            -0.26749227394706837,
            -0.6180901820616619,
            1.3232687926008506
           ]
          },
          {
           "axis": {
            "matches": true
           },
           "label": "3",
           "values": [
            -3.072094230792459,
            -2.746168680701264,
            -2.9048850086507674,
            -2.4068797675073683,
            -4.530728774952312,
            -4.116420999417512,
            -2.6371509676568596,
            -2.7068803409914683,
            -3.0132090959819235,
            -2.948645374811251,
            -2.915527720555196,
            -2.5651802360797045,
            -2.4684251517530402,
            -2.260538646034964
           ]
          },
          {
           "axis": {
            "matches": true
           },
           "label": "4",
           "values": [
            -0.05035428237648916,
            -0.06292689370327137,
            -0.04157553673022397,
            -0.05687108959778405,
            -0.0646642649159181,
            -0.03868157619260477,
            -0.04181010780367967,
            -0.034933433751307585,
            -0.04002117103049006,
            -0.0459681823002025,
            -0.048274326014986525,
            -0.05879783751749245,
            -0.05646455868142086,
            -0.06114611594688348
           ]
          }
         ],
         "hovertemplate": "color=SVK<br>%{xaxis.title.text}=%{x}<br>%{yaxis.title.text}=%{y}<extra></extra>",
         "legendgroup": "SVK",
         "marker": {
          "color": "#FF6692",
          "symbol": "circle"
         },
         "name": "SVK",
         "showlegend": true,
         "type": "splom"
        },
        {
         "diagonal": {
          "visible": false
         },
         "dimensions": [
          {
           "axis": {
            "matches": true
           },
           "label": "0",
           "values": [
            -12.243539343402977,
            -10.831127480275024,
            -9.823265160725734,
            -9.944612009033447,
            -12.240425505618267,
            -11.438784685757021,
            -8.782946850672328,
            -8.845583434473502,
            -9.485061691175867,
            -9.392391372928953,
            -9.565174263394026,
            -8.377301142591525,
            -6.856910357857799,
            -8.141673634975154
           ]
          },
          {
           "axis": {
            "matches": true
           },
           "label": "1",
           "values": [
            4.892417907751216,
            1.0570256766731059,
            0.23457977488409196,
            1.8009462840439872,
            4.3800926501071595,
            1.5001498121106547,
            1.004759847257758,
            2.5563901453229234,
            1.1731949076502177,
            -0.8796763152230485,
            -2.5354766648221565,
            -3.2836502511608208,
            -5.1383157783221485,
            -6.974547793094848
           ]
          },
          {
           "axis": {
            "matches": true
           },
           "label": "2",
           "values": [
            -1.0529461218830483,
            -14.887801676516442,
            -13.315204399445163,
            0.48775099764471996,
            21.99898654678262,
            4.5038374977075835,
            5.319750817523904,
            19.344719790251617,
            11.779901717520955,
            -0.4592769608271517,
            -4.36226156946593,
            -2.9744207412437005,
            -10.101287669950093,
            -9.951453714862536
           ]
          },
          {
           "axis": {
            "matches": true
           },
           "label": "3",
           "values": [
            11.290478864085067,
            11.4596553766816,
            9.145047992199503,
            7.840000347044687,
            8.295390203978878,
            8.118848015419681,
            14.3051525052134,
            14.244686533232633,
            14.644675806982619,
            14.69218968097304,
            14.950626388374635,
            14.666681109764012,
            15.936515207972496,
            7.359727644539719
           ]
          },
          {
           "axis": {
            "matches": true
           },
           "label": "4",
           "values": [
            0.02328389821768522,
            0.012399926679924523,
            0.008828201583664473,
            -0.009343493742127174,
            -0.013080244012780181,
            0.008605449651028213,
            0.0004668165976391475,
            -0.0029740282875322342,
            -0.002524358114401554,
            -0.018393332774797707,
            -0.019345141805352517,
            -0.03500682100875897,
            -0.027782054259626005,
            -0.031012328281021
           ]
          }
         ],
         "hovertemplate": "color=SVN<br>%{xaxis.title.text}=%{x}<br>%{yaxis.title.text}=%{y}<extra></extra>",
         "legendgroup": "SVN",
         "marker": {
          "color": "#B6E880",
          "symbol": "circle"
         },
         "name": "SVN",
         "showlegend": true,
         "type": "splom"
        },
        {
         "diagonal": {
          "visible": false
         },
         "dimensions": [
          {
           "axis": {
            "matches": true
           },
           "label": "0",
           "values": [
            11.643141459098215,
            14.44288177565936,
            13.377309154258594,
            11.673135825489558,
            10.313557437889042,
            11.147179413608415,
            11.365387251148302,
            10.72192315204265,
            10.762648895536158,
            10.708893664904855,
            12.200039366206697,
            14.095510823080604,
            14.429222689773146,
            14.64050758986371
           ]
          },
          {
           "axis": {
            "matches": true
           },
           "label": "1",
           "values": [
            -6.329671313175121,
            -3.568714521369707,
            -5.3369237447631095,
            -3.4637534824827316,
            -2.3412341438585993,
            -8.056494970836344,
            -8.180110637317888,
            -7.558140012726262,
            -8.477757053744861,
            -10.41404813437205,
            -11.678116214890009,
            -10.794761174648642,
            -12.284453150896475,
            -12.256830052953193
           ]
          },
          {
           "axis": {
            "matches": true
           },
           "label": "2",
           "values": [
            0.8572354177590192,
            -6.978765742506924,
            -11.514231676159447,
            7.097903070065864,
            20.470067602652414,
            -10.18637483284962,
            -6.048883526355806,
            4.665029294713129,
            5.788134205673426,
            -0.9371718497334844,
            -1.0055467801370181,
            -1.6241079013760356,
            -8.896664144015906,
            -6.077448829187765
           ]
          },
          {
           "axis": {
            "matches": true
           },
           "label": "3",
           "values": [
            7.3011834583068955,
            5.934638373751886,
            2.2545815052014158,
            -0.9258222420317329,
            -3.095546275229875,
            -4.665974311600264,
            -5.701116887142713,
            -6.9666071361000785,
            -7.866090907826915,
            -9.615745996109588,
            -10.334436727896035,
            -0.6243921855664987,
            -0.5651738900254535,
            -0.591803154802903
           ]
          },
          {
           "axis": {
            "matches": true
           },
           "label": "4",
           "values": [
            0.10702519186373614,
            0.07901149768287685,
            0.057998910542823495,
            0.04088996556589738,
            0.030906603781192234,
            0.04845296624119102,
            0.05025754887005644,
            0.03802125609828648,
            0.023102237960007165,
            0.004315467895300371,
            0.0018186674628498066,
            -0.015843248316065726,
            -0.012717694303016726,
            -0.021536239926432443
           ]
          }
         ],
         "hovertemplate": "color=SWE<br>%{xaxis.title.text}=%{x}<br>%{yaxis.title.text}=%{y}<extra></extra>",
         "legendgroup": "SWE",
         "marker": {
          "color": "#FF97FF",
          "symbol": "circle"
         },
         "name": "SWE",
         "showlegend": true,
         "type": "splom"
        }
       ],
       "layout": {
        "dragmode": "select",
        "legend": {
         "title": {
          "text": "color"
         },
         "tracegroupgap": 0
        },
        "margin": {
         "t": 60
        },
        "template": {
         "data": {
          "bar": [
           {
            "error_x": {
             "color": "#2a3f5f"
            },
            "error_y": {
             "color": "#2a3f5f"
            },
            "marker": {
             "line": {
              "color": "#E5ECF6",
              "width": 0.5
             },
             "pattern": {
              "fillmode": "overlay",
              "size": 10,
              "solidity": 0.2
             }
            },
            "type": "bar"
           }
          ],
          "barpolar": [
           {
            "marker": {
             "line": {
              "color": "#E5ECF6",
              "width": 0.5
             },
             "pattern": {
              "fillmode": "overlay",
              "size": 10,
              "solidity": 0.2
             }
            },
            "type": "barpolar"
           }
          ],
          "carpet": [
           {
            "aaxis": {
             "endlinecolor": "#2a3f5f",
             "gridcolor": "white",
             "linecolor": "white",
             "minorgridcolor": "white",
             "startlinecolor": "#2a3f5f"
            },
            "baxis": {
             "endlinecolor": "#2a3f5f",
             "gridcolor": "white",
             "linecolor": "white",
             "minorgridcolor": "white",
             "startlinecolor": "#2a3f5f"
            },
            "type": "carpet"
           }
          ],
          "choropleth": [
           {
            "colorbar": {
             "outlinewidth": 0,
             "ticks": ""
            },
            "type": "choropleth"
           }
          ],
          "contour": [
           {
            "colorbar": {
             "outlinewidth": 0,
             "ticks": ""
            },
            "colorscale": [
             [
              0,
              "#0d0887"
             ],
             [
              0.1111111111111111,
              "#46039f"
             ],
             [
              0.2222222222222222,
              "#7201a8"
             ],
             [
              0.3333333333333333,
              "#9c179e"
             ],
             [
              0.4444444444444444,
              "#bd3786"
             ],
             [
              0.5555555555555556,
              "#d8576b"
             ],
             [
              0.6666666666666666,
              "#ed7953"
             ],
             [
              0.7777777777777778,
              "#fb9f3a"
             ],
             [
              0.8888888888888888,
              "#fdca26"
             ],
             [
              1,
              "#f0f921"
             ]
            ],
            "type": "contour"
           }
          ],
          "contourcarpet": [
           {
            "colorbar": {
             "outlinewidth": 0,
             "ticks": ""
            },
            "type": "contourcarpet"
           }
          ],
          "heatmap": [
           {
            "colorbar": {
             "outlinewidth": 0,
             "ticks": ""
            },
            "colorscale": [
             [
              0,
              "#0d0887"
             ],
             [
              0.1111111111111111,
              "#46039f"
             ],
             [
              0.2222222222222222,
              "#7201a8"
             ],
             [
              0.3333333333333333,
              "#9c179e"
             ],
             [
              0.4444444444444444,
              "#bd3786"
             ],
             [
              0.5555555555555556,
              "#d8576b"
             ],
             [
              0.6666666666666666,
              "#ed7953"
             ],
             [
              0.7777777777777778,
              "#fb9f3a"
             ],
             [
              0.8888888888888888,
              "#fdca26"
             ],
             [
              1,
              "#f0f921"
             ]
            ],
            "type": "heatmap"
           }
          ],
          "heatmapgl": [
           {
            "colorbar": {
             "outlinewidth": 0,
             "ticks": ""
            },
            "colorscale": [
             [
              0,
              "#0d0887"
             ],
             [
              0.1111111111111111,
              "#46039f"
             ],
             [
              0.2222222222222222,
              "#7201a8"
             ],
             [
              0.3333333333333333,
              "#9c179e"
             ],
             [
              0.4444444444444444,
              "#bd3786"
             ],
             [
              0.5555555555555556,
              "#d8576b"
             ],
             [
              0.6666666666666666,
              "#ed7953"
             ],
             [
              0.7777777777777778,
              "#fb9f3a"
             ],
             [
              0.8888888888888888,
              "#fdca26"
             ],
             [
              1,
              "#f0f921"
             ]
            ],
            "type": "heatmapgl"
           }
          ],
          "histogram": [
           {
            "marker": {
             "pattern": {
              "fillmode": "overlay",
              "size": 10,
              "solidity": 0.2
             }
            },
            "type": "histogram"
           }
          ],
          "histogram2d": [
           {
            "colorbar": {
             "outlinewidth": 0,
             "ticks": ""
            },
            "colorscale": [
             [
              0,
              "#0d0887"
             ],
             [
              0.1111111111111111,
              "#46039f"
             ],
             [
              0.2222222222222222,
              "#7201a8"
             ],
             [
              0.3333333333333333,
              "#9c179e"
             ],
             [
              0.4444444444444444,
              "#bd3786"
             ],
             [
              0.5555555555555556,
              "#d8576b"
             ],
             [
              0.6666666666666666,
              "#ed7953"
             ],
             [
              0.7777777777777778,
              "#fb9f3a"
             ],
             [
              0.8888888888888888,
              "#fdca26"
             ],
             [
              1,
              "#f0f921"
             ]
            ],
            "type": "histogram2d"
           }
          ],
          "histogram2dcontour": [
           {
            "colorbar": {
             "outlinewidth": 0,
             "ticks": ""
            },
            "colorscale": [
             [
              0,
              "#0d0887"
             ],
             [
              0.1111111111111111,
              "#46039f"
             ],
             [
              0.2222222222222222,
              "#7201a8"
             ],
             [
              0.3333333333333333,
              "#9c179e"
             ],
             [
              0.4444444444444444,
              "#bd3786"
             ],
             [
              0.5555555555555556,
              "#d8576b"
             ],
             [
              0.6666666666666666,
              "#ed7953"
             ],
             [
              0.7777777777777778,
              "#fb9f3a"
             ],
             [
              0.8888888888888888,
              "#fdca26"
             ],
             [
              1,
              "#f0f921"
             ]
            ],
            "type": "histogram2dcontour"
           }
          ],
          "mesh3d": [
           {
            "colorbar": {
             "outlinewidth": 0,
             "ticks": ""
            },
            "type": "mesh3d"
           }
          ],
          "parcoords": [
           {
            "line": {
             "colorbar": {
              "outlinewidth": 0,
              "ticks": ""
             }
            },
            "type": "parcoords"
           }
          ],
          "pie": [
           {
            "automargin": true,
            "type": "pie"
           }
          ],
          "scatter": [
           {
            "fillpattern": {
             "fillmode": "overlay",
             "size": 10,
             "solidity": 0.2
            },
            "type": "scatter"
           }
          ],
          "scatter3d": [
           {
            "line": {
             "colorbar": {
              "outlinewidth": 0,
              "ticks": ""
             }
            },
            "marker": {
             "colorbar": {
              "outlinewidth": 0,
              "ticks": ""
             }
            },
            "type": "scatter3d"
           }
          ],
          "scattercarpet": [
           {
            "marker": {
             "colorbar": {
              "outlinewidth": 0,
              "ticks": ""
             }
            },
            "type": "scattercarpet"
           }
          ],
          "scattergeo": [
           {
            "marker": {
             "colorbar": {
              "outlinewidth": 0,
              "ticks": ""
             }
            },
            "type": "scattergeo"
           }
          ],
          "scattergl": [
           {
            "marker": {
             "colorbar": {
              "outlinewidth": 0,
              "ticks": ""
             }
            },
            "type": "scattergl"
           }
          ],
          "scattermapbox": [
           {
            "marker": {
             "colorbar": {
              "outlinewidth": 0,
              "ticks": ""
             }
            },
            "type": "scattermapbox"
           }
          ],
          "scatterpolar": [
           {
            "marker": {
             "colorbar": {
              "outlinewidth": 0,
              "ticks": ""
             }
            },
            "type": "scatterpolar"
           }
          ],
          "scatterpolargl": [
           {
            "marker": {
             "colorbar": {
              "outlinewidth": 0,
              "ticks": ""
             }
            },
            "type": "scatterpolargl"
           }
          ],
          "scatterternary": [
           {
            "marker": {
             "colorbar": {
              "outlinewidth": 0,
              "ticks": ""
             }
            },
            "type": "scatterternary"
           }
          ],
          "surface": [
           {
            "colorbar": {
             "outlinewidth": 0,
             "ticks": ""
            },
            "colorscale": [
             [
              0,
              "#0d0887"
             ],
             [
              0.1111111111111111,
              "#46039f"
             ],
             [
              0.2222222222222222,
              "#7201a8"
             ],
             [
              0.3333333333333333,
              "#9c179e"
             ],
             [
              0.4444444444444444,
              "#bd3786"
             ],
             [
              0.5555555555555556,
              "#d8576b"
             ],
             [
              0.6666666666666666,
              "#ed7953"
             ],
             [
              0.7777777777777778,
              "#fb9f3a"
             ],
             [
              0.8888888888888888,
              "#fdca26"
             ],
             [
              1,
              "#f0f921"
             ]
            ],
            "type": "surface"
           }
          ],
          "table": [
           {
            "cells": {
             "fill": {
              "color": "#EBF0F8"
             },
             "line": {
              "color": "white"
             }
            },
            "header": {
             "fill": {
              "color": "#C8D4E3"
             },
             "line": {
              "color": "white"
             }
            },
            "type": "table"
           }
          ]
         },
         "layout": {
          "annotationdefaults": {
           "arrowcolor": "#2a3f5f",
           "arrowhead": 0,
           "arrowwidth": 1
          },
          "autotypenumbers": "strict",
          "coloraxis": {
           "colorbar": {
            "outlinewidth": 0,
            "ticks": ""
           }
          },
          "colorscale": {
           "diverging": [
            [
             0,
             "#8e0152"
            ],
            [
             0.1,
             "#c51b7d"
            ],
            [
             0.2,
             "#de77ae"
            ],
            [
             0.3,
             "#f1b6da"
            ],
            [
             0.4,
             "#fde0ef"
            ],
            [
             0.5,
             "#f7f7f7"
            ],
            [
             0.6,
             "#e6f5d0"
            ],
            [
             0.7,
             "#b8e186"
            ],
            [
             0.8,
             "#7fbc41"
            ],
            [
             0.9,
             "#4d9221"
            ],
            [
             1,
             "#276419"
            ]
           ],
           "sequential": [
            [
             0,
             "#0d0887"
            ],
            [
             0.1111111111111111,
             "#46039f"
            ],
            [
             0.2222222222222222,
             "#7201a8"
            ],
            [
             0.3333333333333333,
             "#9c179e"
            ],
            [
             0.4444444444444444,
             "#bd3786"
            ],
            [
             0.5555555555555556,
             "#d8576b"
            ],
            [
             0.6666666666666666,
             "#ed7953"
            ],
            [
             0.7777777777777778,
             "#fb9f3a"
            ],
            [
             0.8888888888888888,
             "#fdca26"
            ],
            [
             1,
             "#f0f921"
            ]
           ],
           "sequentialminus": [
            [
             0,
             "#0d0887"
            ],
            [
             0.1111111111111111,
             "#46039f"
            ],
            [
             0.2222222222222222,
             "#7201a8"
            ],
            [
             0.3333333333333333,
             "#9c179e"
            ],
            [
             0.4444444444444444,
             "#bd3786"
            ],
            [
             0.5555555555555556,
             "#d8576b"
            ],
            [
             0.6666666666666666,
             "#ed7953"
            ],
            [
             0.7777777777777778,
             "#fb9f3a"
            ],
            [
             0.8888888888888888,
             "#fdca26"
            ],
            [
             1,
             "#f0f921"
            ]
           ]
          },
          "colorway": [
           "#636efa",
           "#EF553B",
           "#00cc96",
           "#ab63fa",
           "#FFA15A",
           "#19d3f3",
           "#FF6692",
           "#B6E880",
           "#FF97FF",
           "#FECB52"
          ],
          "font": {
           "color": "#2a3f5f"
          },
          "geo": {
           "bgcolor": "white",
           "lakecolor": "white",
           "landcolor": "#E5ECF6",
           "showlakes": true,
           "showland": true,
           "subunitcolor": "white"
          },
          "hoverlabel": {
           "align": "left"
          },
          "hovermode": "closest",
          "mapbox": {
           "style": "light"
          },
          "paper_bgcolor": "white",
          "plot_bgcolor": "#E5ECF6",
          "polar": {
           "angularaxis": {
            "gridcolor": "white",
            "linecolor": "white",
            "ticks": ""
           },
           "bgcolor": "#E5ECF6",
           "radialaxis": {
            "gridcolor": "white",
            "linecolor": "white",
            "ticks": ""
           }
          },
          "scene": {
           "xaxis": {
            "backgroundcolor": "#E5ECF6",
            "gridcolor": "white",
            "gridwidth": 2,
            "linecolor": "white",
            "showbackground": true,
            "ticks": "",
            "zerolinecolor": "white"
           },
           "yaxis": {
            "backgroundcolor": "#E5ECF6",
            "gridcolor": "white",
            "gridwidth": 2,
            "linecolor": "white",
            "showbackground": true,
            "ticks": "",
            "zerolinecolor": "white"
           },
           "zaxis": {
            "backgroundcolor": "#E5ECF6",
            "gridcolor": "white",
            "gridwidth": 2,
            "linecolor": "white",
            "showbackground": true,
            "ticks": "",
            "zerolinecolor": "white"
           }
          },
          "shapedefaults": {
           "line": {
            "color": "#2a3f5f"
           }
          },
          "ternary": {
           "aaxis": {
            "gridcolor": "white",
            "linecolor": "white",
            "ticks": ""
           },
           "baxis": {
            "gridcolor": "white",
            "linecolor": "white",
            "ticks": ""
           },
           "bgcolor": "#E5ECF6",
           "caxis": {
            "gridcolor": "white",
            "linecolor": "white",
            "ticks": ""
           }
          },
          "title": {
           "x": 0.05
          },
          "xaxis": {
           "automargin": true,
           "gridcolor": "white",
           "linecolor": "white",
           "ticks": "",
           "title": {
            "standoff": 15
           },
           "zerolinecolor": "white",
           "zerolinewidth": 2
          },
          "yaxis": {
           "automargin": true,
           "gridcolor": "white",
           "linecolor": "white",
           "ticks": "",
           "title": {
            "standoff": 15
           },
           "zerolinecolor": "white",
           "zerolinewidth": 2
          }
         }
        }
       }
      }
     },
     "metadata": {},
     "output_type": "display_data"
    }
   ],
   "source": [
    "comps = my_pca.transform(pca_arr)\n",
    "fig = px.scatter_matrix(\n",
    "    comps,\n",
    "    labels=[\"PC1\",\"PC2\",\"PC3\",\"PC4\",\"PC5\"],\n",
    "    color=pca_df.index.get_level_values(0),\n",
    "    dimensions = range(5),\n",
    "\n",
    ")\n",
    "fig.update_traces(diagonal_visible = False)\n",
    "fig.show()\n",
    "\n"
   ]
  }
 ],
 "metadata": {
  "kernelspec": {
   "display_name": ".venv",
   "language": "python",
   "name": "python3"
  },
  "language_info": {
   "codemirror_mode": {
    "name": "ipython",
    "version": 3
   },
   "file_extension": ".py",
   "mimetype": "text/x-python",
   "name": "python",
   "nbconvert_exporter": "python",
   "pygments_lexer": "ipython3",
   "version": "3.10.11"
  },
  "orig_nbformat": 4
 },
 "nbformat": 4,
 "nbformat_minor": 2
}
