{
 "cells": [
  {
   "cell_type": "code",
   "execution_count": 376,
   "metadata": {},
   "outputs": [],
   "source": [
    "import math\n",
    "import pandas as pd\n",
    "import matplotlib.pyplot as plt\n",
    "import numpy as np\n",
    "import sys\n",
    "import os"
   ]
  },
  {
   "cell_type": "code",
   "execution_count": 377,
   "metadata": {},
   "outputs": [],
   "source": [
    "dataDirectory = \"../Datasets/LFS_Composition.csv\"\n",
    "rawData = pd.read_csv(dataDirectory, header=0, nrows=None)"
   ]
  },
  {
   "cell_type": "code",
   "execution_count": 378,
   "metadata": {},
   "outputs": [],
   "source": [
    "# splits the data into two distinct dataFrames: one with labour force percentage values and another with employment percentage values\n",
    "\n",
    "dataWithEmploymentShares = rawData.copy()\n",
    "dataWithLabourShares = rawData.copy()\n",
    "\n",
    "for row in range(rawData.shape[0]):\n",
    "    if \"employment\" in rawData.iloc[row]['Series']:\n",
    "        dataWithLabourShares.drop(row, axis=0, inplace=True)\n",
    "    else:\n",
    "        dataWithEmploymentShares.drop(row, axis=0, inplace=True)\n",
    "\n",
    "dataWithEmploymentShares.reset_index(inplace=True, drop=True)\n",
    "dataWithLabourShares.reset_index(inplace=True, drop=True)"
   ]
  },
  {
   "cell_type": "code",
   "execution_count": 379,
   "metadata": {},
   "outputs": [],
   "source": [
    "# puts the data in an easier to use format (each row contains a specific country's age group employment percentage values throughout time)\n",
    "\n",
    "table = pd.pivot_table(dataWithEmploymentShares, index=['COUNTRY', 'AGE'], columns='TIME', values='Value')\n",
    "table = table.reset_index().rename_axis(None, axis=1)\n",
    "\n",
    "table.to_csv('../Datasets/lfsPivotted.csv', index=False)\n",
    "pivottedDataDirectory = \"../Datasets/lfsPivotted.csv\"\n",
    "pivottedData = pd.read_csv(pivottedDataDirectory, header=0, nrows=None)\n",
    "os.remove('../Datasets/lfsPivotted.csv')"
   ]
  },
  {
   "cell_type": "code",
   "execution_count": 380,
   "metadata": {},
   "outputs": [],
   "source": [
    "# removes rows with more NaNs than actual values\n",
    "\n",
    "dataWithoutNans = pivottedData.copy()\n",
    "\n",
    "for row in range(pivottedData.shape[0]):\n",
    "    countNa = 0\n",
    "    for column in range(2, pivottedData.shape[1]):\n",
    "        if math.isnan(pivottedData.iloc[row][column]):\n",
    "            countNa += 1\n",
    "\n",
    "    if countNa >= math.floor(pivottedData.shape[1]/2):\n",
    "        dataWithoutNans.drop(row, axis=0, inplace=True)\n",
    "\n",
    "dataWithoutNans.reset_index(inplace=True, drop=True)"
   ]
  },
  {
   "cell_type": "code",
   "execution_count": 381,
   "metadata": {},
   "outputs": [
    {
     "data": {
      "text/plain": [
       "'for index, ageGroup in enumerate(ageGroups):\\n    print(ageGroup + \" - \" + str(ageGroupCount[index]))'"
      ]
     },
     "execution_count": 381,
     "metadata": {},
     "output_type": "execute_result"
    }
   ],
   "source": [
    "# detects which countries do not contain all the age groups up to 74 years of age\n",
    "\n",
    "ageGroupCount = np.zeros(24)\n",
    "ageGroups = ['1519', '1524', '2024', '2529', '2534', '2539', '3034', '3039', '3539', '3544', '4044', '4049', '4549', '4554', '5054', '5059', '5559', '5564', '6064', '6569', '6574', '7074', '7579', '8084']\n",
    "countriesToBeRemoved = set()\n",
    "\n",
    "for country in dataWithoutNans['COUNTRY'].unique():\n",
    "    countryData = dataWithoutNans.loc[dataWithoutNans['COUNTRY'] == country]\n",
    "\n",
    "    for ageGroup in range(countryData.shape[0]):\n",
    "        currentAgeGroup = str(countryData.iloc[ageGroup][1])\n",
    "        if currentAgeGroup in ageGroups:\n",
    "            ageGroupCount[ageGroups.index(currentAgeGroup)] += 1\n",
    "\n",
    "    if not int(6569) in countryData['AGE'].unique():\n",
    "        #print(\"6569 missing country: \" + country)\n",
    "        countriesToBeRemoved.add(country)\n",
    "\n",
    "    if not int(7074) in countryData['AGE'].unique():\n",
    "        #print(\"7074 missing countries: \" + country)\n",
    "        countriesToBeRemoved.add(country)\n",
    "\n",
    "\"\"\"for index, ageGroup in enumerate(ageGroups):\n",
    "    print(ageGroup + \" - \" + str(ageGroupCount[index]))\"\"\""
   ]
  },
  {
   "cell_type": "code",
   "execution_count": 382,
   "metadata": {},
   "outputs": [
    {
     "data": {
      "text/plain": [
       "'for index, ageGroup in enumerate(ageGroups):\\n    print(ageGroup + \" - \" + str(ageGroupCount[index]))'"
      ]
     },
     "execution_count": 382,
     "metadata": {},
     "output_type": "execute_result"
    }
   ],
   "source": [
    "# drops countries that do not have 6569 and 7074 data as well as all the occurrences of 7579 data, instead of dropping 6569, 7074 and 7579 (due to not all the countries containing that data)\n",
    "\n",
    "dataWithConsistentAgeGroups = dataWithoutNans.copy()\n",
    "\n",
    "for country in countriesToBeRemoved:\n",
    "    indicesToDrop = dataWithoutNans[dataWithoutNans.COUNTRY == country].index\n",
    "    dataWithConsistentAgeGroups.drop(indicesToDrop, inplace=True)\n",
    "\n",
    "indicesToDrop = dataWithoutNans[dataWithoutNans.AGE == 7579].index\n",
    "dataWithConsistentAgeGroups.drop(indicesToDrop, inplace=True)\n",
    "\n",
    "dataWithConsistentAgeGroups.reset_index(inplace=True, drop=True)\n",
    "\n",
    "ageGroupCount = np.zeros(24)\n",
    "\n",
    "for country in dataWithConsistentAgeGroups['COUNTRY'].unique():\n",
    "    countryData = dataWithConsistentAgeGroups.loc[dataWithConsistentAgeGroups['COUNTRY'] == country]\n",
    "\n",
    "    for ageGroup in range(countryData.shape[0]):\n",
    "        currentAgeGroup = str(countryData.iloc[ageGroup][1])\n",
    "        if currentAgeGroup in ageGroups:\n",
    "            ageGroupCount[ageGroups.index(currentAgeGroup)] += 1\n",
    "\n",
    "\"\"\"for index, ageGroup in enumerate(ageGroups):\n",
    "    print(ageGroup + \" - \" + str(ageGroupCount[index]))\"\"\""
   ]
  },
  {
   "cell_type": "code",
   "execution_count": 383,
   "metadata": {},
   "outputs": [],
   "source": [
    "# inferes remaining NaNs from the nearest (past or future) rate of change\n",
    "\n",
    "dataWithInferences = dataWithConsistentAgeGroups.copy()\n",
    "\n",
    "#print(dataWithInferences.iloc[47])\n",
    "\n",
    "for row in range(dataWithConsistentAgeGroups.shape[0]):\n",
    "    foundFirstValidEntry = False\n",
    "    tracebackColumns = []\n",
    "    for column in range(2, dataWithConsistentAgeGroups.shape[1]):\n",
    "        if math.isnan(dataWithConsistentAgeGroups.iloc[row][column]):\n",
    "            if not foundFirstValidEntry:\n",
    "                tracebackColumns.append(column)\n",
    "            else:\n",
    "                previousValue = dataWithInferences.iloc[row, column-1]\n",
    "                previousPreviousValue = dataWithInferences.iloc[row, column-2]\n",
    "                previousGrowthRate = (previousValue - previousPreviousValue)/(previousPreviousValue)\n",
    "                dataWithInferences.iloc[row, column] = previousValue * (1 + previousGrowthRate)\n",
    "        else:\n",
    "            if not foundFirstValidEntry:\n",
    "                foundFirstValidEntry = True\n",
    "                currentValue = dataWithConsistentAgeGroups.iloc[row][column]\n",
    "                nextValue = dataWithConsistentAgeGroups.iloc[row, column+1]\n",
    "                tracebackColumns.reverse()\n",
    "\n",
    "                if math.isnan(nextValue):\n",
    "                    for tracebackColumn in tracebackColumns:\n",
    "                        dataWithInferences.iloc[row, tracebackColumn] = currentValue\n",
    "                else:\n",
    "                    subsequentGrowthRate = (currentValue - nextValue)/(nextValue)\n",
    "                    for index, tracebackColumn in enumerate(tracebackColumns):\n",
    "                        dataWithInferences.iloc[row, tracebackColumn] = dataWithInferences.iloc[row, tracebackColumn+1] * (1 + subsequentGrowthRate)\n",
    "\n",
    "#print(dataWithInferences.iloc[47])"
   ]
  },
  {
   "cell_type": "code",
   "execution_count": 384,
   "metadata": {},
   "outputs": [
    {
     "name": "stderr",
     "output_type": "stream",
     "text": [
      "/var/folders/jv/flhd9_611gvdf13cfv1w9t640000gn/T/ipykernel_3817/2293701592.py:32: FutureWarning: The frame.append method is deprecated and will be removed from pandas in a future version. Use pandas.concat instead.\n",
      "  cleanedData = cleanedData.append(df, ignore_index=True)\n"
     ]
    }
   ],
   "source": [
    "# calculates the target variable (50-74 share of employment in each country) and plots each country's labour force composition throughout time\n",
    "\n",
    "cleanedData = dataWithInferences\n",
    "numberOfRows = cleanedData.shape[0]\n",
    "numberOfColumns = cleanedData.shape[1]\n",
    "\n",
    "colors = plt.cm.tab20(np.linspace(0, 1, len(cleanedData['AGE'].unique())+1))\n",
    "\n",
    "for country in cleanedData['COUNTRY'].unique():\n",
    "    #plt.figure(figsize=(15, 5))\n",
    "\n",
    "    countryData = cleanedData.loc[cleanedData['COUNTRY'] == country]\n",
    "\n",
    "    startIndex50over = sys.maxsize\n",
    "    aggregated50overShare = np.zeros(len(countryData.columns[2:]))\n",
    "\n",
    "    for ageGroup in range(countryData.shape[0]):\n",
    "        #plt.plot(np.array(cleanedData.columns[2:]), countryData.iloc[ageGroup][2:], label=countryData.iloc[ageGroup][1], color=colors[ageGroup])\n",
    "        \n",
    "        if str(countryData.iloc[ageGroup][1]).startswith('50'):\n",
    "            startIndex50over = ageGroup\n",
    "\n",
    "        if ageGroup >= startIndex50over:\n",
    "            aggregated50overShare += countryData.iloc[ageGroup][2:]\n",
    "\n",
    "    #plt.plot(np.array(cleanedData.columns[2:]), aggregated50overShare, label='50+', color=colors[-1])\n",
    "\n",
    "    aggregated50overShareIndices = np.array([country, '5074'])\n",
    "    aggregated50overShare = np.concatenate((aggregated50overShareIndices, aggregated50overShare))\n",
    "    aggregated50overShare = aggregated50overShare.reshape(1, -1)\n",
    "    df = pd.DataFrame(aggregated50overShare, columns=cleanedData.columns)\n",
    "    cleanedData = cleanedData.append(df, ignore_index=True)\n",
    "    \n",
    "    \"\"\"plt.grid()\n",
    "    plt.legend(bbox_to_anchor=(1.0, 1.0), loc='best')\n",
    "    plt.xlabel('Year') \n",
    "    plt.ylabel('Nominal labour productivity per hour worked') \n",
    "    plt.title(\"Labour productivity per hour worked - \" + country)\n",
    "\n",
    "    plt.show()\"\"\""
   ]
  },
  {
   "cell_type": "code",
   "execution_count": 385,
   "metadata": {},
   "outputs": [],
   "source": [
    "# reads the cleaned productivity dataset\n",
    "\n",
    "productivityPreprocessedDataDirectory = '../Datasets/cleaned_Productivity.csv'\n",
    "cleanedProductivityData = pd.read_csv(productivityPreprocessedDataDirectory, header=0, nrows=None)\n",
    "cleanedProductivityData.rename(columns={'LOCATION': 'COUNTRY'}, inplace=True)"
   ]
  },
  {
   "cell_type": "code",
   "execution_count": 386,
   "metadata": {},
   "outputs": [],
   "source": [
    "# extracts the target variable rows from the whole labour force composition dataset\n",
    "\n",
    "compatibleData = pd.DataFrame(columns=cleanedData.columns)\n",
    "\n",
    "for country in cleanedData['COUNTRY'].unique():\n",
    "    country50overData = cleanedData.loc[cleanedData['COUNTRY'] == country].iloc[-1]\n",
    "\n",
    "    df = pd.DataFrame([country50overData], columns=cleanedData.columns)\n",
    "    compatibleData = pd.concat([compatibleData, df])"
   ]
  },
  {
   "cell_type": "code",
   "execution_count": 387,
   "metadata": {},
   "outputs": [],
   "source": [
    "# drops the 'AGE' column because it is not needed anymore, we only have one unique value in it: 5074\n",
    "\n",
    "compatibleData = compatibleData.drop(['AGE'], axis=1)\n",
    "compatibleData = compatibleData.reset_index(drop=True)"
   ]
  },
  {
   "cell_type": "code",
   "execution_count": 388,
   "metadata": {},
   "outputs": [],
   "source": [
    "# plots each country's productivity and 50-74 share of employment and calculates their correlation\n",
    "\n",
    "correlationByCountry = []\n",
    "\n",
    "for country in compatibleData['COUNTRY'].unique():\n",
    "    if country in cleanedProductivityData['COUNTRY'].unique():\n",
    "        countryProductivity = np.array(cleanedProductivityData.loc[cleanedProductivityData['COUNTRY'] == country].iloc[0][1:-1]).astype(float)\n",
    "        country50overEmploymentShare = np.array(compatibleData.loc[compatibleData['COUNTRY'] == country].iloc[0][1:]).astype(float)\n",
    "\n",
    "        correlation = np.corrcoef(countryProductivity, country50overEmploymentShare)[0][1]\n",
    "        #print(correlation)\n",
    "        correlationByCountry.append(correlation)\n",
    "\n",
    "        \"\"\"plt.figure(figsize=(20, 10))\n",
    "        plt.plot(cleanedProductivityData.columns[1:-1], countryProductivity/max(countryProductivity), c='black', label='Productivity (normalised GDP per hour worked)')\n",
    "        plt.plot(cleanedProductivityData.columns[1:-1], country50overEmploymentShare/max(country50overEmploymentShare), c='red', label='Employment 50+ share (normalised %)')\n",
    "        \n",
    "        plt.grid()\n",
    "        plt.legend()\n",
    "        plt.xlabel('Country code') \n",
    "        plt.ylabel('Nominal labour productivity per hour worked') \n",
    "        plt.title(\"Mean labour productivity per hour worked per country - from 2005 to 2021 (inclusive)\")\n",
    "\n",
    "        plt.show()\"\"\""
   ]
  },
  {
   "cell_type": "code",
   "execution_count": 389,
   "metadata": {},
   "outputs": [
    {
     "name": "stdout",
     "output_type": "stream",
     "text": [
      "Number of countries in both datasets: 40\n",
      "Mean correlation between each country's 50-74 share of employment and GDP per hour worked (productivity): 0.8368687133365385\n"
     ]
    }
   ],
   "source": [
    "print(\"Number of countries in both datasets: \" + str(len(correlationByCountry)))\n",
    "print(\"Mean correlation between each country's 50-74 share of employment and GDP per hour worked (productivity): \" + str(np.mean(correlationByCountry)))"
   ]
  },
  {
   "cell_type": "code",
   "execution_count": 390,
   "metadata": {},
   "outputs": [],
   "source": [
    "# saves the cleaned labour force composition dataset under the Datasets folder\n",
    "\n",
    "cleanedData.to_csv(\"../Datasets/cleaned_LFS.csv\", index=False)"
   ]
  }
 ],
 "metadata": {
  "kernelspec": {
   "display_name": "AppliedDataScience",
   "language": "python",
   "name": "python3"
  },
  "language_info": {
   "codemirror_mode": {
    "name": "ipython",
    "version": 3
   },
   "file_extension": ".py",
   "mimetype": "text/x-python",
   "name": "python",
   "nbconvert_exporter": "python",
   "pygments_lexer": "ipython3",
   "version": "3.11.0"
  },
  "orig_nbformat": 4
 },
 "nbformat": 4,
 "nbformat_minor": 2
}
