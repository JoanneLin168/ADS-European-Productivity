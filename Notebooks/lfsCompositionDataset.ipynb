{
 "cells": [
  {
   "cell_type": "code",
   "execution_count": 1,
   "metadata": {},
   "outputs": [],
   "source": [
    "import math\n",
    "import pandas as pd\n",
    "import matplotlib.pyplot as plt\n",
    "import numpy as np"
   ]
  },
  {
   "cell_type": "code",
   "execution_count": 2,
   "metadata": {},
   "outputs": [
    {
     "name": "stdout",
     "output_type": "stream",
     "text": [
      "(28141, 15)\n",
      "COUNTRY                       AUS\n",
      "Country                 Australia\n",
      "SEX                            MW\n",
      "Sex                   All persons\n",
      "AGE                          1519\n",
      "Age                      15 to 19\n",
      "SERIES                      PER_E\n",
      "Series        Share of employment\n",
      "FREQUENCY                       A\n",
      "Frequency                  Annual\n",
      "TIME                         2000\n",
      "Time                         2000\n",
      "Value                    7.257096\n",
      "Flag Codes                    NaN\n",
      "Flags                         NaN\n",
      "Name: 0, dtype: object\n"
     ]
    }
   ],
   "source": [
    "# removes whitespace from all the entries\n",
    "\n",
    "dataDirectory = \"../Data/LFS Composition.csv\"\n",
    "rawData = pd.read_csv(dataDirectory, header=0, nrows=None)\n",
    "print(rawData.shape)\n",
    "print(rawData.iloc[0])"
   ]
  }
 ],
 "metadata": {
  "kernelspec": {
   "display_name": "AppliedDataScience",
   "language": "python",
   "name": "python3"
  },
  "language_info": {
   "codemirror_mode": {
    "name": "ipython",
    "version": 3
   },
   "file_extension": ".py",
   "mimetype": "text/x-python",
   "name": "python",
   "nbconvert_exporter": "python",
   "pygments_lexer": "ipython3",
   "version": "3.11.0"
  },
  "orig_nbformat": 4
 },
 "nbformat": 4,
 "nbformat_minor": 2
}
